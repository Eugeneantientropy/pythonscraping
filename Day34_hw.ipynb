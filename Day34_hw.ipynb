{
 "cells": [
  {
   "cell_type": "markdown",
   "metadata": {},
   "source": [
    "# 動態網頁爬蟲 - 使用 Selenium\n",
    "\n",
    "* 了解 Selenium 用於動態網頁爬蟲的原理\n",
    "* 能夠使用 Selenium 撰寫動態網頁爬蟲"
   ]
  },
  {
   "cell_type": "markdown",
   "metadata": {},
   "source": [
    "## 作業目標\n",
    "\n",
    "1. 根據範例使用 selenuim 取出 Hahow 網站中所有課程的資料，並用一個適合的資料結構儲存（Hint: 將所有資料存在一個變數當中取出）\n",
    "2. 剛剛的做法只能取出第一頁，試著取出所有頁面的資料。\n",
    "\n"
   ]
  },
  {
   "cell_type": "markdown",
   "metadata": {},
   "source": [
    "### 1. 根據範例使用 selenuim 取出 Hahow 網站中所有課程的資料，並用一個適合的資料結構儲存\n",
    "（Hint: 將所有資料存在一個變數當中取出）"
   ]
  },
  {
   "cell_type": "code",
   "execution_count": 4,
   "metadata": {},
   "outputs": [
    {
     "name": "stdout",
     "output_type": "stream",
     "text": [
      "Requirement already satisfied: selenium in c:\\users\\a7890\\anaconda3\\lib\\site-packages (4.29.0)\n",
      "Requirement already satisfied: urllib3<3,>=1.26 in c:\\users\\a7890\\anaconda3\\lib\\site-packages (from urllib3[socks]<3,>=1.26->selenium) (2.2.2)\n",
      "Requirement already satisfied: trio~=0.17 in c:\\users\\a7890\\anaconda3\\lib\\site-packages (from selenium) (0.29.0)\n",
      "Requirement already satisfied: trio-websocket~=0.9 in c:\\users\\a7890\\anaconda3\\lib\\site-packages (from selenium) (0.12.2)\n",
      "Requirement already satisfied: certifi>=2021.10.8 in c:\\users\\a7890\\anaconda3\\lib\\site-packages (from selenium) (2024.8.30)\n",
      "Requirement already satisfied: typing_extensions~=4.9 in c:\\users\\a7890\\anaconda3\\lib\\site-packages (from selenium) (4.11.0)\n",
      "Requirement already satisfied: websocket-client~=1.8 in c:\\users\\a7890\\anaconda3\\lib\\site-packages (from selenium) (1.8.0)\n",
      "Requirement already satisfied: attrs>=23.2.0 in c:\\users\\a7890\\anaconda3\\lib\\site-packages (from trio~=0.17->selenium) (25.3.0)\n",
      "Requirement already satisfied: sortedcontainers in c:\\users\\a7890\\anaconda3\\lib\\site-packages (from trio~=0.17->selenium) (2.4.0)\n",
      "Requirement already satisfied: idna in c:\\users\\a7890\\anaconda3\\lib\\site-packages (from trio~=0.17->selenium) (3.7)\n",
      "Requirement already satisfied: outcome in c:\\users\\a7890\\anaconda3\\lib\\site-packages (from trio~=0.17->selenium) (1.3.0.post0)\n",
      "Requirement already satisfied: sniffio>=1.3.0 in c:\\users\\a7890\\anaconda3\\lib\\site-packages (from trio~=0.17->selenium) (1.3.0)\n",
      "Requirement already satisfied: cffi>=1.14 in c:\\users\\a7890\\anaconda3\\lib\\site-packages (from trio~=0.17->selenium) (1.16.0)\n",
      "Requirement already satisfied: wsproto>=0.14 in c:\\users\\a7890\\anaconda3\\lib\\site-packages (from trio-websocket~=0.9->selenium) (1.2.0)\n",
      "Requirement already satisfied: pysocks!=1.5.7,<2.0,>=1.5.6 in c:\\users\\a7890\\anaconda3\\lib\\site-packages (from urllib3[socks]<3,>=1.26->selenium) (1.7.1)\n",
      "Requirement already satisfied: pycparser in c:\\users\\a7890\\anaconda3\\lib\\site-packages (from cffi>=1.14->trio~=0.17->selenium) (2.21)\n",
      "Requirement already satisfied: h11<1,>=0.9.0 in c:\\users\\a7890\\anaconda3\\lib\\site-packages (from wsproto>=0.14->trio-websocket~=0.9->selenium) (0.14.0)\n",
      "Requirement already satisfied: webdriver_manager in c:\\users\\a7890\\anaconda3\\lib\\site-packages (4.0.2)\n",
      "Requirement already satisfied: requests in c:\\users\\a7890\\anaconda3\\lib\\site-packages (from webdriver_manager) (2.32.2)\n",
      "Requirement already satisfied: python-dotenv in c:\\users\\a7890\\anaconda3\\lib\\site-packages (from webdriver_manager) (0.21.0)\n",
      "Requirement already satisfied: packaging in c:\\users\\a7890\\appdata\\roaming\\python\\python312\\site-packages (from webdriver_manager) (24.1)\n",
      "Requirement already satisfied: charset-normalizer<4,>=2 in c:\\users\\a7890\\anaconda3\\lib\\site-packages (from requests->webdriver_manager) (2.0.4)\n",
      "Requirement already satisfied: idna<4,>=2.5 in c:\\users\\a7890\\anaconda3\\lib\\site-packages (from requests->webdriver_manager) (3.7)\n",
      "Requirement already satisfied: urllib3<3,>=1.21.1 in c:\\users\\a7890\\anaconda3\\lib\\site-packages (from requests->webdriver_manager) (2.2.2)\n",
      "Requirement already satisfied: certifi>=2017.4.17 in c:\\users\\a7890\\anaconda3\\lib\\site-packages (from requests->webdriver_manager) (2024.8.30)\n",
      "Requirement already satisfied: fake-useragent in c:\\users\\a7890\\anaconda3\\lib\\site-packages (2.1.0)\n"
     ]
    }
   ],
   "source": [
    "!pip install -U selenium\n",
    "!pip install webdriver_manager\n",
    "!pip install fake-useragent"
   ]
  },
  {
   "cell_type": "code",
   "execution_count": 15,
   "metadata": {},
   "outputs": [
    {
     "name": "stdout",
     "output_type": "stream",
     "text": [
      "✅ 成功爬取 24 個課程：\n",
      "1. 課程\n",
      "沙發上的插畫課｜用 iPad 畫出你的可愛風格\n",
      "2. 課程\n",
      "日常生活的榮格心理學｜開啟生命潛能Ｘ活出完整人生\n",
      "3. 課程\n",
      "11 週打造插畫週邊Ｘ客訂商品：用 Procreate 創造第二收入！\n",
      "4. 課程\n",
      "兒福聯盟－給父母的青少年心理健康成長指南\n",
      "5. 課程\n",
      "全球頂尖企業都在用！零錯誤思維 2.0\n",
      "6. 課程\n",
      "資料變決策！Excel x AI 升級職場數據分析力\n",
      "7. 課程\n",
      "找回身體最佳狀態｜動力鏈：人人必修的身體使用說明書\n",
      "8. 課程\n",
      "青春不該 EMO 一樣－青少年心理健康成長指南\n",
      "9. 課程\n",
      "掌握鉤針編織邏輯：五種針法自造生活小物\n",
      "10. 課程\n",
      "子麵的商標設計課！創造高價值 Logo 的 50 種方法\n",
      "11. 課程\n",
      "Procreate 插畫入門－從素描到風格\n",
      "12. 課程\n",
      "Canva 入門到進階實戰｜零基礎做質感設計\n",
      "13. 課程\n",
      "Amber 生活日文課， 28 單元開啟自學之旅\n",
      "14. 課程\n",
      "讓插畫走入生活－Procreate 文創物實作！\n",
      "15. 課程\n",
      "安心育兒之旅：治療師專為爸媽設計！0-3 歲寶寶引導技巧課\n",
      "16. 課程\n",
      "Python 入門特訓 - 基礎實作到證照攻略\n",
      "17. 課程\n",
      "AI 時代人人必學：用 ChatGPT 全面升級你的工作流程\n",
      "18. 課程\n",
      "產品設計實戰：用Figma打造絕佳UI/UX\n",
      "19. 課程\n",
      "Notion 實戰課程：打造專屬數位工作術\n",
      "20. 課程\n",
      "占星之門安格斯｜跟著占星學十二宮位找出人生攻略\n",
      "21. 課程\n",
      "曾寶儀——從心開始的溝通術\n",
      "22. 課程\n",
      "減法攝影，感官加乘：逐格收藏觀景窗裡的世界\n",
      "23. 課程\n",
      "Notion 最新中文課：3 小時快速上手！打造個人數位工作站\n",
      "24. 課程\n",
      "【AI 深度學習】新手入門應用篇\n"
     ]
    }
   ],
   "source": [
    "from selenium import webdriver\n",
    "from selenium.webdriver.common.by import By\n",
    "from selenium.webdriver.chrome.service import Service\n",
    "from selenium.webdriver.chrome.options import Options\n",
    "from selenium.webdriver.support.ui import WebDriverWait\n",
    "from selenium.webdriver.support import expected_conditions as EC\n",
    "from webdriver_manager.chrome import ChromeDriverManager\n",
    "import time\n",
    "\n",
    "# **1️⃣ 設定 Selenium WebDriver**\n",
    "chrome_options = Options()\n",
    "chrome_options.add_argument(\"--headless\")  # 可關閉無頭模式\n",
    "chrome_options.add_argument(\"--disable-gpu\")\n",
    "chrome_options.add_argument(\"--window-size=1920x1080\")\n",
    "\n",
    "# **2️⃣ 啟動 WebDriver**\n",
    "service = Service(ChromeDriverManager().install())\n",
    "driver = webdriver.Chrome(service=service, options=chrome_options)\n",
    "\n",
    "# **3️⃣ 進入 Hahow 課程頁面**\n",
    "driver.get(\"https://hahow.in/courses\")\n",
    "\n",
    "# **4️⃣ 設定 WebDriverWait**\n",
    "wait = WebDriverWait(driver, 20)\n",
    "\n",
    "# **5️⃣ 等待課程主區塊加載**\n",
    "wait.until(EC.presence_of_element_located((By.TAG_NAME, \"main\")))\n",
    "\n",
    "# **6️⃣ 自動滾動以加載所有課程**\n",
    "def scroll_down():\n",
    "    last_height = driver.execute_script(\"return document.body.scrollHeight\")\n",
    "    while True:\n",
    "        driver.execute_script(\"window.scrollTo(0, document.body.scrollHeight);\")\n",
    "        time.sleep(3)  # **等待新課程載入**\n",
    "        new_height = driver.execute_script(\"return document.body.scrollHeight\")\n",
    "        if new_height == last_height:\n",
    "            break\n",
    "        last_height = new_height\n",
    "\n",
    "scroll_down()\n",
    "\n",
    "# **7️⃣ 確保課程標題載入（使用 h2 而不是 h3/h4）**\n",
    "wait.until(EC.presence_of_all_elements_located((By.XPATH, \"//h2[contains(@class, 'sc-qi852n-5')]\")))\n",
    "\n",
    "# **8️⃣ 抓取所有課程名稱**\n",
    "course_list = []\n",
    "courses = driver.find_elements(By.XPATH, \"//h2[contains(@class, 'sc-qi852n-5')]\")  # **這是最新的 XPath**\n",
    "for course in courses:\n",
    "    course_name = course.text.strip()\n",
    "    if course_name and course_name not in course_list:\n",
    "        course_list.append(course_name)\n",
    "\n",
    "# **🔟 關閉瀏覽器**\n",
    "driver.quit()\n",
    "\n",
    "# **✅ 輸出結果**\n",
    "print(f\"✅ 成功爬取 {len(course_list)} 個課程：\")\n",
    "for i, name in enumerate(course_list, 1):\n",
    "    print(f\"{i}. {name}\")\n"
   ]
  },
  {
   "cell_type": "code",
   "execution_count": null,
   "metadata": {},
   "outputs": [],
   "source": []
  }
 ],
 "metadata": {
  "kernelspec": {
   "display_name": "base",
   "language": "python",
   "name": "python3"
  },
  "language_info": {
   "codemirror_mode": {
    "name": "ipython",
    "version": 3
   },
   "file_extension": ".py",
   "mimetype": "text/x-python",
   "name": "python",
   "nbconvert_exporter": "python",
   "pygments_lexer": "ipython3",
   "version": "3.12.4"
  }
 },
 "nbformat": 4,
 "nbformat_minor": 2
}
