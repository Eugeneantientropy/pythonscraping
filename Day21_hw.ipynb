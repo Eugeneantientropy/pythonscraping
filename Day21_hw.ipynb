{
 "cells": [
  {
   "cell_type": "markdown",
   "metadata": {
    "id": "fum1PgnN5JA4"
   },
   "source": [
    "# 其他工具：Grab、PyQuery\n",
    "\n",
    "\n",
    "* 利用 Grab 套件的存取 HTML 資源\n",
    "* 利用 PyQuery 套件的解析 HTML 格式\n"
   ]
  },
  {
   "cell_type": "markdown",
   "metadata": {
    "id": "Llz1amU75JA5"
   },
   "source": [
    "## 作業目標\n",
    "\n",
    "將之前用 requests + beatifulsoup 實作的方式，改寫成 grab + pyquery，並且比較有哪些地方不同。\n",
    "\n",
    "\n",
    "\n"
   ]
  },
  {
   "cell_type": "markdown",
   "metadata": {
    "id": "s2Dipmjj5JA6"
   },
   "source": [
    "## requests + BeautifulSoup\n"
   ]
  },
  {
   "cell_type": "code",
   "execution_count": 1,
   "metadata": {
    "id": "m_jH2zjF5JA7",
    "outputId": "d1598dc8-5a28-4498-e2d3-d4119e54f7ec"
   },
   "outputs": [
    {
     "name": "stdout",
     "output_type": "stream",
     "text": [
      "200 \n",
      "\n",
      " meta http-equiv=\"X-UA-Compatible\" content=\"IE=edge,chrome=1\" />\n",
      "<meta property=\"og:site_name\" name=\"application-name\" content=\"自由時報電子報\" />\n",
      "<meta name=\"author\" itemprop=\"author\" content=\"自由時報電子報\" />\n",
      "<meta name=\"dcterms.rightsHolder\" content=\"自由時報電子報\" />\n",
      "<meta name=\"copyright\" content=\"自由時報電子報\" />\n",
      "<meta property=\"og:title\" itemprop=\"name\" content=\"川普 - 全域查詢 - 自由時報電子報\" />\n",
      "<meta name=\"title\" itemprop=\"headline\" content=\"川普 - 全域查詢 - 自由時報電子報\" />\n",
      "<meta name=\"keywords\" content=\"川普\" />\n",
      "<meta name=\"news_keywords\" itemprop=\"keywords\" content=\"川普\" />\n",
      "<meta property=\"og:image\" itemprop=\"image\" content=\"https://www.ltn.com.tw/assets/images/1200_LTN.png\" />\n",
      "<meta property=\"og:image:type\" content=\"image/png\" />\n",
      "<meta property=\"article:section\" name=\"section\" itemprop=\"articleSection\" content=\"LTN\" />\n",
      "<meta name=\"description\" itemprop=\"description\" content=\"自由時報的搜尋機制，協助讀者以關鍵字迅速找到相關新聞和文章。搜尋結果會按時間或相關性排序，並可依新聞分類篩選，精確定位所需資料。有助於讀者快速找到最新或特定主題的新聞報導。\" />\n",
      "<meta property=\"og:description\" itemprop=\"description\" c\n"
     ]
    },
    {
     "data": {
      "text/plain": [
       "<ul class=\"list boxTitle\" data-desc=\"列表\">\n",
       "<li>\n",
       "<a class=\"ph\" data-desc=\"P:0:婚姻觸礁？歐巴馬夫人透露對丈夫的「小抱怨」\" href=\"https://news.ltn.com.tw/news/world/breakingnews/4978371\" title=\"婚姻觸礁？歐巴馬夫人透露對丈夫的「小抱怨」\">\n",
       "<img alt=\"婚姻觸礁？歐巴馬夫人透露對丈夫的「小抱怨」\" class=\"lazy_imgs\" data-src=\"https://img.ltn.com.tw/Upload/news/300/2025/03/13/4978371_1_1.jpg\" onerror=\"setDefault(this)\" src=\"https://news.ltn.com.tw/assets/images/default.png\" title=\"婚姻觸礁？歐巴馬夫人透露對丈夫的「小抱怨」\"/>\n",
       "</a>\n",
       "<div class=\"cont\" href=\"https://news.ltn.com.tw/news/world/breakingnews/4978371\">\n",
       "<a class=\"tit\" data-desc=\"T:0:婚姻觸礁？歐巴馬夫人透露對丈夫的「小抱怨」\" href=\"https://news.ltn.com.tw/news/world/breakingnews/4978371\" title=\"婚姻觸礁？歐巴馬夫人透露對丈夫的「小抱怨」\">婚姻觸礁？歐巴馬夫人透露對丈夫的「小抱怨」</a>\n",
       "<i class=\"immtag chan\" href=\"https://news.ltn.com.tw/news/world/breakingnews/4978371\">國際</i>\n",
       "<span class=\"time\">22分鐘前</span>\n",
       "<a class=\"http\" data-desc=\"T:0:婚姻觸礁？歐巴馬夫人透露對丈夫的「小抱怨」\" href=\"https://news.ltn.com.tw/news/world/breakingnews/4978371\" title=\"婚姻觸礁？歐巴馬夫人透露對丈夫的「小抱怨」\">https://news.ltn.com.tw/news/world/breakingnews/4978371</a>\n",
       "<p>前美國第一夫人蜜雪兒（Michelle Obama）在最新Podcast《IMO》首集與哥哥羅賓森（Craig Robinson）對談時，笑談丈夫、前總統歐巴馬（Barack Obama）不準時的習慣令她無奈。此話題因近期婚變傳言而備受關注。據紐約郵報八卦版《Page Six》12日報導，這對結婚3</p>\n",
       "</div>\n",
       "</li>\n",
       "<li>\n",
       "<a class=\"ph\" data-desc=\"P:1:馬斯克DOGE大砍也沒用！美聯邦政府支出創記錄\" href=\"https://ec.ltn.com.tw/article/breakingnews/4978403\" title=\"馬斯克DOGE大砍也沒用！美聯邦政府支出創記錄\">\n",
       "<img alt=\"馬斯克DOGE大砍也沒用！美聯邦政府支出創記錄\" class=\"lazy_imgs\" data-src=\"https://img.ltn.com.tw/Upload/business/page/400S/2025/03/13/phpe0ftF9.jpg\" onerror=\"setDefault(this)\" src=\"https://news.ltn.com.tw/assets/images/default.png\" title=\"馬斯克DOGE大砍也沒用！美聯邦政府支出創記錄\"/>\n",
       "</a>\n",
       "<div class=\"cont\" href=\"https://ec.ltn.com.tw/article/breakingnews/4978403\">\n",
       "<a class=\"tit\" data-desc=\"T:1:馬斯克DOGE大砍也沒用！美聯邦政府支出創記錄\" href=\"https://ec.ltn.com.tw/article/breakingnews/4978403\" title=\"馬斯克DOGE大砍也沒用！美聯邦政府支出創記錄\">馬斯克DOGE大砍也沒用！美聯邦政府支出創記錄</a>\n",
       "<i class=\"immtag chan\" href=\"https://ec.ltn.com.tw/article/breakingnews/4978403\">財經</i>\n",
       "<span class=\"time\">29分鐘前</span>\n",
       "<a class=\"http\" data-desc=\"T:1:馬斯克DOGE大砍也沒用！美聯邦政府支出創記錄\" href=\"https://ec.ltn.com.tw/article/breakingnews/4978403\" title=\"馬斯克DOGE大砍也沒用！美聯邦政府支出創記錄\">https://ec.ltn.com.tw/article/breakingnews/4978403</a>\n",
       "<p>林浥樺／核稿編輯美國富豪馬斯克（Elon Musk）率領的「政府效率部」（DOGE）大砍聯邦政府支出，但仍無法阻止美國聯邦政府支出創下新高，根據最新數據，美國聯邦政府支出在2月來到創紀錄的6030億美元，比去年同期增加了400億美元、年增率7%，顯示出川普政府在削減政府支出上的困難。</p>\n",
       "</div>\n",
       "</li>\n",
       "<li>\n",
       "<a class=\"ph\" data-desc=\"P:2:美前財長梅努欽：市場對川普政策反應過度\" href=\"https://ec.ltn.com.tw/article/breakingnews/4978396\" title=\"美前財長梅努欽：市場對川普政策反應過度\">\n",
       "<img alt=\"美前財長梅努欽：市場對川普政策反應過度\" class=\"lazy_imgs\" data-src=\"https://img.ltn.com.tw/Upload/business/page/400S/2025/03/13/php5x43yJ.jpg\" onerror=\"setDefault(this)\" src=\"https://news.ltn.com.tw/assets/images/default.png\" title=\"美前財長梅努欽：市場對川普政策反應過度\"/>\n",
       "</a>\n",
       "<div class=\"cont\" href=\"https://ec.ltn.com.tw/article/breakingnews/4978396\">\n",
       "<a class=\"tit\" data-desc=\"T:2:美前財長梅努欽：市場對川普政策反應過度\" href=\"https://ec.ltn.com.tw/article/breakingnews/4978396\" title=\"美前財長梅努欽：市場對川普政策反應過度\">美前財長梅努欽：市場對川普政策反應過度</a>\n",
       "<i class=\"immtag chan\" href=\"https://ec.ltn.com.tw/article/breakingnews/4978396\">財經</i>\n",
       "<span class=\"time\">34分鐘前</span>\n",
       "<a class=\"http\" data-desc=\"T:2:美前財長梅努欽：市場對川普政策反應過度\" href=\"https://ec.ltn.com.tw/article/breakingnews/4978396\" title=\"美前財長梅努欽：市場對川普政策反應過度\">https://ec.ltn.com.tw/article/breakingnews/4978396</a>\n",
       "<p>高佳菁／核稿編輯美國總統川普（Donald Trump）今年1月20日上任後，隨即展開一系列的政策變動，導致金融市場劇烈震盪。對此，美國前財政部長梅努欽（Steven Mnuchin）表示看法，認為市場對川普的政策變化反應過度。綜合媒體報導，前美財長薩默斯（Larry Summrs）日前發出警告，指</p>\n",
       "</div>\n",
       "</li>\n",
       "<li>\n",
       "<a class=\"ph\" data-desc=\"P:3:不分拆？英特爾新CEO預告將堅持代工計劃\" href=\"https://ec.ltn.com.tw/article/breakingnews/4978313\" title=\"不分拆？英特爾新CEO預告將堅持代工計劃\">\n",
       "<img alt=\"不分拆？英特爾新CEO預告將堅持代工計劃\" class=\"lazy_imgs\" data-src=\"https://img.ltn.com.tw/Upload/business/page/400S/2025/03/13/php0leRfz.jpg\" onerror=\"setDefault(this)\" src=\"https://news.ltn.com.tw/assets/images/default.png\" title=\"不分拆？英特爾新CEO預告將堅持代工計劃\"/>\n",
       "</a>\n",
       "<div class=\"cont\" href=\"https://ec.ltn.com.tw/article/breakingnews/4978313\">\n",
       "<a class=\"tit\" data-desc=\"T:3:不分拆？英特爾新CEO預告將堅持代工計劃\" href=\"https://ec.ltn.com.tw/article/breakingnews/4978313\" title=\"不分拆？英特爾新CEO預告將堅持代工計劃\">不分拆？英特爾新CEO預告將堅持代工計劃</a>\n",
       "<i class=\"immtag chan\" href=\"https://ec.ltn.com.tw/article/breakingnews/4978313\">財經</i>\n",
       "<span class=\"time\">56分鐘前</span>\n",
       "<a class=\"http\" data-desc=\"T:3:不分拆？英特爾新CEO預告將堅持代工計劃\" href=\"https://ec.ltn.com.tw/article/breakingnews/4978313\" title=\"不分拆？英特爾新CEO預告將堅持代工計劃\">https://ec.ltn.com.tw/article/breakingnews/4978313</a>\n",
       "<p>高佳菁／核稿編輯科技大廠英特爾（Intel）新任執行長陳立武（Lip-Bu Tan）週三（12日）表示，將堅持前任執行長所推動的晶圓代工計劃，同時誓言要從過去的錯誤中汲取教訓。《彭博》報導，英特爾週三任命陳立武為新任執行長，下午與員工會面之前，陳立武向員工發送了一封信件，內容概述了自己對於這家深陷困</p>\n",
       "</div>\n",
       "</li>\n",
       "<li>\n",
       "<a class=\"ph\" data-desc=\"P:4:傳台積電揪團救英特爾？郭明錤：離實行尚遠且執行難度高\" href=\"https://ec.ltn.com.tw/article/breakingnews/4978286\" title=\"傳台積電揪團救英特爾？郭明錤：離實行尚遠且執行難度高\">\n",
       "<img alt=\"傳台積電揪團救英特爾？郭明錤：離實行尚遠且執行難度高\" class=\"lazy_imgs\" data-src=\"https://img.ltn.com.tw/Upload/business/page/400S/2025/03/13/php4NQDZd.jpg\" onerror=\"setDefault(this)\" src=\"https://news.ltn.com.tw/assets/images/default.png\" title=\"傳台積電揪團救英特爾？郭明錤：離實行尚遠且執行難度高\"/>\n",
       "</a>\n",
       "<div class=\"cont\" href=\"https://ec.ltn.com.tw/article/breakingnews/4978286\">\n",
       "<a class=\"tit\" data-desc=\"T:4:傳台積電揪團救英特爾？郭明錤：離實行尚遠且執行難度高\" href=\"https://ec.ltn.com.tw/article/breakingnews/4978286\" title=\"傳台積電揪團救英特爾？郭明錤：離實行尚遠且執行難度高\">傳台積電揪團救英特爾？郭明錤：離實行尚遠且執行難度高</a>\n",
       "<i class=\"immtag chan\" href=\"https://ec.ltn.com.tw/article/breakingnews/4978286\">財經</i>\n",
       "<span class=\"time\">1小時前</span>\n",
       "<a class=\"http\" data-desc=\"T:4:傳台積電揪團救英特爾？郭明錤：離實行尚遠且執行難度高\" href=\"https://ec.ltn.com.tw/article/breakingnews/4978286\" title=\"傳台積電揪團救英特爾？郭明錤：離實行尚遠且執行難度高\">https://ec.ltn.com.tw/article/breakingnews/4978286</a>\n",
       "<p>高佳菁／核稿編輯台積電（2330）近日傳出已與美國晶片設計公司向輝達（Nvidia）、超微半導體（AMD）和博通（Broadcom）接洽，商討成立合資公司來經營英特爾（Intel）晶圓代工部門（IFS），消息一出，引發業界關注。對此天風國際知名分析師郭明錤表示看法，認為上述構想離實行尚遠，且執行難度</p>\n",
       "</div>\n",
       "</li>\n",
       "<li>\n",
       "<a class=\"ph\" data-desc=\"P:5:美國2月赤字飆破1兆美元 創歷年同期新高\" href=\"https://ec.ltn.com.tw/article/breakingnews/4978230\" title=\"美國2月赤字飆破1兆美元 創歷年同期新高\">\n",
       "<img alt=\"美國2月赤字飆破1兆美元 創歷年同期新高\" class=\"lazy_imgs\" data-src=\"https://img.ltn.com.tw/Upload/business/page/400S/2025/03/13/phpBT7bz2.jpg\" onerror=\"setDefault(this)\" src=\"https://news.ltn.com.tw/assets/images/default.png\" title=\"美國2月赤字飆破1兆美元 創歷年同期新高\"/>\n",
       "</a>\n",
       "<div class=\"cont\" href=\"https://ec.ltn.com.tw/article/breakingnews/4978230\">\n",
       "<a class=\"tit\" data-desc=\"T:5:美國2月赤字飆破1兆美元 創歷年同期新高\" href=\"https://ec.ltn.com.tw/article/breakingnews/4978230\" title=\"美國2月赤字飆破1兆美元 創歷年同期新高\">美國2月赤字飆破1兆美元 創歷年同期新高</a>\n",
       "<i class=\"immtag chan\" href=\"https://ec.ltn.com.tw/article/breakingnews/4978230\">財經</i>\n",
       "<span class=\"time\">2小時前</span>\n",
       "<a class=\"http\" data-desc=\"T:5:美國2月赤字飆破1兆美元 創歷年同期新高\" href=\"https://ec.ltn.com.tw/article/breakingnews/4978230\" title=\"美國2月赤字飆破1兆美元 創歷年同期新高\">https://ec.ltn.com.tw/article/breakingnews/4978230</a>\n",
       "<p>高佳菁／核稿編輯川普總統上任的第1個月，美國的債務和赤字問題進一步惡化，儘管會計年度還未過半，但2月的預算赤字就已經超過了1兆美元（約新台幣32.9兆），達1.15兆美元創2025年會計年度來新高紀錄，亦創歷年同期新高。CNBC報導，美國財政部週三發表的聲明稱，政府支出月度略有減少，但仍遠遠超過收入</p>\n",
       "</div>\n",
       "</li>\n",
       "<li>\n",
       "<a class=\"ph\" data-desc=\"P:6:黃金漲啦！分析師估「這時」破3100美元\" href=\"https://ec.ltn.com.tw/article/breakingnews/4978274\" title=\"黃金漲啦！分析師估「這時」破3100美元\">\n",
       "<img alt=\"黃金漲啦！分析師估「這時」破3100美元\" class=\"lazy_imgs\" data-src=\"https://img.ltn.com.tw/Upload/business/page/400S/2025/03/13/phpmMai2U.jpg\" onerror=\"setDefault(this)\" src=\"https://news.ltn.com.tw/assets/images/default.png\" title=\"黃金漲啦！分析師估「這時」破3100美元\"/>\n",
       "</a>\n",
       "<div class=\"cont\" href=\"https://ec.ltn.com.tw/article/breakingnews/4978274\">\n",
       "<a class=\"tit\" data-desc=\"T:6:黃金漲啦！分析師估「這時」破3100美元\" href=\"https://ec.ltn.com.tw/article/breakingnews/4978274\" title=\"黃金漲啦！分析師估「這時」破3100美元\">黃金漲啦！分析師估「這時」破3100美元</a>\n",
       "<i class=\"immtag chan\" href=\"https://ec.ltn.com.tw/article/breakingnews/4978274\">財經</i>\n",
       "<span class=\"time\">2小時前</span>\n",
       "<a class=\"http\" data-desc=\"T:6:黃金漲啦！分析師估「這時」破3100美元\" href=\"https://ec.ltn.com.tw/article/breakingnews/4978274\" title=\"黃金漲啦！分析師估「這時」破3100美元\">https://ec.ltn.com.tw/article/breakingnews/4978274</a>\n",
       "<p>高佳菁／核稿編輯週三（12日）黃金價格上漲，係因關稅不確定性推動資金流向避險，以及通膨降溫，令市場對美國降息的預期保持不變，分析師則說，在市場不確定性及川普關稅計畫下，未來幾個月內（可能第2季）黃金有望達到3100美元。現貨黃金上漲0.7%，至每盎司2935.59美元；美國黃金期貨收盤上漲0.9%，</p>\n",
       "</div>\n",
       "</li>\n",
       "<li>\n",
       "<a class=\"ph\" data-desc=\"P:7:貿易戰升級！川普威脅進一步對歐盟徵收關稅\" href=\"https://ec.ltn.com.tw/article/breakingnews/4978250\" title=\"貿易戰升級！川普威脅進一步對歐盟徵收關稅\">\n",
       "<img alt=\"貿易戰升級！川普威脅進一步對歐盟徵收關稅\" class=\"lazy_imgs\" data-src=\"https://img.ltn.com.tw/Upload/business/page/400S/2025/03/13/php7kILfv.jpg\" onerror=\"setDefault(this)\" src=\"https://news.ltn.com.tw/assets/images/default.png\" title=\"貿易戰升級！川普威脅進一步對歐盟徵收關稅\"/>\n",
       "</a>\n",
       "<div class=\"cont\" href=\"https://ec.ltn.com.tw/article/breakingnews/4978250\">\n",
       "<a class=\"tit\" data-desc=\"T:7:貿易戰升級！川普威脅進一步對歐盟徵收關稅\" href=\"https://ec.ltn.com.tw/article/breakingnews/4978250\" title=\"貿易戰升級！川普威脅進一步對歐盟徵收關稅\">貿易戰升級！川普威脅進一步對歐盟徵收關稅</a>\n",
       "<i class=\"immtag chan\" href=\"https://ec.ltn.com.tw/article/breakingnews/4978250\">財經</i>\n",
       "<span class=\"time\">2小時前</span>\n",
       "<a class=\"http\" data-desc=\"T:7:貿易戰升級！川普威脅進一步對歐盟徵收關稅\" href=\"https://ec.ltn.com.tw/article/breakingnews/4978250\" title=\"貿易戰升級！川普威脅進一步對歐盟徵收關稅\">https://ec.ltn.com.tw/article/breakingnews/4978250</a>\n",
       "<p>高佳菁／核稿編輯美國總統川普（Donald Trump）週三（12日）威脅要對歐盟產品加徵關稅作為歐盟關稅的回應，此舉將使全球貿易戰進一步升級。《路透》報導，在川普對所有鋼鐵、鋁徵收25％關稅的政策生效數小時後，川普表示，如果歐盟下（4）月按照計劃對部份美國商品實施反關稅，自己將祭出額外的懲罰。川普</p>\n",
       "</div>\n",
       "</li>\n",
       "<li>\n",
       "<a class=\"ph\" data-desc=\"P:8:川普警告絕對會對歐盟加徵汽車關稅！批愛爾蘭搶走美國製藥產業\" href=\"https://ec.ltn.com.tw/article/breakingnews/4978251\" title=\"川普警告絕對會對歐盟加徵汽車關稅！批愛爾蘭搶走美國製藥產業\">\n",
       "<img alt=\"川普警告絕對會對歐盟加徵汽車關稅！批愛爾蘭搶走美國製藥產業\" class=\"lazy_imgs\" data-src=\"https://img.ltn.com.tw/Upload/business/page/400S/2025/03/13/phpSFT5m0.jpg\" onerror=\"setDefault(this)\" src=\"https://news.ltn.com.tw/assets/images/default.png\" title=\"川普警告絕對會對歐盟加徵汽車關稅！批愛爾蘭搶走美國製藥產業\"/>\n",
       "</a>\n",
       "<div class=\"cont\" href=\"https://ec.ltn.com.tw/article/breakingnews/4978251\">\n",
       "<a class=\"tit\" data-desc=\"T:8:川普警告絕對會對歐盟加徵汽車關稅！批愛爾蘭搶走美國製藥產業\" href=\"https://ec.ltn.com.tw/article/breakingnews/4978251\" title=\"川普警告絕對會對歐盟加徵汽車關稅！批愛爾蘭搶走美國製藥產業\">川普警告絕對會對歐盟加徵汽車關稅！批愛爾蘭搶走美國製藥產業</a>\n",
       "<i class=\"immtag chan\" href=\"https://ec.ltn.com.tw/article/breakingnews/4978251\">財經</i>\n",
       "<span class=\"time\">2小時前</span>\n",
       "<a class=\"http\" data-desc=\"T:8:川普警告絕對會對歐盟加徵汽車關稅！批愛爾蘭搶走美國製藥產業\" href=\"https://ec.ltn.com.tw/article/breakingnews/4978251\" title=\"川普警告絕對會對歐盟加徵汽車關稅！批愛爾蘭搶走美國製藥產業\">https://ec.ltn.com.tw/article/breakingnews/4978251</a>\n",
       "<p>高佳菁／核稿編輯歐盟剛宣佈美國鋼鋁關稅的反制措施，美國總統川普就發出了新關稅的威脅，川普表示，美國將對歐盟實行對等關稅，並稱絕對會加徵汽車關稅，此外，川普也批愛爾蘭「搶走美國公司」，控制整個美國的製藥業，兩國間存在在「巨大」的貿易失衡，他強調，一旦關稅開始實施，彈性將非常有限。</p>\n",
       "</div>\n",
       "</li>\n",
       "<li>\n",
       "<a class=\"ph\" data-desc=\"P:9:《外交家》：美與台積合作繞過台灣政府 「矽谷治國方略」令人不安\" href=\"https://ec.ltn.com.tw/article/breakingnews/4978099\" title=\"《外交家》：美與台積合作繞過台灣政府 「矽谷治國方略」令人不安\">\n",
       "<img alt=\"《外交家》：美與台積合作繞過台灣政府 「矽谷治國方略」令人不安\" class=\"lazy_imgs\" data-src=\"https://img.ltn.com.tw/Upload/business/page/400S/2025/03/12/php6VuuHx.jpg\" onerror=\"setDefault(this)\" src=\"https://news.ltn.com.tw/assets/images/default.png\" title=\"《外交家》：美與台積合作繞過台灣政府 「矽谷治國方略」令人不安\"/>\n",
       "</a>\n",
       "<div class=\"cont\" href=\"https://ec.ltn.com.tw/article/breakingnews/4978099\">\n",
       "<a class=\"tit\" data-desc=\"T:9:《外交家》：美與台積合作繞過台灣政府 「矽谷治國方略」令人不安\" href=\"https://ec.ltn.com.tw/article/breakingnews/4978099\" title=\"《外交家》：美與台積合作繞過台灣政府 「矽谷治國方略」令人不安\">《外交家》：美與台積合作繞過台灣政府 「矽谷治國方略」令人不安</a>\n",
       "<i class=\"immtag chan\" href=\"https://ec.ltn.com.tw/article/breakingnews/4978099\">財經</i>\n",
       "<span class=\"time\">3小時前</span>\n",
       "<a class=\"http\" data-desc=\"T:9:《外交家》：美與台積合作繞過台灣政府 「矽谷治國方略」令人不安\" href=\"https://ec.ltn.com.tw/article/breakingnews/4978099\" title=\"《外交家》：美與台積合作繞過台灣政府 「矽谷治國方略」令人不安\">https://ec.ltn.com.tw/article/breakingnews/4978099</a>\n",
       "<p>吳孟峰／核稿編輯台積電在上周（3日）與美國總統川普共同宣布決定在美國大規模投資千億美元。《外交家》雜誌（The Diplomat）指出，川普政府繞過台灣政府，直接與台積電聯繫合作重塑全球半導體供應鏈，單邊干預作法讓台灣政府扮演的角色失去明確性，美政府和外國公司權力不對稱合作則是史無前例，此舉可能會產</p>\n",
       "</div>\n",
       "</li>\n",
       "<li>\n",
       "<a class=\"ph\" data-desc=\"P:10:LTN經濟通》美國能否再次偉大 全看台灣？\" href=\"https://ec.ltn.com.tw/article/breakingnews/4972629\" title=\"LTN經濟通》美國能否再次偉大 全看台灣？\">\n",
       "<img alt=\"LTN經濟通》美國能否再次偉大 全看台灣？\" class=\"lazy_imgs\" data-src=\"https://img.ltn.com.tw/Upload/business/page/400S/2025/03/07/phpaznLrN.jpg\" onerror=\"setDefault(this)\" src=\"https://news.ltn.com.tw/assets/images/default.png\" title=\"LTN經濟通》美國能否再次偉大 全看台灣？\"/>\n",
       "</a>\n",
       "<div class=\"cont\" href=\"https://ec.ltn.com.tw/article/breakingnews/4972629\">\n",
       "<a class=\"tit\" data-desc=\"T:10:LTN經濟通》美國能否再次偉大 全看台灣？\" href=\"https://ec.ltn.com.tw/article/breakingnews/4972629\" title=\"LTN經濟通》美國能否再次偉大 全看台灣？\">LTN經濟通》美國能否再次偉大 全看台灣？</a>\n",
       "<i class=\"immtag chan\" href=\"https://ec.ltn.com.tw/article/breakingnews/4972629\">財經</i>\n",
       "<span class=\"time\">3小時前</span>\n",
       "<a class=\"http\" data-desc=\"T:10:LTN經濟通》美國能否再次偉大 全看台灣？\" href=\"https://ec.ltn.com.tw/article/breakingnews/4972629\" title=\"LTN經濟通》美國能否再次偉大 全看台灣？\">https://ec.ltn.com.tw/article/breakingnews/4972629</a>\n",
       "<p>台積電宣布美國史上最大外來投資案歐祥義／核稿編輯台積電董事長暨總裁魏哲家3月3日與美國總統川普，在白宮共同宣布，將在美國加碼投資1000億美元（約新台幣3.29兆元），擴大投資興建3座新晶圓廠、2座先進封裝廠及1間主要研發團隊中心，這將是美國史上最大的單項外國直接投資案。加上先前承諾的650億美元（</p>\n",
       "</div>\n",
       "</li>\n",
       "<li>\n",
       "<a class=\"ph\" data-desc=\"P:11:《路透》民調：逾半數美國人認為川普經濟政策過於反覆\" href=\"https://news.ltn.com.tw/news/world/breakingnews/4978203\" title=\"《路透》民調：逾半數美國人認為川普經濟政策過於反覆\">\n",
       "<img alt=\"《路透》民調：逾半數美國人認為川普經濟政策過於反覆\" class=\"lazy_imgs\" data-src=\"https://img.ltn.com.tw/Upload/news/300/2025/03/13/phpl4ZSzO.jpg\" onerror=\"setDefault(this)\" src=\"https://news.ltn.com.tw/assets/images/default.png\" title=\"《路透》民調：逾半數美國人認為川普經濟政策過於反覆\"/>\n",
       "</a>\n",
       "<div class=\"cont\" href=\"https://news.ltn.com.tw/news/world/breakingnews/4978203\">\n",
       "<a class=\"tit\" data-desc=\"T:11:《路透》民調：逾半數美國人認為川普經濟政策過於反覆\" href=\"https://news.ltn.com.tw/news/world/breakingnews/4978203\" title=\"《路透》民調：逾半數美國人認為川普經濟政策過於反覆\">《路透》民調：逾半數美國人認為川普經濟政策過於反覆</a>\n",
       "<i class=\"immtag chan\" href=\"https://news.ltn.com.tw/news/world/breakingnews/4978203\">國際</i>\n",
       "<span class=\"time\">4小時前</span>\n",
       "<a class=\"http\" data-desc=\"T:11:《路透》民調：逾半數美國人認為川普經濟政策過於反覆\" href=\"https://news.ltn.com.tw/news/world/breakingnews/4978203\" title=\"《路透》民調：逾半數美國人認為川普經濟政策過於反覆\">https://news.ltn.com.tw/news/world/breakingnews/4978203</a>\n",
       "<p>蔡百靈／核稿編輯美國總統川普自上任以來，在經濟政策上雷厲風行，強烈的施政風格在全球市場掀起波瀾。《路透》與民調機構「益普索」（Ipsos）近期針對川普進行民調，發現有逾半數美國人認為川普在振興美國經濟方面的行動過於反覆無常，激進的關稅政策使得股市陷入巨大動盪。</p>\n",
       "</div>\n",
       "</li>\n",
       "<li>\n",
       "<a class=\"ph\" data-desc=\"P:12:03/13 各報重點新聞一覽\" href=\"https://news.ltn.com.tw/news/life/breakingnews/4978207\" title=\"03/13 各報重點新聞一覽\">\n",
       "<img alt=\"03/13 各報重點新聞一覽\" class=\"lazy_imgs\" data-src=\"https://img.ltn.com.tw/Upload/news/300/2025/03/13/phpW3Ouhy.jpg\" onerror=\"setDefault(this)\" src=\"https://news.ltn.com.tw/assets/images/default.png\" title=\"03/13 各報重點新聞一覽\"/>\n",
       "</a>\n",
       "<div class=\"cont\" href=\"https://news.ltn.com.tw/news/life/breakingnews/4978207\">\n",
       "<a class=\"tit\" data-desc=\"T:12:03/13 各報重點新聞一覽\" href=\"https://news.ltn.com.tw/news/life/breakingnews/4978207\" title=\"03/13 各報重點新聞一覽\">03/13 各報重點新聞一覽</a>\n",
       "<i class=\"immtag chan\" href=\"https://news.ltn.com.tw/news/life/breakingnews/4978207\">生活</i>\n",
       "<span class=\"time\">4小時前</span>\n",
       "<a class=\"http\" data-desc=\"T:12:03/13 各報重點新聞一覽\" href=\"https://news.ltn.com.tw/news/life/breakingnews/4978207\" title=\"03/13 各報重點新聞一覽\">https://news.ltn.com.tw/news/life/breakingnews/4978207</a>\n",
       "<p>自由時報總預算、財劃法覆議 藍白否決 執政團隊研議 聲請釋憲、暫時處分立法院院會昨記名表決「一一四年度中央政府總預算案」覆議案及「財政收支劃分法修正案」覆議案，行政院長卓榮泰再三說明窒礙難行之理由，藍白兩黨立委仍再度聯手，以六十一票對綠營五十一票，否決兩項覆議案，這也是本屆立院第五次否決覆議案。執政</p>\n",
       "</div>\n",
       "</li>\n",
       "<li>\n",
       "<a class=\"ph\" data-desc=\"P:13:通膨緩解美股反攻！輝達、特斯拉強彈 台積電ADR漲3.63％\" href=\"https://ec.ltn.com.tw/article/breakingnews/4978199\" title=\"通膨緩解美股反攻！輝達、特斯拉強彈 台積電ADR漲3.63％\">\n",
       "<img alt=\"通膨緩解美股反攻！輝達、特斯拉強彈 台積電ADR漲3.63％\" class=\"lazy_imgs\" data-src=\"https://img.ltn.com.tw/Upload/business/page/400S/2025/03/13/phpB6iiSm.jpg\" onerror=\"setDefault(this)\" src=\"https://news.ltn.com.tw/assets/images/default.png\" title=\"通膨緩解美股反攻！輝達、特斯拉強彈 台積電ADR漲3.63％\"/>\n",
       "</a>\n",
       "<div class=\"cont\" href=\"https://ec.ltn.com.tw/article/breakingnews/4978199\">\n",
       "<a class=\"tit\" data-desc=\"T:13:通膨緩解美股反攻！輝達、特斯拉強彈 台積電ADR漲3.63％\" href=\"https://ec.ltn.com.tw/article/breakingnews/4978199\" title=\"通膨緩解美股反攻！輝達、特斯拉強彈 台積電ADR漲3.63％\">通膨緩解美股反攻！輝達、特斯拉強彈 台積電ADR漲3.63％</a>\n",
       "<i class=\"immtag chan\" href=\"https://ec.ltn.com.tw/article/breakingnews/4978199\">財經</i>\n",
       "<span class=\"time\">5小時前</span>\n",
       "<a class=\"http\" data-desc=\"T:13:通膨緩解美股反攻！輝達、特斯拉強彈 台積電ADR漲3.63％\" href=\"https://ec.ltn.com.tw/article/breakingnews/4978199\" title=\"通膨緩解美股反攻！輝達、特斯拉強彈 台積電ADR漲3.63％\">https://ec.ltn.com.tw/article/breakingnews/4978199</a>\n",
       "<p>蔡百靈／核稿編輯因通膨數據低於預期，緩解近期美股遭大幅拋售的情況，加上投資人逢低買進科技股，美股那斯達克及標普500指數週三分別上漲1.22%、0.49%，道瓊工業指數則下跌82點、0.20%，費城半導體指數上漲2.45%，台積電ADR勁揚3.63%，收在177.17美元。</p>\n",
       "</div>\n",
       "</li>\n",
       "<li>\n",
       "<a class=\"ph\" data-desc=\"P:14:川普鋼鋁稅生效 歐盟4月祭反制關稅\" href=\"https://ec.ltn.com.tw/article/paper/1696182\" title=\"川普鋼鋁稅生效 歐盟4月祭反制關稅\">\n",
       "<img alt=\"川普鋼鋁稅生效 歐盟4月祭反制關稅\" class=\"lazy_imgs\" data-src=\"https://img.ltn.com.tw/Upload/business/page/400S/2025/03/13/51.jpg\" onerror=\"setDefault(this)\" src=\"https://news.ltn.com.tw/assets/images/default.png\" title=\"川普鋼鋁稅生效 歐盟4月祭反制關稅\"/>\n",
       "</a>\n",
       "<div class=\"cont\" href=\"https://ec.ltn.com.tw/article/paper/1696182\">\n",
       "<a class=\"tit\" data-desc=\"T:14:川普鋼鋁稅生效 歐盟4月祭反制關稅\" href=\"https://ec.ltn.com.tw/article/paper/1696182\" title=\"川普鋼鋁稅生效 歐盟4月祭反制關稅\">川普鋼鋁稅生效 歐盟4月祭反制關稅</a>\n",
       "<i class=\"immtag chan\" href=\"https://ec.ltn.com.tw/article/paper/1696182\">財經</i>\n",
       "<span class=\"time\">5小時前</span>\n",
       "<a class=\"http\" data-desc=\"T:14:川普鋼鋁稅生效 歐盟4月祭反制關稅\" href=\"https://ec.ltn.com.tw/article/paper/1696182\" title=\"川普鋼鋁稅生效 歐盟4月祭反制關稅\">https://ec.ltn.com.tw/article/paper/1696182</a>\n",
       "<p>美國川普政府對進口鋼鋁產品徵收二十五％關稅的措施十二日如期生效。歐盟表示，四月起將對價值二六○億歐元（約九三三六億台幣）的美國商品徵收反制關稅。另川普政府抨擊日本稻米關稅高達七○○％，暗示日本和稻米可能會成為川普關稅戰下個目標。美批日本稻米關稅700％ 恐成下個目標</p>\n",
       "</div>\n",
       "</li>\n",
       "<li>\n",
       "<a class=\"ph\" data-desc=\"P:15:揪團救英特爾？ 業界︰台積興趣極低\" href=\"https://ec.ltn.com.tw/article/paper/1696179\" title=\"揪團救英特爾？ 業界︰台積興趣極低\">\n",
       "<img alt=\"揪團救英特爾？ 業界︰台積興趣極低\" class=\"lazy_imgs\" data-src=\"https://img.ltn.com.tw/Upload/business/page/400S/2025/03/13/48.jpg\" onerror=\"setDefault(this)\" src=\"https://news.ltn.com.tw/assets/images/default.png\" title=\"揪團救英特爾？ 業界︰台積興趣極低\"/>\n",
       "</a>\n",
       "<div class=\"cont\" href=\"https://ec.ltn.com.tw/article/paper/1696179\">\n",
       "<a class=\"tit\" data-desc=\"T:15:揪團救英特爾？ 業界︰台積興趣極低\" href=\"https://ec.ltn.com.tw/article/paper/1696179\" title=\"揪團救英特爾？ 業界︰台積興趣極低\">揪團救英特爾？ 業界︰台積興趣極低</a>\n",
       "<i class=\"immtag chan\" href=\"https://ec.ltn.com.tw/article/paper/1696179\">財經</i>\n",
       "<span class=\"time\">5小時前</span>\n",
       "<a class=\"http\" data-desc=\"T:15:揪團救英特爾？ 業界︰台積興趣極低\" href=\"https://ec.ltn.com.tw/article/paper/1696179\" title=\"揪團救英特爾？ 業界︰台積興趣極低\">https://ec.ltn.com.tw/article/paper/1696179</a>\n",
       "<p>路透報導「邀輝達、超微、博通合資營運」台積︰不回應市場傳聞美國晶片大廠英特爾正面臨生死存亡危機，川普政府想方設法保住這家美國昔日的半導體巨擘，再度傳出找上台積電。路透報導，知情人士透露，台積電已向美國晶片設計商輝達、超微（AMD）與博通（Broadcom）提議，入股一家由其主導的合資企業，負責營運英</p>\n",
       "</div>\n",
       "</li>\n",
       "<li>\n",
       "<a class=\"ph\" data-desc=\"P:16:社論》台灣必須「居危思危」\" href=\"https://talk.ltn.com.tw/article/paper/1696197\" title=\"社論》台灣必須「居危思危」\">\n",
       "<img alt=\"社論》台灣必須「居危思危」\" class=\"lazy_imgs\" data-src=\"https://img.ltn.com.tw/Upload/talk/page/400S/2025/03/13/67.jpg\" onerror=\"setDefault(this)\" src=\"https://news.ltn.com.tw/assets/images/default.png\" title=\"社論》台灣必須「居危思危」\"/>\n",
       "</a>\n",
       "<div class=\"cont\" href=\"https://talk.ltn.com.tw/article/paper/1696197\">\n",
       "<a class=\"tit\" data-desc=\"T:16:社論》台灣必須「居危思危」\" href=\"https://talk.ltn.com.tw/article/paper/1696197\" title=\"社論》台灣必須「居危思危」\">社論》台灣必須「居危思危」</a>\n",
       "<i class=\"immtag chan1\" href=\"https://talk.ltn.com.tw/article/paper/1696197\">評論</i>\n",
       "<span class=\"time\">5小時前</span>\n",
       "<a class=\"http\" data-desc=\"T:16:社論》台灣必須「居危思危」\" href=\"https://talk.ltn.com.tw/article/paper/1696197\" title=\"社論》台灣必須「居危思危」\">https://talk.ltn.com.tw/article/paper/1696197</a>\n",
       "<p>三十四名立委面臨罷免浪潮，國民黨為了反制有意另闢公投戰場，「反廢死」、「反空污」、「恢復部分國定假日」、「反台積電出走」等都被提及。朱立倫則稱，有共識的是「反廢死」。多年來，「反廢死」幾乎成了國民黨的自動提款機。此一現象顯示，這個議題確實存有社會爭議，不是人權兩個字所能解釋清楚。假使該黨要推動公投反</p>\n",
       "</div>\n",
       "</li>\n",
       "<li>\n",
       "<a class=\"ph\" data-desc=\"P:17:央行︰台鐵、水電若齊漲 CPI上修破2％\" href=\"https://ec.ltn.com.tw/article/paper/1696183\" title=\"央行︰台鐵、水電若齊漲 CPI上修破2％\">\n",
       "<img alt=\"央行︰台鐵、水電若齊漲 CPI上修破2％\" class=\"lazy_imgs\" data-src=\"https://img.ltn.com.tw/Upload/business/page/400S/2025/03/13/52.jpg\" onerror=\"setDefault(this)\" src=\"https://news.ltn.com.tw/assets/images/default.png\" title=\"央行︰台鐵、水電若齊漲 CPI上修破2％\"/>\n",
       "</a>\n",
       "<div class=\"cont\" href=\"https://ec.ltn.com.tw/article/paper/1696183\">\n",
       "<a class=\"tit\" data-desc=\"T:17:央行︰台鐵、水電若齊漲 CPI上修破2％\" href=\"https://ec.ltn.com.tw/article/paper/1696183\" title=\"央行︰台鐵、水電若齊漲 CPI上修破2％\">央行︰台鐵、水電若齊漲 CPI上修破2％</a>\n",
       "<i class=\"immtag chan\" href=\"https://ec.ltn.com.tw/article/paper/1696183\">財經</i>\n",
       "<span class=\"time\">5小時前</span>\n",
       "<a class=\"http\" data-desc=\"T:17:央行︰台鐵、水電若齊漲 CPI上修破2％\" href=\"https://ec.ltn.com.tw/article/paper/1696183\" title=\"央行︰台鐵、水電若齊漲 CPI上修破2％\">https://ec.ltn.com.tw/article/paper/1696183</a>\n",
       "<p>示警今年不但無降息條件 甚至有升息壓力中央銀行今將赴立法院財政委員會進行業務報告，昨日報告出爐，內容示警若台鐵票價及水電等公用事業費率調漲，今年消費者物價指數（CPI）年增率預測值恐上修至二％以上；即今年不但沒有降息條件、可能還有升息壓力。</p>\n",
       "</div>\n",
       "</li>\n",
       "<li>\n",
       "<a class=\"ph\" data-desc=\"P:18:三個諸葛亮 難救一個英特爾\" href=\"https://ec.ltn.com.tw/article/paper/1696180\" title=\"三個諸葛亮 難救一個英特爾\">\n",
       "<img alt=\"三個諸葛亮 難救一個英特爾\" class=\"lazy_imgs\" data-src=\"https://img.ltn.com.tw/Upload/business/page/400S/2025/03/13/49.jpg\" onerror=\"setDefault(this)\" src=\"https://news.ltn.com.tw/assets/images/default.png\" title=\"三個諸葛亮 難救一個英特爾\"/>\n",
       "</a>\n",
       "<div class=\"cont\" href=\"https://ec.ltn.com.tw/article/paper/1696180\">\n",
       "<a class=\"tit\" data-desc=\"T:18:三個諸葛亮 難救一個英特爾\" href=\"https://ec.ltn.com.tw/article/paper/1696180\" title=\"三個諸葛亮 難救一個英特爾\">三個諸葛亮 難救一個英特爾</a>\n",
       "<i class=\"immtag chan\" href=\"https://ec.ltn.com.tw/article/paper/1696180\">財經</i>\n",
       "<span class=\"time\">5小時前</span>\n",
       "<a class=\"http\" data-desc=\"T:18:三個諸葛亮 難救一個英特爾\" href=\"https://ec.ltn.com.tw/article/paper/1696180\" title=\"三個諸葛亮 難救一個英特爾\">https://ec.ltn.com.tw/article/paper/1696180</a>\n",
       "<p>有句俗諺：「三個臭皮匠，勝過一個諸葛亮」。外媒近來熱議，台積電擬邀集輝達等大客戶合資接手英特爾的晶圓代工業務；國內業界形容這將是「三個諸葛亮恐也難救一個英特爾」。英特爾去年因經營面臨困境，傳出考慮分拆產品設計與晶圓代工事業、取消建廠計畫等。台積電董事長暨總裁魏哲家於自家法說會中，面對外資提問是否考慮</p>\n",
       "</div>\n",
       "</li>\n",
       "<li>\n",
       "<a class=\"ph\" data-desc=\"P:19:格陵蘭變天 中偏右緩獨派爆冷勝出\" href=\"https://news.ltn.com.tw/news/world/paper/1696323\" title=\"格陵蘭變天 中偏右緩獨派爆冷勝出\">\n",
       "<img alt=\"格陵蘭變天 中偏右緩獨派爆冷勝出\" class=\"lazy_imgs\" data-src=\"https://img.ltn.com.tw/Upload/news/250/2025/03/13/194.jpg\" onerror=\"setDefault(this)\" src=\"https://news.ltn.com.tw/assets/images/default.png\" title=\"格陵蘭變天 中偏右緩獨派爆冷勝出\"/>\n",
       "</a>\n",
       "<div class=\"cont\" href=\"https://news.ltn.com.tw/news/world/paper/1696323\">\n",
       "<a class=\"tit\" data-desc=\"T:19:格陵蘭變天 中偏右緩獨派爆冷勝出\" href=\"https://news.ltn.com.tw/news/world/paper/1696323\" title=\"格陵蘭變天 中偏右緩獨派爆冷勝出\">格陵蘭變天 中偏右緩獨派爆冷勝出</a>\n",
       "<i class=\"immtag chan\" href=\"https://news.ltn.com.tw/news/world/paper/1696323\">國際</i>\n",
       "<span class=\"time\">5小時前</span>\n",
       "<a class=\"http\" data-desc=\"T:19:格陵蘭變天 中偏右緩獨派爆冷勝出\" href=\"https://news.ltn.com.tw/news/world/paper/1696323\" title=\"格陵蘭變天 中偏右緩獨派爆冷勝出\">https://news.ltn.com.tw/news/world/paper/1696323</a>\n",
       "<p>川普喊買下在美國總統川普揚言要掌控格陵蘭島的陰影下，格陵蘭十一日舉行自治議會選舉，結果中間偏右的「民主黨」（Demokraatit）以廿九．九％的得票率勝出，成為議會最大黨，得票率較四年前激增逾廿個百分點，一舉扭轉選前民調僅十九％的低迷預測。緊隨其後的是主張加速獨立的「定向點黨」（Naleraq），</p>\n",
       "</div>\n",
       "</li>\n",
       "</ul>"
      ]
     },
     "execution_count": 1,
     "metadata": {},
     "output_type": "execute_result"
    }
   ],
   "source": [
    "import requests\n",
    "from bs4 import BeautifulSoup\n",
    "\n",
    "url = \"https://search.ltn.com.tw/list\"\n",
    "headers = {\n",
    "    \"Accept\": \"text/html,application/xhtml+xml,application/xml;q=0.9,image/avif,image/webp,image/apng,*/*;q=0.8,application/signed-exchange;v=b3;q=0.9\", \n",
    "    \"Accept-Encoding\": \"gzip, deflate, br\", \n",
    "    \"Accept-Language\": \"zh-TW,zh;q=0.9,en-US;q=0.8,en;q=0.7\", \n",
    "    \"Cookie\": \"ReaderInfo=51a1000537218; _fbp=fb.2.1641781316862.230877472; _ss_pp_id=2af7c2b8b7f6cf3091f1641752516979; fcmToken=0; start_time=20220109; end_time=20220110; type=%E5%85%A8%E9%83%A8; date=%E4%B8%8D%E9%99%90%E6%99%82%E9%96%93; ltnTagDate=20220523; sort=%E4%BE%9D%E9%97%9C%E8%81%AF%E6%80%A7; keyword=%E5%B7%9D%E6%99%AE; ltnSession=1653298877265; ltnSessionLast=1653298880029\", \n",
    "    \"User-Agent\": \"Mozilla/5.0 (Macintosh; Intel Mac OS X 10_15_7) AppleWebKit/537.36 (KHTML, like Gecko) Chrome/101.0.4951.64 Safari/537.36\", \n",
    "}\n",
    "params = {\n",
    "    \"keyword\": \"川普\"\n",
    "}\n",
    "\n",
    "r = requests.get(url, headers=headers, params=params )\n",
    "r.encoding = 'utf-8'\n",
    "print(r.status_code, \"\\n\\n\", r.text[500:1500])\n",
    "\n",
    "# 轉為 BeautifulSoup 物件\n",
    "soup = BeautifulSoup(r.text, \"html.parser\")\n",
    "# 使用 CSS Selector 定位\n",
    "soup.find(\"ul\", {\"data-desc\": \"列表\"})"
   ]
  },
  {
   "cell_type": "markdown",
   "metadata": {
    "id": "99QvxJbZ5JA8"
   },
   "source": [
    "## Grab + PyQuery"
   ]
  },
  {
   "cell_type": "code",
   "execution_count": 5,
   "metadata": {},
   "outputs": [
    {
     "name": "stdout",
     "output_type": "stream",
     "text": [
      "Collecting grab\n",
      "  Using cached grab-0.6.41-py3-none-any.whl\n",
      "Collecting pyquery\n",
      "  Using cached pyquery-2.0.1-py3-none-any.whl.metadata (9.0 kB)\n",
      "Collecting weblib>=0.1.28 (from grab)\n",
      "  Using cached weblib-0.1.30-py3-none-any.whl\n",
      "Requirement already satisfied: six in c:\\users\\a7890\\appdata\\roaming\\python\\python312\\site-packages (from grab) (1.16.0)\n",
      "Collecting user_agent (from grab)\n",
      "  Using cached user_agent-0.1.10-py3-none-any.whl\n",
      "Collecting selection (from grab)\n",
      "  Using cached selection-0.0.21-py3-none-any.whl\n",
      "Requirement already satisfied: defusedxml in c:\\users\\a7890\\anaconda3\\lib\\site-packages (from grab) (0.7.1)\n",
      "Requirement already satisfied: lxml>=2.1 in c:\\users\\a7890\\anaconda3\\lib\\site-packages (from pyquery) (5.2.1)\n",
      "Requirement already satisfied: cssselect>=1.2.0 in c:\\users\\a7890\\anaconda3\\lib\\site-packages (from pyquery) (1.2.0)\n",
      "Collecting pytils (from weblib>=0.1.28->grab)\n",
      "  Using cached pytils-0.4.1-py3-none-any.whl\n",
      "Using cached pyquery-2.0.1-py3-none-any.whl (22 kB)\n",
      "Installing collected packages: user_agent, selection, pytils, pyquery, weblib, grab\n",
      "Successfully installed grab-0.6.41 pyquery-2.0.1 pytils-0.4.1 selection-0.0.21 user_agent-0.1.10 weblib-0.1.30\n"
     ]
    }
   ],
   "source": [
    "!pip install grab pyquery\n"
   ]
  },
  {
   "cell_type": "code",
   "execution_count": 6,
   "metadata": {
    "id": "eptiCsNC5kz3"
   },
   "outputs": [
    {
     "data": {
      "text/plain": [
       "b'<!DOCTYPE html>\\n<html>\\n<head>\\n    <script> let cdnDate = \\'20250313110741\\'; </script>\\n<script> var pvDomain = \\'pv.ltn.com.tw\\'; </script>\\n<script> var pvServer = \\'pv.ltn.com.tw\\'; </script>\\n<script>var interstitialSlot;</script>\\n<script>var staticSlot = false;</script>\\n<script src=\"https://cache.ltn.com.tw/js/c.js\"></script>\\n    <title>\\xe5\\x85\\xa8\\xe5\\x9f\\x9f\\xe6\\x9f\\xa5\\xe8\\xa9\\xa2 - \\xe8\\x87\\xaa\\xe7\\x94\\xb1\\xe6\\x99\\x82\\xe5\\xa0\\xb1\\xe9\\x9b\\xbb\\xe5\\xad\\x90\\xe5\\xa0\\xb1</title>\\n<meta charset=\"utf-8\" />\\n<meta name=\"viewport\" content=\"width=device-width, initial-scale=1.0, maximum-scale=2.0, minimum-scale=1.0\" />\\n<meta http-equiv=\"X-UA-Compatible\" content=\"IE=edge,chrome=1\" />\\n<meta property=\"og:site_name\" name=\"application-name\" content=\"\\xe8\\x87\\xaa\\xe7\\x94\\xb1\\xe6\\x99\\x82\\xe5\\xa0\\xb1\\xe9\\x9b\\xbb\\xe5\\xad\\x90\\xe5\\xa0\\xb1\" />\\n<meta name=\"author\" itemprop=\"author\" content=\"\\xe8\\x87\\xaa\\xe7\\x94\\xb1\\xe6\\x99\\x82\\xe5\\xa0\\xb1\\xe9\\x9b\\xbb\\xe5\\xad\\x90\\xe5\\xa0\\xb1\" />\\n<meta name=\"dcterms.rightsHolder\" content=\"\\xe8\\x87\\xaa\\xe7\\x94\\xb1\\xe6\\x99\\x82\\xe5\\xa0\\xb1\\xe9\\x9b\\xbb\\xe5\\xad\\x90\\xe5\\xa0\\xb1\" />\\n<meta name=\"copyright\" content=\"\\xe8\\x87\\xaa\\xe7\\x94\\xb1\\xe6\\x99\\x82\\xe5\\xa0\\xb1\\xe9\\x9b\\xbb\\xe5\\xad\\x90\\xe5\\xa0\\xb1\" />\\n<meta property=\"og:title\" itemprop=\"name\" content=\"\\xe5\\x85\\xa8\\xe5\\x9f\\x9f\\xe6\\x9f\\xa5\\xe8\\xa9\\xa2 - \\xe8\\x87\\xaa\\xe7\\x94\\xb1\\xe6\\x99\\x82\\xe5\\xa0\\xb1\\xe9\\x9b\\xbb\\xe5\\xad\\x90\\xe5\\xa0\\xb1\" />\\n<meta name=\"title\" itemprop=\"headline\" content=\"\\xe5\\x85\\xa8\\xe5\\x9f\\x9f\\xe6\\x9f\\xa5\\xe8\\xa9\\xa2 - \\xe8\\x87\\xaa\\xe7\\x94\\xb1\\xe6\\x99\\x82\\xe5\\xa0\\xb1\\xe9\\x9b\\xbb\\xe5\\xad\\x90\\xe5\\xa0\\xb1\" />\\n<meta name=\"keywords\" content=\"\\xe8\\x87\\xaa\\xe7\\x94\\xb1\\xe6\\x99\\x82\\xe5\\xa0\\xb1, \\xe8\\x87\\xaa\\xe7\\x94\\xb1\\xe9\\x9b\\xbb\\xe5\\xad\\x90\\xe5\\xa0\\xb1, \\xe8\\x87\\xaa\\xe7\\x94\\xb1\\xe6\\x99\\x82\\xe5\\xa0\\xb1\\xe9\\x9b\\xbb\\xe5\\xad\\x90\\xe5\\xa0\\xb1, Liberty Times Net, LTN\" />\\n<meta name=\"news_keywords\" itemprop=\"keywords\" content=\"\\xe8\\x87\\xaa\\xe7\\x94\\xb1\\xe6\\x99\\x82\\xe5\\xa0\\xb1, \\xe8\\x87\\xaa\\xe7\\x94\\xb1\\xe9\\x9b\\xbb\\xe5\\xad\\x90\\xe5\\xa0\\xb1, \\xe8\\x87\\xaa\\xe7\\x94\\xb1\\xe6\\x99\\x82\\xe5\\xa0\\xb1\\xe9\\x9b\\xbb\\xe5\\xad\\x90\\xe5\\xa0\\xb1, Liberty Times Net, LTN\" />\\n<meta property=\"og:image\" itemprop=\"image\" content=\"https://www.ltn.com.tw/assets/images/1200_LTN.png\" />\\n<meta property=\"og:image:type\" content=\"image/png\" />\\n<meta property=\"article:section\" name=\"section\" itemprop=\"articleSection\" content=\"LTN\" />\\n<meta name=\"description\" itemprop=\"description\" content=\"\\xe8\\x87\\xaa\\xe7\\x94\\xb1\\xe6\\x99\\x82\\xe5\\xa0\\xb1\\xe7\\x9a\\x84\\xe6\\x90\\x9c\\xe5\\xb0\\x8b\\xe6\\xa9\\x9f\\xe5\\x88\\xb6\\xef\\xbc\\x8c\\xe5\\x8d\\x94\\xe5\\x8a\\xa9\\xe8\\xae\\x80\\xe8\\x80\\x85\\xe4\\xbb\\xa5\\xe9\\x97\\x9c\\xe9\\x8d\\xb5\\xe5\\xad\\x97\\xe8\\xbf\\x85\\xe9\\x80\\x9f\\xe6\\x89\\xbe\\xe5\\x88\\xb0\\xe7\\x9b\\xb8\\xe9\\x97\\x9c\\xe6\\x96\\xb0\\xe8\\x81\\x9e\\xe5\\x92\\x8c\\xe6\\x96\\x87\\xe7\\xab\\xa0\\xe3\\x80\\x82\\xe6\\x90\\x9c\\xe5\\xb0\\x8b\\xe7\\xb5\\x90\\xe6\\x9e\\x9c\\xe6\\x9c\\x83\\xe6\\x8c\\x89\\xe6\\x99\\x82\\xe9\\x96\\x93\\xe6\\x88\\x96\\xe7\\x9b\\xb8\\xe9\\x97\\x9c\\xe6\\x80\\xa7\\xe6\\x8e\\x92\\xe5\\xba\\x8f\\xef\\xbc\\x8c\\xe4\\xb8\\xa6\\xe5\\x8f\\xaf\\xe4\\xbe\\x9d\\xe6\\x96\\xb0\\xe8\\x81\\x9e\\xe5\\x88\\x86\\xe9\\xa1\\x9e\\xe7\\xaf\\xa9\\xe9\\x81\\xb8\\xef\\xbc\\x8c\\xe7\\xb2\\xbe\\xe7\\xa2\\xba\\xe5\\xae\\x9a\\xe4\\xbd\\x8d\\xe6\\x89\\x80\\xe9\\x9c\\x80\\xe8\\xb3\\x87\\xe6\\x96\\x99\\xe3\\x80\\x82\\xe6\\x9c\\x89\\xe5\\x8a\\xa9\\xe6\\x96\\xbc\\xe8\\xae\\x80\\xe8\\x80\\x85\\xe5\\xbf\\xab\\xe9\\x80\\x9f\\xe6\\x89\\xbe\\xe5\\x88\\xb0\\xe6\\x9c\\x80\\xe6\\x96\\xb0\\xe6\\x88\\x96\\xe7\\x89\\xb9\\xe5\\xae\\x9a\\xe4\\xb8\\xbb\\xe9\\xa1\\x8c\\xe7\\x9a\\x84\\xe6\\x96\\xb0\\xe8\\x81\\x9e\\xe5\\xa0\\xb1\\xe5\\xb0\\x8e\\xe3\\x80\\x82\" />\\n<meta property=\"og:description\" itemprop=\"description\" content=\"\\xe8\\x87\\xaa\\xe7\\x94\\xb1\\xe6\\x99\\x82\\xe5\\xa0\\xb1\\xe7\\x9a\\x84\\xe6\\x90\\x9c\\xe5\\xb0\\x8b\\xe6\\xa9\\x9f\\xe5\\x88\\xb6\\xef\\xbc\\x8c\\xe5\\x8d\\x94\\xe5\\x8a\\xa9\\xe8\\xae\\x80\\xe8\\x80\\x85\\xe4\\xbb\\xa5\\xe9\\x97\\x9c\\xe9\\x8d\\xb5\\xe5\\xad\\x97\\xe8\\xbf\\x85\\xe9\\x80\\x9f\\xe6\\x89\\xbe\\xe5\\x88\\xb0\\xe7\\x9b\\xb8\\xe9\\x97\\x9c\\xe6\\x96\\xb0\\xe8\\x81\\x9e\\xe5\\x92\\x8c\\xe6\\x96\\x87\\xe7\\xab\\xa0\\xe3\\x80\\x82\\xe6\\x90\\x9c\\xe5\\xb0\\x8b\\xe7\\xb5\\x90\\xe6\\x9e\\x9c\\xe6\\x9c\\x83\\xe6\\x8c\\x89\\xe6\\x99\\x82\\xe9\\x96\\x93\\xe6\\x88\\x96\\xe7\\x9b\\xb8\\xe9\\x97\\x9c\\xe6\\x80\\xa7\\xe6\\x8e\\x92\\xe5\\xba\\x8f\\xef\\xbc\\x8c\\xe4\\xb8\\xa6\\xe5\\x8f\\xaf\\xe4\\xbe\\x9d\\xe6\\x96\\xb0\\xe8\\x81\\x9e\\xe5\\x88\\x86\\xe9\\xa1\\x9e\\xe7\\xaf\\xa9\\xe9\\x81\\xb8\\xef\\xbc\\x8c\\xe7\\xb2\\xbe\\xe7\\xa2\\xba\\xe5\\xae\\x9a\\xe4\\xbd\\x8d\\xe6\\x89\\x80\\xe9\\x9c\\x80\\xe8\\xb3\\x87\\xe6\\x96\\x99\\xe3\\x80\\x82\\xe6\\x9c\\x89\\xe5\\x8a\\xa9\\xe6\\x96\\xbc\\xe8\\xae\\x80\\xe8\\x80\\x85\\xe5\\xbf\\xab\\xe9\\x80\\x9f\\xe6\\x89\\xbe\\xe5\\x88\\xb0\\xe6\\x9c\\x80\\xe6\\x96\\xb0\\xe6\\x88\\x96\\xe7\\x89\\xb9\\xe5\\xae\\x9a\\xe4\\xb8\\xbb\\xe9\\xa1\\x8c\\xe7\\x9a\\x84\\xe6\\x96\\xb0\\xe8\\x81\\x9e\\xe5\\xa0\\xb1\\xe5\\xb0\\x8e\\xe3\\x80\\x82\" />\\n<meta property=\"og:url\" itemprop=\"url\" content=\"https://search.ltn.com.tw/\" />\\n<meta property=\"fb:app_id\" content=\"140490219413038\" />\\n<meta property=\"twitter:card\" content=\"summary\" />\\n<meta property=\"twitter:site\" content=\"@ltntw\" />\\n<meta property=\"twitter:creator\" content=\"@ltntw\" />\\n<meta name=\"robots\" content=\"index,follow\" />\\n<meta name=\"googlebot\" content=\"index,follow\" />\\n<meta name=\"robots\" content=\"max-image-preview:large\" />\\n<link rel=\"shortcut icon\" type=\"image/x-icon\" sizes=\"192x192\" href=\"https://www.ltn.com.tw/assets/images/favicon.ico\" />\\n<link rel=\"apple-touch-icon\" sizes=\"180x180\" href=\"https://www.ltn.com.tw/assets/images/ltn.png\" />\\n<link rel=\"apple-touch-icon-precomposed\" sizes=\"180x180\" href=\"https://www.ltn.com.tw/assets/images/ltn.png\" />\\n<link rel=\"image_src\" type=\"image/png\" href=\"https://www.ltn.com.tw/assets/images/1200_LTN.png\" />\\n    <meta name=\"ltn:device\" content=\"R\" />\\n    <script src=\"https://cache.ltn.com.tw/js/jquery-3.4.1.min.js\"></script>\\n    <script src=\"assets/js/common/all.js\"></script>\\n    <script src=\"assets/js/common/gaEvent.js\"></script>\\n    <link rel=\"stylesheet\" href=\"assets/css/style_search.css?202097\">\\n    <script>\\n    let searchServer = \\'search.ltn.com.tw\\';\\n    $(function(){\\n        try {\\n            getScrNews(searchServer, \\'\\', \\'\\', \\'\\');\\n        }catch(e) {\\n\\n        }\\n    });\\n</script>\\n    <!-- Start Alexa Certify Javascript -->\\n<script type=\"text/javascript\">\\n_atrk_opts = { atrk_acct:\"LS4hj1a8Dy002+\", domain:\"ltn.com.tw\",dynamic: true};\\n(function() { var as = document.createElement(\\'script\\'); as.type = \\'text/javascript\\'; as.async = true; as.src = \"https://certify-js.alexametrics.com/atrk.js\"; var s = document.getElementsByTagName(\\'script\\')[0];s.parentNode.insertBefore(as, s); })();\\n</script>\\n<noscript><img src=\"https://certify.alexametrics.com/atrk.gif?account=LS4hj1a8Dy002+\" style=\"display:none\" height=\"1\" width=\"1\" alt=\"\" /></noscript>\\n<!-- End Alexa Certify Javascript -->\\n\\n<!-- Comscore Code -->\\n<script>\\n    var _comscore = _comscore || [];\\n    _comscore.push({ c1: \"2\", c2: \"18368781\" });\\n    (function() {\\n        var s = document.createElement(\"script\"), el = document.getElementsByTagName(\"script\")[0]; s.async = true;\\n        s.src = (document.location.protocol == \"https:\" ? \"https://sb\" : \"http://b\") + \".scorecardresearch.com/beacon.js\";\\n        el.parentNode.insertBefore(s, el);\\n    })();\\n</script>\\n<!-- Comscore Code -->\\n\\n<!-- Facebook Pixel Code -->\\n<script>\\n    !function(f,b,e,v,n,t,s)\\n    {if(f.fbq)return;n=f.fbq=function(){n.callMethod?\\n        n.callMethod.apply(n,arguments):n.queue.push(arguments)};\\n        if(!f._fbq)f._fbq=n;n.push=n;n.loaded=!0;n.version=\\'2.0\\';\\n        n.queue=[];t=b.createElement(e);t.async=!0;\\n        t.src=v;s=b.getElementsByTagName(e)[0];\\n        s.parentNode.insertBefore(t,s)}(window, document,\\'script\\',\\n        \\'https://connect.facebook.net/en_US/fbevents.js\\');\\n    fbq(\\'init\\', \\'124629834835104\\');\\n    fbq(\\'track\\', \\'PageView\\');\\n</script>\\n<noscript><img height=\"1\" width=\"1\" style=\"display:none\"\\n               src=\"https://www.facebook.com/tr?id=124629834835104&ev=PageView&noscript=1\"/></noscript>\\n<!-- End Facebook Pixel Code -->\\n\\n<!-- Fingerprint -->\\n<script src=\"https://cache.ltn.com.tw/js/fingerprint2.min.js\"></script>\\n<!-- Fingerprint -->\\n\\n<!-- Floodlight Tag -->\\n<script async src=\"https://www.googletagmanager.com/gtag/js?id=DC-9530821\"></script>\\n<script>\\n    window.dataLayer = window.dataLayer || [];\\n    function gtag(){dataLayer.push(arguments);}\\n    gtag(\\'js\\', new Date());\\n    gtag(\\'config\\', \\'DC-9530821\\');\\n</script>\\n<!-- Floodlight Tag -->\\n\\n<!-- Google Analytics PageView -->\\n<script>\\n    (function(i,s,o,g,r,a,m) {i[\\'GoogleAnalyticsObject\\']=r;i[r]=i[r]||function() {\\n        (i[r].q=i[r].q||[]).push(arguments)},i[r].l=1*new Date();a=s.createElement(o),\\n        m=s.getElementsByTagName(o)[0];a.async=1;a.src=g;m.parentNode.insertBefore(a,m)\\n    })(window,document,\\'script\\',\\'//www.google-analytics.com/analytics.js\\',\\'ga\\');\\n\\n    ga(\\'create\\', \\'UA-31404335-1\\', \\'auto\\');\\n    ga(\\'require\\', \\'displayfeatures\\');\\n    ga(\\'require\\', \\'linkid\\', \\'linkid.js\\');\\n    ga(\\'send\\', \\'pageview\\');\\n</script>\\n<!-- Google Analytics PageView -->\\n    <!--\\xe6\\x9b\\xb4\\xe6\\x96\\xb0\\xe6\\x99\\x82\\xe9\\x96\\x93:2025/03/13 11:07:41--><script>\\n    let webPushOrigin = \\'https://www.ltn.com.tw\\';\\n    let webPushFile = webPushOrigin + \\'/webNotificationCheck\\';\\n    let webPushNotification = webPushOrigin + \\'/webNotification\\';\\n\\n    // \\xe7\\x9b\\xa3\\xe8\\x81\\xbd\\xe6\\xaa\\xa2\\xe6\\x9f\\xa5\\xe5\\x9b\\x9e\\xe6\\x87\\x89\\n    window.addEventListener(\\'message\\',function(e) {\\n        if (e.origin == webPushOrigin) {\\n            if (e.data == \\'isOK\\') {\\n                let checkIframe = document.getElementById(\\'checkIframe\\');\\n                checkIframe.contentWindow.postMessage(\\'getPermission\\', webPushOrigin);\\n            } else if (e.data == \\'granted\\') {\\n                $(\"#checkIframe\").remove();\\n                console.log(e.data);\\n            } else if (e.data == \\'denied\\' || e.data == \\'default\\') { //default or denied\\n                $(\"#checkIframe\").remove();\\n                console.log(e.data);\\n                setTimeout(() => {\\n                    softConfirm();\\n                }, 20000);\\n            }\\n        }\\n    },false);\\n\\n    $(function() {\\n        let webPush = getCookie(\"softPush\");\\n        if (webPush === undefined || webPush < 1) {\\n            if (userAgent.indexOf(\\'Chrome\\') >= 0 || userAgent.indexOf(\\'Firefox\\') >= 0 || userAgent.indexOf(\\'Edge/\\') >= 0) {\\n                initFcm();\\n            } else if (userAgent.indexOf(\\'Safari\\') >= 0) {\\n            }\\n        }\\n    });\\n\\n    //\\xe6\\xaa\\xa2\\xe6\\x9f\\xa5notification\\n    function initFcm()\\n    {\\n        console.log(\\'check notification\\');\\n        if (\\'Notification\\' in window) {\\n            checkFcm();\\n        }\\n    }\\n\\n    //\\xe6\\xaa\\xa2\\xe6\\x9f\\xa5notification permission\\n    function checkFcm()\\n    {\\n        console.log(\\'checkFcm\\');\\n        let checkIframe = document.createElement(\\'iframe\\');\\n        checkIframe.setAttribute(\\'id\\', \\'checkIframe\\');\\n        checkIframe.setAttribute(\\'src\\', webPushFile);\\n        checkIframe.setAttribute(\\'allow\\', \\'payment\\');\\n        document.body.appendChild(checkIframe);\\n    }\\n\\n    //\\xe8\\xa7\\xb8\\xe7\\x99\\xbc\\xe8\\xbb\\x9f\\xe8\\xa9\\xa2\\xe5\\x95\\x8f\\n    function softConfirm()\\n    {\\n        let softPushNotificaton = document.createElement(\\'div\\');\\n        softPushNotificaton.setAttribute(\\'class\\', \\'softPush_notification\\');\\n\\n        let softPushNotificationImg = document.createElement(\\'img\\');\\n        softPushNotificationImg.setAttribute(\\'src\\', \\'https://news.ltn.com.tw/assets/images/all/ltn.png\\');\\n        softPushNotificationImg.setAttribute(\\'alt\\', \\'\\xe8\\x87\\xaa\\xe7\\x94\\xb1\\xe6\\x99\\x82\\xe5\\xa0\\xb1\\');\\n        softPushNotificaton.appendChild(softPushNotificationImg);\\n\\n        let softPushNotificationSpan = document.createElement(\\'span\\');\\n        softPushNotificationSpan.setAttribute(\\'class\\', \\'softPush_word\\');\\n        let softPushNotificationText = document.createTextNode(\\'\\xe6\\x84\\x9f\\xe8\\xac\\x9d\\xe6\\x82\\xa8\\xe7\\x9a\\x84\\xe8\\xa8\\x82\\xe9\\x96\\xb1 \\xe8\\x87\\xaa\\xe7\\x94\\xb1\\xe6\\x99\\x82\\xe5\\xa0\\xb1\\xe9\\x9b\\xbb\\xe5\\xad\\x90\\xe5\\xa0\\xb1\\xe9\\x9a\\xa8\\xe6\\x99\\x82\\xe6\\x8f\\x90\\xe4\\xbe\\x9b\\xe6\\x82\\xa8\\xe6\\x9c\\x80\\xe5\\x8d\\xb3\\xe6\\x99\\x82\\xe3\\x80\\x81\\xe7\\x86\\xb1\\xe9\\x96\\x80\\xe7\\x9a\\x84\\xe6\\x96\\xb0\\xe8\\x81\\x9e\\xe8\\xa8\\x8a\\xe6\\x81\\xaf\\xe3\\x80\\x82\\');\\n        softPushNotificationSpan.appendChild(softPushNotificationText);\\n        softPushNotificaton.appendChild(softPushNotificationSpan);\\n\\n        let softPushNotificationButton = document.createElement(\\'button\\');\\n        softPushNotificationButton.setAttribute(\\'class\\', \\'softPush_confirm\\');\\n        softPushNotificationText = document.createTextNode(\\'\\xe8\\xa8\\x82\\xe9\\x96\\xb1\\');\\n        softPushNotificationButton.appendChild(softPushNotificationText);\\n        softPushNotificaton.appendChild(softPushNotificationButton);\\n\\n        softPushNotificationButton = document.createElement(\\'button\\');\\n        softPushNotificationButton.setAttribute(\\'class\\', \\'softPush_refuse\\');\\n        softPushNotificationText = document.createTextNode(\\'\\xe6\\x9a\\xab\\xe6\\x99\\x82\\xe4\\xb8\\x8d\\xe8\\xa6\\x81\\');\\n        softPushNotificationButton.appendChild(softPushNotificationText);\\n        softPushNotificaton.appendChild(softPushNotificationButton);\\n\\n        document.body.appendChild(softPushNotificaton);\\n    }\\n\\n    //\\xe8\\xa8\\xad\\xe5\\xae\\x9a\\xe8\\xbb\\x9f\\xe8\\xa9\\xa2\\xe5\\x95\\x8f\\xe6\\x99\\x82\\xe9\\x96\\x93\\n    function setSoftPushCookie(extension = 0)\\n    {\\n        let st = \"\";\\n        let expires = new Date();\\n        //\\xe5\\xbb\\xb6\\xe5\\xb1\\x95\\xe6\\x99\\x82\\xe9\\x96\\x93\\n        extension = (extension == 0) ? 7 * 24 * 60 * 60 * 1000 : extension;\\n        expires.setTime(expires.getTime() + extension);\\n        let ti = getCookie(\"softPush\");\\n        if (ti === undefined) ti = 0;\\n        st = \"softPush=\" + (Number(ti)+1) +\"; domain=ltn.com.tw;expires=\" + expires.toGMTString() +\"; path=/\";\\n        document.cookie = st;\\n    }\\n\\n    $(document).on(\"click\",\".softPush_confirm\",function() {\\n        window.open(webPushNotification);\\n        getScrNews(\\'www.webPush.ask\\', \\'ask\\', \\'\\', \\'1\\');\\n        $(\".softPush_notification\").remove();\\n    });\\n\\n    $(document).on(\"click\",\".softPush_refuse\",function(){\\n        $(\".softPush_notification\").remove();\\n        getScrNews(\\'www.webPush.ask\\', \\'ask\\', \\'\\', \\'0\\');\\n        setSoftPushCookie();\\n    });\\n</script>\\n<style>\\n    /******************** \\xe7\\x80\\x8f\\xe8\\xa6\\xbd\\xe5\\x99\\xa8\\xe6\\x8e\\xa8\\xe6\\x92\\xad\\xe9\\x80\\x9a\\xe7\\x9f\\xa5 ********************/\\n    .softPush_notification { width: 400px; height: 170px; padding: 20px; border-radius: 10px; position: fixed; left: 50%; margin-left: -200px; top: 28%;  background: #fbfbfb; box-shadow: 0px 0px 30px 6px rgb(0 0 0 / 40%); z-index:  300; text-align: justify;}\\n    .softPush_notification img { width: 80px; height: auto; float: left; margin-right: 10px; }\\n    .softPush_notification span.softPush_word { margin-bottom: 10px; font-size: 18px; line-height: 30px; font-family: \\'Noto Sans TC\\', \"\\xe5\\xbe\\xae\\xe8\\xbb\\x9f\\xe6\\xad\\xa3\\xe9\\xbb\\x91\\xe9\\xab\\x94\";}\\n    .softPush_notification button { border-radius: 5px; padding: 5px 8px; letter-spacing: 1px; cursor: pointer; border: 0px; font-size: 16px;}\\n    .softPush_notification button.softPush_confirm { position: absolute; right: 25px; bottom: 20px; background: #daa01c; color: #fff; transition: .2s linear;}\\n    .softPush_notification button.softPush_refuse { position: absolute; right: 80px; bottom: 20px; color: #8e8e8e; transition: .2s linear;}\\n    .softPush_notification button.softPush_confirm:hover { background: #c58901; }\\n    .softPush_notification button.softPush_refuse:hover { background: #dedede; }\\n\\n    @media screen and (max-width:500px) {\\n        /* \\xe7\\x80\\x8f\\xe8\\xa6\\xbd\\xe5\\x99\\xa8\\xe6\\x8e\\xa8\\xe6\\x92\\xad\\xe9\\x80\\x9a\\xe7\\x9f\\xa5 */\\n        .softPush_notification {\\n            width: 280px;\\n            height: 140px;\\n            padding: 16px;\\n            margin-left: -140px;\\n        }\\n\\n        .softPush_notification img {\\n            width: 60px;\\n        }\\n\\n        .softPush_notification span.softPush_word {\\n            font-size: 16px;\\n            line-height: 24px;\\n        }\\n\\n        .softPush_notification button {\\n            padding: 6px 12px;\\n            font-size: 12px;\\n        }\\n\\n        .softPush_notification button.softPush_confirm,\\n        .softPush_notification button.softPush_refuse {\\n            bottom: 12px;\\n        }\\n\\n        .softPush_notification button.softPush_confirm {\\n            right: 16px;\\n        }\\n    }\\n</style>\\n<script>\\nlet checkDevice = cookies_m.isPC() ? \\'pc\\' : \\'m\\';\\n</script>\\n<script>\\n//fetch hotNews data\\n/**\\n * \\xe6\\x88\\xb3\\xe6\\xa9\\x9f\\xe5\\x99\\xa8\\xe5\\xad\\xb8\\xe7\\xbf\\x92api\\n * array  categoryAndType \\xe5\\x88\\x86\\xe9\\xa1\\x9e\\xe8\\xb7\\x9f\\xe6\\x96\\x87\\xe7\\xab\\xa0\\xe9\\xa1\\x9e\\xe5\\x88\\xa5\\n * int    limit \\xe5\\x87\\xba\\xe5\\xb9\\xbe\\xe5\\x89\\x87\\n * string section \\xe6\\xb8\\xb2\\xe6\\x9f\\x93\\xe7\\x9a\\x84\\xe4\\xbd\\x8d\\xe7\\xbd\\xae/\\xe5\\x8d\\x80\\xe5\\xa1\\x8a\\n */\\nfunction fetchHotNews(categoryAndType, limit, section, fn = null) {\\n    if (Array.isArray(categoryAndType)) {\\n        return fetchNews(hotNewsUrl, {\\n            \"category\": categoryAndType[0],\\n            \"article_type\": categoryAndType[1] ? categoryAndType[1] : \"\",\\n            \"limit\": limit,\\n            \"rh_guid\": \"guid string\",\\n            \"utm_source\": hotNewsSource,\\n            \"utm_medium\": section\\n        }, \\'recommendations\\');\\n    }\\n    let requestData = {\\n        \"category\": hotNewsCategory,\\n        \"article_type\": categoryAndType,\\n        \"limit\": limit,\\n        \"rh_guid\": \"guid string\",\\n        \"utm_source\": hotNewsSource,\\n        \"utm_medium\": section\\n    };\\n    if (fn) {\\n        let url = new URL(hotNewsUrl);\\n        url.search = new URLSearchParams(requestData).toString();\\n        return fetch(url, {\\n                // method: \\'GET\\',\\n                headers: {\\n                    \\'Content-Type\\': \\'application/json\\',\\n                    \\'Authorization\\': hotNewsAuth\\n                },\\n            })\\n            .then(response => {\\n                if (!response.ok) {\\n                    throw new Error(\\'response error:\\' + response.status);\\n                }\\n                return response.json();\\n            })\\n            .then(data => {\\n                fn(data);\\n            })\\n            .catch(error => {\\n                console.error(\\'fetch error:\\', error);\\n            });\\n    } else {\\n        return fetchNews(hotNewsUrl, requestData, \\'recommendations\\');\\n    }\\n};\\n\\n/**\\n * \\xe5\\x8f\\x96\\xe6\\xa9\\x9f\\xe5\\x99\\xa8\\xe5\\xad\\xb8\\xe7\\xbf\\x92\\xe7\\x9a\\x84\\xe7\\x9b\\xb8\\xe9\\x97\\x9c\\xe6\\x96\\xb0\\xe8\\x81\\x9e\\n */\\nfunction fetchRelatedNews(ltc_no, ltc_group, limit, utmSource=\\'\\')\\n{\\n    let requestData = {\\n        \"ltc_no\": ltc_no,\\n        \"ltc_group\": ltc_group,\\n        \"limit\": limit,\\n        \"utm_source\": utmSource,\\n        \"utm_medium\": \"relatedNews\"\\n    };\\n    return fetchNews(relatedNewsUrl, requestData, \\'related_news\\');\\n}\\n\\n// \\xe7\\x9b\\xb8\\xe9\\x97\\x9c\\xe6\\x96\\xb0\\xe8\\x81\\x9e\\xe8\\x88\\x87\\xe7\\x86\\xb1\\xe9\\x96\\x80\\xe6\\x96\\xb0\\xe8\\x81\\x9e\\xe5\\x85\\xb1\\xe7\\x94\\xa8fetch\\nfunction fetchNews(url, requestData, resultKey) {\\n    let urlWithGET = new URL(url);\\n    urlWithGET.search = new URLSearchParams(requestData).toString();\\n    return fetch(urlWithGET, {\\n            headers: {\\n                \"Content-Type\": \"application/json\"\\n            }\\n        })\\n        .then(response => {\\n            if (!response.ok) {\\n                throw new Error(\\'response error: \\' + response.status);\\n            }\\n            return response.json();\\n        })\\n        .then(data => {\\n            if (data && data[resultKey]) {\\n                return data[resultKey];\\n            } else {\\n                return [];\\n            }\\n        })\\n        .catch(error => {\\n            console.error(\\'fetch error:\\', error);\\n            return [];\\n        });\\n}\\n\\n/**\\n * \\xe6\\xaa\\xa2\\xe6\\x9f\\xa5originalMoreNews\\xe6\\x98\\xaf\\xe5\\x90\\xa6\\xe6\\x9c\\x89ad\\xe4\\xb8\\xa6\\xe5\\xa1\\x9e\\xe5\\x85\\xa5FetchRelatedNews\\n * data fetch\\xe5\\x9b\\x9e\\xe4\\xbe\\x86\\xe7\\x9a\\x84\\n * originalMoreNews \\xe5\\x8e\\x9f\\xe5\\xa7\\x8b\\xe7\\x9a\\x84\\n */\\nfunction insertAdToFetchRelatedNews(data, originalMoreNews)\\n{\\n    var hasAd = originalMoreNews.some(function(news) {\\n        return news.buy;\\n    });\\n\\n    if (hasAd) {\\n        var adNews = originalMoreNews.filter(function(news) {\\n            return news.buy;\\n        });\\n        for (var i = 0; i < adNews.length; i++) {\\n            insertAdAtPosition(data, adNews[i], (3 + i * 3));\\n        }\\n    }\\n    return data;\\n}\\n\\n/**\\n * \\xe5\\x9c\\xa8\\xe6\\x8c\\x87\\xe5\\xae\\x9a\\xe4\\xbd\\x8d\\xe7\\xbd\\xae\\xe5\\xa1\\x9e\\xe5\\x85\\xa5\\xe5\\xbb\\xa3\\xe5\\x91\\x8a\\n * data \\xe6\\x95\\xb4\\xe5\\x8c\\x85\\xe8\\xb3\\x87\\xe6\\x96\\x99\\n * adNews \\xe6\\x96\\xb0\\xe8\\x81\\x9e\\n * position \\xe5\\xaf\\xab\\xe5\\x85\\xa5\\xe4\\xbd\\x8d\\xe7\\xbd\\xae\\n */\\nfunction insertAdAtPosition(data, adNews, position)\\n{\\n    (data.length >= position) ? data.splice(position - 1, 0, adNews) : data.push(adNews);\\n    return data;\\n}\\n\\n//if no data remove dom\\nfunction removeHotnewsDOM(sectionClass) {\\n    const elements = document.querySelectorAll(\\'.\\' + sectionClass);\\n    elements.forEach(element => {\\n        element.remove();\\n    });\\n}\\n</script>\\n</head>\\n<body>\\n        <div class=\"page-name\" data-desc=\"\\xe6\\x90\\x9c\\xe5\\xb0\\x8b\\xe9\\xa6\\x96\\xe9\\xa0\\x81\">\\n        <div class=\"Searchindex boxTitle\" data-desc=\"\\xe6\\x96\\xb0\\xe8\\x81\\x9e\\xe6\\x9f\\xa5\\xe8\\xa9\\xa2\">\\n            <a href=\"http://www.ltn.com.tw\" data-desc=\"\\xe8\\x87\\xaa\\xe7\\x94\\xb1\\xe6\\x99\\x82\\xe5\\xa0\\xb1\\xe9\\x9b\\xbb\\xe5\\xad\\x90\\xe5\\xa0\\xb1\" title=\"\\xe8\\x87\\xaa\\xe7\\x94\\xb1\\xe6\\x99\\x82\\xe5\\xa0\\xb1\\xe9\\x9b\\xbb\\xe5\\xad\\x90\\xe5\\xa0\\xb1\">\\n                <img src=\"https://cache.ltn.com.tw/images/rwd_ltnlogo.png\" alt=\"\\xe8\\x87\\xaa\\xe7\\x94\\xb1\\xe6\\x99\\x82\\xe5\\xa0\\xb1\\xe9\\x9b\\xbb\\xe5\\xad\\x90\\xe5\\xa0\\xb1\" title=\"\\xe8\\x87\\xaa\\xe7\\x94\\xb1\\xe6\\x99\\x82\\xe5\\xa0\\xb1\\xe9\\x9b\\xbb\\xe5\\xad\\x90\\xe5\\xa0\\xb1\">\\n            </a>\\n            <b>\\xe6\\x96\\xb0\\xe8\\x81\\x9e\\xe6\\x9f\\xa5\\xe8\\xa9\\xa2</b>\\n            <form id=\"search\" method=\"get\" action=\"list\">\\n                <input id=\"keyword_search\" name=\"keyword\" value=\"\" maxlength=\"70\" type=\"text\">\\n                <input class=\"boxInput\" data-desc=\"\\xe6\\x9f\\xa5\\xe8\\xa9\\xa2\" value=\"\\xe6\\x9f\\xa5\\xe8\\xa9\\xa2\" type=\"submit\">\\n            </form>\\n        </div>\\n    </div>\\n    </body>\\n</html>\\n<script>\\n$(document).ready(function() {\\n    $(\\'#search\\').submit(function () {\\n        checkForm();\\n    });\\n});\\n\\n// \\xe7\\x84\\xa1\\xe5\\x85\\xa7\\xe5\\xae\\xb9\\xe4\\xb8\\x8d\\xe8\\x83\\xbd\\xe6\\x9f\\xa5\\xe8\\xa9\\xa2\\nconst searchBtn = document.querySelector(\\'.boxInput\\');\\nconst inputBox = document.querySelector(\\'#keyword_search\\');\\nsearchBtn.addEventListener(\\'click\\', function(){\\n    if (inputBox.value.trim() === \\'\\') {\\n        event.preventDefault();\\n    }\\n})\\n</script>\\n'"
      ]
     },
     "execution_count": 6,
     "metadata": {},
     "output_type": "execute_result"
    }
   ],
   "source": [
    "from grab import Grab\n",
    "g = Grab()\n",
    "resp = g.go('https://search.ltn.com.tw/list')\n",
    "resp.body"
   ]
  },
  {
   "cell_type": "code",
   "execution_count": 7,
   "metadata": {
    "id": "0w1QYM-u5JA9",
    "outputId": "37aed5c8-b8d4-4514-df26-0ee1c7306ffa",
    "scrolled": false
   },
   "outputs": [
    {
     "name": "stdout",
     "output_type": "stream",
     "text": [
      "<class 'pyquery.pyquery.PyQuery'> å¨åæ¥è©¢ - èªç±æå ±é»å­å ±\n"
     ]
    }
   ],
   "source": [
    "from pyquery import PyQuery as pq\n",
    "doc = pq(resp.body)\n",
    "title = doc('title')\n",
    "print(type(title), title.text())"
   ]
  },
  {
   "cell_type": "code",
   "execution_count": null,
   "metadata": {
    "id": "iOj2WUZn5JA9"
   },
   "outputs": [],
   "source": []
  }
 ],
 "metadata": {
  "colab": {
   "collapsed_sections": [],
   "name": "Day21_hw.ipynb",
   "provenance": []
  },
  "kernelspec": {
   "display_name": "base",
   "language": "python",
   "name": "python3"
  },
  "language_info": {
   "codemirror_mode": {
    "name": "ipython",
    "version": 3
   },
   "file_extension": ".py",
   "mimetype": "text/x-python",
   "name": "python",
   "nbconvert_exporter": "python",
   "pygments_lexer": "ipython3",
   "version": "3.12.4"
  }
 },
 "nbformat": 4,
 "nbformat_minor": 0
}
