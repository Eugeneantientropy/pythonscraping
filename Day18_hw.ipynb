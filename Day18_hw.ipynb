{
  "cells": [
    {
      "cell_type": "markdown",
      "metadata": {
        "id": "RmEW9BEct8Fk"
      },
      "source": [
        "# Day18\n",
        "## 網頁結構解析：使用網頁結構定位工具\n",
        "- 複習網頁結構組成\n",
        "- 使用定位工具擷取網頁節點\n",
        "  - CSS Selector\n",
        "  - XPath"
      ]
    },
    {
      "cell_type": "markdown",
      "metadata": {
        "id": "CmrQ2eOx7X2U"
      },
      "source": [
        "## 作業說明\n",
        "請跟著引導填空程式碼，練習以下題目\n",
        "1. 使用 CSS Selector 定位元素 （搭配 `BeautifulSoup` 套件使用）\n",
        "2. 使用 XPath 定位元素 （搭配 `lxml` 套件使用）\n",
        "\n",
        "題目網站：自由時報文章列表\n",
        "\n",
        "https://search.ltn.com.tw/list?keyword=%E5%B7%9D%E6%99%AE"
      ]
    },
    {
      "cell_type": "code",
      "execution_count": 1,
      "metadata": {
        "id": "2vDuolRl88hz"
      },
      "outputs": [],
      "source": [
        "from bs4 import BeautifulSoup\n",
        "import lxml.html\n",
        "import requests"
      ]
    },
    {
      "cell_type": "markdown",
      "metadata": {
        "id": "ZbDTtqaRTnGD"
      },
      "source": [
        "### `GET` Request"
      ]
    },
    {
      "cell_type": "code",
      "execution_count": 3,
      "metadata": {
        "colab": {
          "base_uri": "https://localhost:8080/"
        },
        "id": "K1ONgiThK57V",
        "outputId": "17cad055-d70d-4a11-e378-3c4606022ee9"
      },
      "outputs": [
        {
          "name": "stdout",
          "output_type": "stream",
          "text": [
            "200 \n",
            "\n",
            " meta http-equiv=\"X-UA-Compatible\" content=\"IE=edge,chrome=1\" />\n",
            "<meta property=\"og:site_name\" name=\"application-name\" content=\"自由時報電子報\" />\n",
            "<meta name=\"author\" itemprop=\"author\" content=\"自由時報電子報\" />\n",
            "<meta name=\"dcterms.rightsHolder\" content=\"自由時報電子報\" />\n",
            "<meta name=\"copyright\" content=\"自由時報電子報\" />\n",
            "<meta property=\"og:title\" itemprop=\"name\" content=\"川普 - 全域查詢 - 自由時報電子報\" />\n",
            "<meta name=\"title\" itemprop=\"headline\" content=\"川普 - 全域查詢 - 自由時報電子報\" />\n",
            "<meta name=\"keywords\" content=\"川普\" />\n",
            "<meta name=\"news_keywords\" itemprop=\"keywords\" content=\"川普\" />\n",
            "<meta property=\"og:image\" itemprop=\"image\" content=\"https://www.ltn.com.tw/assets/images/1200_LTN.png\" />\n",
            "<meta property=\"og:image:type\" content=\"image/png\" />\n",
            "<meta property=\"article:section\" name=\"section\" itemprop=\"articleSection\" content=\"LTN\" />\n",
            "<meta name=\"description\" itemprop=\"description\" content=\"自由時報的搜尋機制，協助讀者以關鍵字迅速找到相關新聞和文章。搜尋結果會按時間或相關性排序，並可依新聞分類篩選，精確定位所需資料。有助於讀者快速找到最新或特定主題的新聞報導。\" />\n",
            "<meta property=\"og:description\" itemprop=\"description\" c\n"
          ]
        }
      ],
      "source": [
        "url = \"https://search.ltn.com.tw/list\"\n",
        "headers = {\n",
        "    \"Accept\": \"text/html,application/xhtml+xml,application/xml;q=0.9,image/avif,image/webp,image/apng,*/*;q=0.8,application/signed-exchange;v=b3;q=0.9\", \n",
        "    \"Accept-Encoding\": \"gzip, deflate, br\", \n",
        "    \"Accept-Language\": \"zh-TW,zh;q=0.9,en-US;q=0.8,en;q=0.7\", \n",
        "    \"Cookie\": \"ReaderInfo=51a1000537218; _fbp=fb.2.1641781316862.230877472; _ss_pp_id=2af7c2b8b7f6cf3091f1641752516979; fcmToken=0; start_time=20220109; end_time=20220110; type=%E5%85%A8%E9%83%A8; date=%E4%B8%8D%E9%99%90%E6%99%82%E9%96%93; ltnTagDate=20220523; sort=%E4%BE%9D%E9%97%9C%E8%81%AF%E6%80%A7; keyword=%E5%B7%9D%E6%99%AE; ltnSession=1653298877265; ltnSessionLast=1653298880029\", \n",
        "    \"User-Agent\": \"Mozilla/5.0 (Macintosh; Intel Mac OS X 10_15_7) AppleWebKit/537.36 (KHTML, like Gecko) Chrome/101.0.4951.64 Safari/537.36\", \n",
        "}\n",
        "params = {\n",
        "    \"keyword\": \"川普\"\n",
        "}\n",
        "\n",
        "r = requests.get(url, headers=headers, params=params )\n",
        "r.encoding = 'utf-8'\n",
        "print(r.status_code, \"\\n\\n\", r.text[500:1500])"
      ]
    },
    {
      "cell_type": "markdown",
      "metadata": {
        "id": "aTkbyICTKk9R"
      },
      "source": [
        "### (1) 使用 CSS Selector 定位元素"
      ]
    },
    {
      "cell_type": "markdown",
      "metadata": {
        "id": "7CSa5er4TtJO"
      },
      "source": [
        "#### 定位文章列表處\n"
      ]
    },
    {
      "cell_type": "code",
      "execution_count": 5,
      "metadata": {
        "colab": {
          "base_uri": "https://localhost:8080/"
        },
        "id": "5OFshcBqTzWM",
        "outputId": "be0662f8-d726-4f97-9583-6669cef6d337"
      },
      "outputs": [
        {
          "data": {
            "text/plain": [
              "<ul class=\"list boxTitle\" data-desc=\"列表\">\n",
              "<li>\n",
              "<a class=\"ph\" data-desc=\"P:0:Emmy時間》川普非常手段救美財政 台灣財務健全強大\" href=\"https://talk.ltn.com.tw/article/breakingnews/4976920\" title=\"Emmy時間》川普非常手段救美財政 台灣財務健全強大\">\n",
              "<img alt=\"Emmy時間》川普非常手段救美財政 台灣財務健全強大\" class=\"lazy_imgs\" data-src=\"https://img.ltn.com.tw/Upload/talk/page/400S/2025/03/12/phpYgBFWe.jpg\" onerror=\"setDefault(this)\" src=\"https://news.ltn.com.tw/assets/images/default.png\" title=\"Emmy時間》川普非常手段救美財政 台灣財務健全強大\"/>\n",
              "</a>\n",
              "<div class=\"cont\" href=\"https://talk.ltn.com.tw/article/breakingnews/4976920\">\n",
              "<a class=\"tit\" data-desc=\"T:0:Emmy時間》川普非常手段救美財政 台灣財務健全強大\" href=\"https://talk.ltn.com.tw/article/breakingnews/4976920\" title=\"Emmy時間》川普非常手段救美財政 台灣財務健全強大\">Emmy時間》川普非常手段救美財政 台灣財務健全強大</a>\n",
              "<i class=\"immtag chan1\" href=\"https://talk.ltn.com.tw/article/breakingnews/4976920\">評論</i>\n",
              "<span class=\"time\">2分鐘前</span>\n",
              "<a class=\"http\" data-desc=\"T:0:Emmy時間》川普非常手段救美財政 台灣財務健全強大\" href=\"https://talk.ltn.com.tw/article/breakingnews/4976920\" title=\"Emmy時間》川普非常手段救美財政 台灣財務健全強大\">https://talk.ltn.com.tw/article/breakingnews/4976920</a>\n",
              "<p>川普到目前為止各種匪夷所思的舉動，看起來就是要拯救失控的美國財政，美國政府舉債36兆多美元，已經是GDP的120%，新冠疫情是非常嚴重的打擊了美國政府的財政。2019年美國的政府債務大致還跟GDP相當，維持在100%的水準，當時已經被很嚴厲的批評了，例如橋水基金的Ray Dalio不但多次痛批，還出</p>\n",
              "</div>\n",
              "</li>\n",
              "<li>\n",
              "<a class=\"ph\" data-desc=\"P:1:路透 : 美股市值已蒸發4兆美元 市場巨大警鐘\" href=\"https://ec.ltn.com.tw/article/breakingnews/4977001\" title=\"路透 : 美股市值已蒸發4兆美元 市場巨大警鐘\">\n",
              "<img alt=\"路透 : 美股市值已蒸發4兆美元 市場巨大警鐘\" class=\"lazy_imgs\" data-src=\"https://img.ltn.com.tw/Upload/business/page/400S/2025/03/12/phppm1kZf.jpg\" onerror=\"setDefault(this)\" src=\"https://news.ltn.com.tw/assets/images/default.png\" title=\"路透 : 美股市值已蒸發4兆美元 市場巨大警鐘\"/>\n",
              "</a>\n",
              "<div class=\"cont\" href=\"https://ec.ltn.com.tw/article/breakingnews/4977001\">\n",
              "<a class=\"tit\" data-desc=\"T:1:路透 : 美股市值已蒸發4兆美元 市場巨大警鐘\" href=\"https://ec.ltn.com.tw/article/breakingnews/4977001\" title=\"路透 : 美股市值已蒸發4兆美元 市場巨大警鐘\">路透 : 美股市值已蒸發4兆美元 市場巨大警鐘</a>\n",
              "<i class=\"immtag chan\" href=\"https://ec.ltn.com.tw/article/breakingnews/4977001\">財經</i>\n",
              "<span class=\"time\">10分鐘前</span>\n",
              "<a class=\"http\" data-desc=\"T:1:路透 : 美股市值已蒸發4兆美元 市場巨大警鐘\" href=\"https://ec.ltn.com.tw/article/breakingnews/4977001\" title=\"路透 : 美股市值已蒸發4兆美元 市場巨大警鐘\">https://ec.ltn.com.tw/article/breakingnews/4977001</a>\n",
              "<p>歐祥義／核稿編輯美國川普總統推進新關稅計畫，美股已經連日下行，在美國經濟陷入衰退疑慮下，三大指數昨（11日）拋售加劇，單日市值蒸發超過1.3兆美元（約新台幣42.7兆元）。《路透》指出，標普500指數自2月19日的高點下挫，不到1個月市值已蒸發了4兆美元（約新台幣131.6兆元）。</p>\n",
              "</div>\n",
              "</li>\n",
              "<li>\n",
              "<a class=\"ph\" data-desc=\"P:2:美股已進入「危險區」！為何這次別指望川普和Fed救市？\" href=\"https://ec.ltn.com.tw/article/breakingnews/4976982\" title=\"美股已進入「危險區」！為何這次別指望川普和Fed救市？\">\n",
              "<img alt=\"美股已進入「危險區」！為何這次別指望川普和Fed救市？\" class=\"lazy_imgs\" data-src=\"https://img.ltn.com.tw/Upload/business/page/400S/2025/03/12/php6wAwWT.jpg\" onerror=\"setDefault(this)\" src=\"https://news.ltn.com.tw/assets/images/default.png\" title=\"美股已進入「危險區」！為何這次別指望川普和Fed救市？\"/>\n",
              "</a>\n",
              "<div class=\"cont\" href=\"https://ec.ltn.com.tw/article/breakingnews/4976982\">\n",
              "<a class=\"tit\" data-desc=\"T:2:美股已進入「危險區」！為何這次別指望川普和Fed救市？\" href=\"https://ec.ltn.com.tw/article/breakingnews/4976982\" title=\"美股已進入「危險區」！為何這次別指望川普和Fed救市？\">美股已進入「危險區」！為何這次別指望川普和Fed救市？</a>\n",
              "<i class=\"immtag chan\" href=\"https://ec.ltn.com.tw/article/breakingnews/4976982\">財經</i>\n",
              "<span class=\"time\">13分鐘前</span>\n",
              "<a class=\"http\" data-desc=\"T:2:美股已進入「危險區」！為何這次別指望川普和Fed救市？\" href=\"https://ec.ltn.com.tw/article/breakingnews/4976982\" title=\"美股已進入「危險區」！為何這次別指望川普和Fed救市？\">https://ec.ltn.com.tw/article/breakingnews/4976982</a>\n",
              "<p>林浥樺／核稿編輯經過連續3週的持續下跌，美國股市在週一（11日）正式進入市場所謂的「危險區域」，而在過去，每當標普 500 指數跌破 200 日移動均線時，聯準會（Fed）或白宮往往會出手干預，以提振投資人信心，但投資人這次卻不再抱太大希望。</p>\n",
              "</div>\n",
              "</li>\n",
              "<li>\n",
              "<a class=\"ph\" data-desc=\"P:3:市場恐慌蔓延 川普淡化經濟衰退疑慮\" href=\"https://ec.ltn.com.tw/article/breakingnews/4976981\" title=\"市場恐慌蔓延 川普淡化經濟衰退疑慮\">\n",
              "<img alt=\"市場恐慌蔓延 川普淡化經濟衰退疑慮\" class=\"lazy_imgs\" data-src=\"https://img.ltn.com.tw/Upload/business/page/400S/2025/03/12/phpAOIZzD.jpg\" onerror=\"setDefault(this)\" src=\"https://news.ltn.com.tw/assets/images/default.png\" title=\"市場恐慌蔓延 川普淡化經濟衰退疑慮\"/>\n",
              "</a>\n",
              "<div class=\"cont\" href=\"https://ec.ltn.com.tw/article/breakingnews/4976981\">\n",
              "<a class=\"tit\" data-desc=\"T:3:市場恐慌蔓延 川普淡化經濟衰退疑慮\" href=\"https://ec.ltn.com.tw/article/breakingnews/4976981\" title=\"市場恐慌蔓延 川普淡化經濟衰退疑慮\">市場恐慌蔓延 川普淡化經濟衰退疑慮</a>\n",
              "<i class=\"immtag chan\" href=\"https://ec.ltn.com.tw/article/breakingnews/4976981\">財經</i>\n",
              "<span class=\"time\">22分鐘前</span>\n",
              "<a class=\"http\" data-desc=\"T:3:市場恐慌蔓延 川普淡化經濟衰退疑慮\" href=\"https://ec.ltn.com.tw/article/breakingnews/4976981\" title=\"市場恐慌蔓延 川普淡化經濟衰退疑慮\">https://ec.ltn.com.tw/article/breakingnews/4976981</a>\n",
              "<p>高佳菁／核稿編輯美國總統川普（Donald Trump）上任以來，多次威脅要課徵關稅，週二（11日）在對加拿大發出最新的貿易戰威脅後，又撤回相關言論，反覆無常的態度引發市場的擔憂，川普同（11）日則淡化關稅引發經濟衰退的風險，然而這一風險已導致美國市場陷入低迷。</p>\n",
              "</div>\n",
              "</li>\n",
              "<li>\n",
              "<a class=\"ph\" data-desc=\"P:4:台股早盤》台積電大漲喊衝 指數漲逾200點\" href=\"https://ec.ltn.com.tw/article/breakingnews/4977019\" title=\"台股早盤》台積電大漲喊衝 指數漲逾200點\">\n",
              "<img alt=\"台股早盤》台積電大漲喊衝 指數漲逾200點\" class=\"lazy_imgs\" data-src=\"https://img.ltn.com.tw/Upload/business/page/400S/2025/03/12/phpA7bEzj.jpg\" onerror=\"setDefault(this)\" src=\"https://news.ltn.com.tw/assets/images/default.png\" title=\"台股早盤》台積電大漲喊衝 指數漲逾200點\"/>\n",
              "</a>\n",
              "<div class=\"cont\" href=\"https://ec.ltn.com.tw/article/breakingnews/4977019\">\n",
              "<a class=\"tit\" data-desc=\"T:4:台股早盤》台積電大漲喊衝 指數漲逾200點\" href=\"https://ec.ltn.com.tw/article/breakingnews/4977019\" title=\"台股早盤》台積電大漲喊衝 指數漲逾200點\">台股早盤》台積電大漲喊衝 指數漲逾200點</a>\n",
              "<i class=\"immtag chan\" href=\"https://ec.ltn.com.tw/article/breakingnews/4977019\">財經</i>\n",
              "<span class=\"time\">39分鐘前</span>\n",
              "<a class=\"http\" data-desc=\"T:4:台股早盤》台積電大漲喊衝 指數漲逾200點\" href=\"https://ec.ltn.com.tw/article/breakingnews/4977019\" title=\"台股早盤》台積電大漲喊衝 指數漲逾200點\">https://ec.ltn.com.tw/article/breakingnews/4977019</a>\n",
              "<p>高佳菁／核稿編輯美國總統川普關稅威脅造成的不確定性環伺，拖累美股4大指數週二續跌，不過，台積電ADR收紅，台股週三在台積電開盤漲9元，指數開盤漲100.01點，以22171.1點開出，在電金傳3大族群普遍走揚下，指數開高走高，隨著台積電買盤進場點火，股價開高走高，上漲16元，指數漲幅擴大，早盤漲逾2</p>\n",
              "</div>\n",
              "</li>\n",
              "<li>\n",
              "<a class=\"ph\" data-desc=\"P:5:美股暴跌過度反應！「華爾街神算子」：本週4關鍵數據止跌\" href=\"https://ec.ltn.com.tw/article/breakingnews/4976986\" title=\"美股暴跌過度反應！「華爾街神算子」：本週4關鍵數據止跌\">\n",
              "<img alt=\"美股暴跌過度反應！「華爾街神算子」：本週4關鍵數據止跌\" class=\"lazy_imgs\" data-src=\"https://img.ltn.com.tw/Upload/business/page/400S/2025/03/12/php3KpTky.jpg\" onerror=\"setDefault(this)\" src=\"https://news.ltn.com.tw/assets/images/default.png\" title=\"美股暴跌過度反應！「華爾街神算子」：本週4關鍵數據止跌\"/>\n",
              "</a>\n",
              "<div class=\"cont\" href=\"https://ec.ltn.com.tw/article/breakingnews/4976986\">\n",
              "<a class=\"tit\" data-desc=\"T:5:美股暴跌過度反應！「華爾街神算子」：本週4關鍵數據止跌\" href=\"https://ec.ltn.com.tw/article/breakingnews/4976986\" title=\"美股暴跌過度反應！「華爾街神算子」：本週4關鍵數據止跌\">美股暴跌過度反應！「華爾街神算子」：本週4關鍵數據止跌</a>\n",
              "<i class=\"immtag chan\" href=\"https://ec.ltn.com.tw/article/breakingnews/4976986\">財經</i>\n",
              "<span class=\"time\">59分鐘前</span>\n",
              "<a class=\"http\" data-desc=\"T:5:美股暴跌過度反應！「華爾街神算子」：本週4關鍵數據止跌\" href=\"https://ec.ltn.com.tw/article/breakingnews/4976986\" title=\"美股暴跌過度反應！「華爾街神算子」：本週4關鍵數據止跌\">https://ec.ltn.com.tw/article/breakingnews/4976986</a>\n",
              "<p>高佳菁／核稿編輯美股築底信號浮現，華爾街最樂觀的分析師之一、被譽為「華爾街神算子」的Fundstrat全球顧問研究主管湯姆·李（Tom Lee）發聲指出，週一美股暴跌，是對多重利空的過度反應，並指出職位空缺報告、CPI、PPI數據及週五政府撥款截止日等本週4關鍵事件，或將助股市止穩。</p>\n",
              "</div>\n",
              "</li>\n",
              "<li>\n",
              "<a class=\"ph\" data-desc=\"P:6:挺川普！馬斯克：特斯拉在未來2年內讓美國產量翻倍\" href=\"https://ec.ltn.com.tw/article/breakingnews/4977012\" title=\"挺川普！馬斯克：特斯拉在未來2年內讓美國產量翻倍\">\n",
              "<img alt=\"挺川普！馬斯克：特斯拉在未來2年內讓美國產量翻倍\" class=\"lazy_imgs\" data-src=\"https://img.ltn.com.tw/Upload/business/page/400S/2025/03/12/phpEtQ9jj.jpg\" onerror=\"setDefault(this)\" src=\"https://news.ltn.com.tw/assets/images/default.png\" title=\"挺川普！馬斯克：特斯拉在未來2年內讓美國產量翻倍\"/>\n",
              "</a>\n",
              "<div class=\"cont\" href=\"https://ec.ltn.com.tw/article/breakingnews/4977012\">\n",
              "<a class=\"tit\" data-desc=\"T:6:挺川普！馬斯克：特斯拉在未來2年內讓美國產量翻倍\" href=\"https://ec.ltn.com.tw/article/breakingnews/4977012\" title=\"挺川普！馬斯克：特斯拉在未來2年內讓美國產量翻倍\">挺川普！馬斯克：特斯拉在未來2年內讓美國產量翻倍</a>\n",
              "<i class=\"immtag chan\" href=\"https://ec.ltn.com.tw/article/breakingnews/4977012\">財經</i>\n",
              "<span class=\"time\">1小時前</span>\n",
              "<a class=\"http\" data-desc=\"T:6:挺川普！馬斯克：特斯拉在未來2年內讓美國產量翻倍\" href=\"https://ec.ltn.com.tw/article/breakingnews/4977012\" title=\"挺川普！馬斯克：特斯拉在未來2年內讓美國產量翻倍\">https://ec.ltn.com.tw/article/breakingnews/4977012</a>\n",
              "<p>高佳菁／核稿編輯特斯拉（Tesla）執行長馬斯克（Elon Musk）宣布，將在未來2年內將特斯拉在美國的汽車產量增加一倍。綜合媒體報導，馬斯克週三（12日）在自家社交平台X發文表示，為了支持美國總統川普（Donald Trump）的政策，並表明我們對美國未來的信心，特斯拉承諾在未來2年內將美國汽車</p>\n",
              "</div>\n",
              "</li>\n",
              "<li>\n",
              "<a class=\"ph\" data-desc=\"P:7:美元指數挫至4個月低點 國際油價小幅上漲\" href=\"https://ec.ltn.com.tw/article/breakingnews/4977036\" title=\"美元指數挫至4個月低點 國際油價小幅上漲\">\n",
              "<img alt=\"美元指數挫至4個月低點 國際油價小幅上漲\" class=\"lazy_imgs\" data-src=\"https://img.ltn.com.tw/Upload/business/page/400S/2025/03/12/phpsiKcx6.jpg\" onerror=\"setDefault(this)\" src=\"https://news.ltn.com.tw/assets/images/default.png\" title=\"美元指數挫至4個月低點 國際油價小幅上漲\"/>\n",
              "</a>\n",
              "<div class=\"cont\" href=\"https://ec.ltn.com.tw/article/breakingnews/4977036\">\n",
              "<a class=\"tit\" data-desc=\"T:7:美元指數挫至4個月低點 國際油價小幅上漲\" href=\"https://ec.ltn.com.tw/article/breakingnews/4977036\" title=\"美元指數挫至4個月低點 國際油價小幅上漲\">美元指數挫至4個月低點 國際油價小幅上漲</a>\n",
              "<i class=\"immtag chan\" href=\"https://ec.ltn.com.tw/article/breakingnews/4977036\">財經</i>\n",
              "<span class=\"time\">1小時前</span>\n",
              "<a class=\"http\" data-desc=\"T:7:美元指數挫至4個月低點 國際油價小幅上漲\" href=\"https://ec.ltn.com.tw/article/breakingnews/4977036\" title=\"美元指數挫至4個月低點 國際油價小幅上漲\">https://ec.ltn.com.tw/article/breakingnews/4977036</a>\n",
              "<p>林浥樺／核稿編輯受美元疲軟影響，國際油價週二（11日）小幅上漲，但由於對美國經濟放緩以及關稅對全球經濟成長的影響，漲幅受限。紐約西德州中級原油4月交割價上漲22美分，或0.3%，收每桶66.25美元。布蘭特原油5月交割價上漲28美分，或0.4%，收每桶69.56美元。</p>\n",
              "</div>\n",
              "</li>\n",
              "<li>\n",
              "<a class=\"ph\" data-desc=\"P:8:買進一輛Model S！川普：針對特斯拉的暴力行動是恐怖主義\" href=\"https://ec.ltn.com.tw/article/breakingnews/4976976\" title=\"買進一輛Model S！川普：針對特斯拉的暴力行動是恐怖主義\">\n",
              "<img alt=\"買進一輛Model S！川普：針對特斯拉的暴力行動是恐怖主義\" class=\"lazy_imgs\" data-src=\"https://img.ltn.com.tw/Upload/business/page/400S/2025/03/12/phpSvghue.jpg\" onerror=\"setDefault(this)\" src=\"https://news.ltn.com.tw/assets/images/default.png\" title=\"買進一輛Model S！川普：針對特斯拉的暴力行動是恐怖主義\"/>\n",
              "</a>\n",
              "<div class=\"cont\" href=\"https://ec.ltn.com.tw/article/breakingnews/4976976\">\n",
              "<a class=\"tit\" data-desc=\"T:8:買進一輛Model S！川普：針對特斯拉的暴力行動是恐怖主義\" href=\"https://ec.ltn.com.tw/article/breakingnews/4976976\" title=\"買進一輛Model S！川普：針對特斯拉的暴力行動是恐怖主義\">買進一輛Model S！川普：針對特斯拉的暴力行動是恐怖主義</a>\n",
              "<i class=\"immtag chan\" href=\"https://ec.ltn.com.tw/article/breakingnews/4976976\">財經</i>\n",
              "<span class=\"time\">1小時前</span>\n",
              "<a class=\"http\" data-desc=\"T:8:買進一輛Model S！川普：針對特斯拉的暴力行動是恐怖主義\" href=\"https://ec.ltn.com.tw/article/breakingnews/4976976\" title=\"買進一輛Model S！川普：針對特斯拉的暴力行動是恐怖主義\">https://ec.ltn.com.tw/article/breakingnews/4976976</a>\n",
              "<p>歐祥義／核稿編輯美國總統川普（Donald Trump）週二（11日）表示，針對特斯拉（Tesla）經銷商的暴力行動將被認定為國內恐怖主義，肇事者將經歷「地獄般的折磨」，藉此表達對盟友、特斯拉執行長馬斯克（Elon Musk）的支持。《路透》報導，川普週二在馬斯克的陪同下，為他的員工挑選一輛新的特斯</p>\n",
              "</div>\n",
              "</li>\n",
              "<li>\n",
              "<a class=\"ph\" data-desc=\"P:9:黃金重回2900美元！專家曝持續上漲有條件\" href=\"https://ec.ltn.com.tw/article/breakingnews/4976995\" title=\"黃金重回2900美元！專家曝持續上漲有條件\">\n",
              "<img alt=\"黃金重回2900美元！專家曝持續上漲有條件\" class=\"lazy_imgs\" data-src=\"https://img.ltn.com.tw/Upload/business/page/400S/2025/03/12/phpujmggs.jpg\" onerror=\"setDefault(this)\" src=\"https://news.ltn.com.tw/assets/images/default.png\" title=\"黃金重回2900美元！專家曝持續上漲有條件\"/>\n",
              "</a>\n",
              "<div class=\"cont\" href=\"https://ec.ltn.com.tw/article/breakingnews/4976995\">\n",
              "<a class=\"tit\" data-desc=\"T:9:黃金重回2900美元！專家曝持續上漲有條件\" href=\"https://ec.ltn.com.tw/article/breakingnews/4976995\" title=\"黃金重回2900美元！專家曝持續上漲有條件\">黃金重回2900美元！專家曝持續上漲有條件</a>\n",
              "<i class=\"immtag chan\" href=\"https://ec.ltn.com.tw/article/breakingnews/4976995\">財經</i>\n",
              "<span class=\"time\">1小時前</span>\n",
              "<a class=\"http\" data-desc=\"T:9:黃金重回2900美元！專家曝持續上漲有條件\" href=\"https://ec.ltn.com.tw/article/breakingnews/4976995\" title=\"黃金重回2900美元！專家曝持續上漲有條件\">https://ec.ltn.com.tw/article/breakingnews/4976995</a>\n",
              "<p>高佳菁／核稿編輯由於美元走弱以及關稅戰引發經濟放緩的擔憂，週二（11日）黃金價格上漲1%，分析師指出，在市場不確定性持續存在的情況下，黃金可能會繼續受到支撐，但若俄烏談盤有進展，可能降低風險溢價。現貨黃金價格上漲1%，至每盎司2917.79美元；美國4月交割的黃金期貨上漲0.7%，報每盎司2920.</p>\n",
              "</div>\n",
              "</li>\n",
              "<li>\n",
              "<a class=\"ph\" data-desc=\"P:10:一天內翻雲覆雨！加拿大停收電力附加費 川普撤回鋼鋁50％關稅\" href=\"https://ec.ltn.com.tw/article/breakingnews/4976952\" title=\"一天內翻雲覆雨！加拿大停收電力附加費 川普撤回鋼鋁50％關稅\">\n",
              "<img alt=\"一天內翻雲覆雨！加拿大停收電力附加費 川普撤回鋼鋁50％關稅\" class=\"lazy_imgs\" data-src=\"https://img.ltn.com.tw/Upload/business/page/400S/2025/03/12/phpEi3TSs.jpg\" onerror=\"setDefault(this)\" src=\"https://news.ltn.com.tw/assets/images/default.png\" title=\"一天內翻雲覆雨！加拿大停收電力附加費 川普撤回鋼鋁50％關稅\"/>\n",
              "</a>\n",
              "<div class=\"cont\" href=\"https://ec.ltn.com.tw/article/breakingnews/4976952\">\n",
              "<a class=\"tit\" data-desc=\"T:10:一天內翻雲覆雨！加拿大停收電力附加費 川普撤回鋼鋁50％關稅\" href=\"https://ec.ltn.com.tw/article/breakingnews/4976952\" title=\"一天內翻雲覆雨！加拿大停收電力附加費 川普撤回鋼鋁50％關稅\">一天內翻雲覆雨！加拿大停收電力附加費 川普撤回鋼鋁50％關稅</a>\n",
              "<i class=\"immtag chan\" href=\"https://ec.ltn.com.tw/article/breakingnews/4976952\">財經</i>\n",
              "<span class=\"time\">2小時前</span>\n",
              "<a class=\"http\" data-desc=\"T:10:一天內翻雲覆雨！加拿大停收電力附加費 川普撤回鋼鋁50％關稅\" href=\"https://ec.ltn.com.tw/article/breakingnews/4976952\" title=\"一天內翻雲覆雨！加拿大停收電力附加費 川普撤回鋼鋁50％關稅\">https://ec.ltn.com.tw/article/breakingnews/4976952</a>\n",
              "<p>蔡百靈／核稿編輯美國總統川普的關稅政策反覆無常，加拿大安大略省11日宣布對輸往美國3州的電力徵收25%附加費，引發川普不滿，11日隨即報復，宣布對從加拿大進口的所有鋼鋁加徵25%關稅，加倍調升至50%，關稅大戰瞬間升級。當天稍後，安大略省長福特表示，在與美方協商後，暫時取消25%的電力附加稅，美方也</p>\n",
              "</div>\n",
              "</li>\n",
              "<li>\n",
              "<a class=\"ph\" data-desc=\"P:11:CNN：川普在短短20天 讓美國從繁榮轉入衰退恐慌\" href=\"https://ec.ltn.com.tw/article/breakingnews/4976808\" title=\"CNN：川普在短短20天 讓美國從繁榮轉入衰退恐慌\">\n",
              "<img alt=\"CNN：川普在短短20天 讓美國從繁榮轉入衰退恐慌\" class=\"lazy_imgs\" data-src=\"https://img.ltn.com.tw/Upload/business/page/400S/2025/03/11/phpQwVbgU.jpg\" onerror=\"setDefault(this)\" src=\"https://news.ltn.com.tw/assets/images/default.png\" title=\"CNN：川普在短短20天 讓美國從繁榮轉入衰退恐慌\"/>\n",
              "</a>\n",
              "<div class=\"cont\" href=\"https://ec.ltn.com.tw/article/breakingnews/4976808\">\n",
              "<a class=\"tit\" data-desc=\"T:11:CNN：川普在短短20天 讓美國從繁榮轉入衰退恐慌\" href=\"https://ec.ltn.com.tw/article/breakingnews/4976808\" title=\"CNN：川普在短短20天 讓美國從繁榮轉入衰退恐慌\">CNN：川普在短短20天 讓美國從繁榮轉入衰退恐慌</a>\n",
              "<i class=\"immtag chan\" href=\"https://ec.ltn.com.tw/article/breakingnews/4976808\">財經</i>\n",
              "<span class=\"time\">3小時前</span>\n",
              "<a class=\"http\" data-desc=\"T:11:CNN：川普在短短20天 讓美國從繁榮轉入衰退恐慌\" href=\"https://ec.ltn.com.tw/article/breakingnews/4976808\" title=\"CNN：川普在短短20天 讓美國從繁榮轉入衰退恐慌\">https://ec.ltn.com.tw/article/breakingnews/4976808</a>\n",
              "<p>吳孟峰／核稿編輯美國有線電視新聞網CNN報導，就在20天前，美國股市還處於歷史最高點，美國經濟似乎正穩定成長，經濟衰退還遙遙無期，但現在，美國經濟就從繁榮轉入衰退恐慌。現在，「R」（衰退，Recession ）字似乎無所不在。對經濟衰退的擔憂正撼動股市，GDP預測不斷下調，川普總統和他的經濟團隊正面</p>\n",
              "</div>\n",
              "</li>\n",
              "<li>\n",
              "<a class=\"ph\" data-desc=\"P:12:川普將矛頭指向中國製貨櫃船 打海洋經濟戰\" href=\"https://ec.ltn.com.tw/article/breakingnews/4976860\" title=\"川普將矛頭指向中國製貨櫃船 打海洋經濟戰\">\n",
              "<img alt=\"川普將矛頭指向中國製貨櫃船 打海洋經濟戰\" class=\"lazy_imgs\" data-src=\"https://img.ltn.com.tw/Upload/business/page/400S/2025/03/11/phpsrQ2NY.jpg\" onerror=\"setDefault(this)\" src=\"https://news.ltn.com.tw/assets/images/default.png\" title=\"川普將矛頭指向中國製貨櫃船 打海洋經濟戰\"/>\n",
              "</a>\n",
              "<div class=\"cont\" href=\"https://ec.ltn.com.tw/article/breakingnews/4976860\">\n",
              "<a class=\"tit\" data-desc=\"T:12:川普將矛頭指向中國製貨櫃船 打海洋經濟戰\" href=\"https://ec.ltn.com.tw/article/breakingnews/4976860\" title=\"川普將矛頭指向中國製貨櫃船 打海洋經濟戰\">川普將矛頭指向中國製貨櫃船 打海洋經濟戰</a>\n",
              "<i class=\"immtag chan\" href=\"https://ec.ltn.com.tw/article/breakingnews/4976860\">財經</i>\n",
              "<span class=\"time\">3小時前</span>\n",
              "<a class=\"http\" data-desc=\"T:12:川普將矛頭指向中國製貨櫃船 打海洋經濟戰\" href=\"https://ec.ltn.com.tw/article/breakingnews/4976860\" title=\"川普將矛頭指向中國製貨櫃船 打海洋經濟戰\">https://ec.ltn.com.tw/article/breakingnews/4976860</a>\n",
              "<p>吳孟峰／核稿編輯作為美國不斷擴大全球經濟和貿易戰的策略，美國川普政府將矛頭指向中國製造的貨櫃船，加劇全球海洋經濟戰。美媒CNBC報導，近年來，中國在船舶製造領域的影響力迅速增強，已在全部船舶製造領域超越原領先者韓國。根據Veson Nautical的數據，到2024年，中國建造的貨櫃船將佔據81%的</p>\n",
              "</div>\n",
              "</li>\n",
              "<li>\n",
              "<a class=\"ph\" data-desc=\"P:13:台股今日重點\" href=\"https://ec.ltn.com.tw/article/breakingnews/4976492\" title=\"台股今日重點\">\n",
              "<img alt=\"台股今日重點\" class=\"lazy_imgs\" data-src=\"https://img.ltn.com.tw/Upload/business/page/400S/2025/03/11/phpkre8fY.jpg\" onerror=\"setDefault(this)\" src=\"https://news.ltn.com.tw/assets/images/default.png\" title=\"台股今日重點\"/>\n",
              "</a>\n",
              "<div class=\"cont\" href=\"https://ec.ltn.com.tw/article/breakingnews/4976492\">\n",
              "<a class=\"tit\" data-desc=\"T:13:台股今日重點\" href=\"https://ec.ltn.com.tw/article/breakingnews/4976492\" title=\"台股今日重點\">台股今日重點</a>\n",
              "<i class=\"immtag chan\" href=\"https://ec.ltn.com.tw/article/breakingnews/4976492\">財經</i>\n",
              "<span class=\"time\">3小時前</span>\n",
              "<a class=\"http\" data-desc=\"T:13:台股今日重點\" href=\"https://ec.ltn.com.tw/article/breakingnews/4976492\" title=\"台股今日重點\">https://ec.ltn.com.tw/article/breakingnews/4976492</a>\n",
              "<p>1.台股週二（11日）開盤在台積電跌29元，指數跳空下殺333.09點，以2萬2126.06點開出，在電金傳齊殺下，指數開低走低，隨著台積電觸及963元，跌35元，指數觸及2萬1769點，大跌690點，創史上第8大。所幸世芯-KY、瑞昱、宏碁等電子股翻紅走高，加上台積電拉尾盤，終場指數跌388.06</p>\n",
              "</div>\n",
              "</li>\n",
              "<li>\n",
              "<a class=\"ph\" data-desc=\"P:14:川普：希望俄羅斯同意停火 將邀澤倫斯基再到白宮\" href=\"https://def.ltn.com.tw/article/breakingnews/4976943\" title=\"川普：希望俄羅斯同意停火 將邀澤倫斯基再到白宮\">\n",
              "<img alt=\"川普：希望俄羅斯同意停火 將邀澤倫斯基再到白宮\" class=\"lazy_imgs\" data-src=\"https://img.ltn.com.tw/Upload/def/page/400S/2025/03/12/phpUTERJw.jpg\" onerror=\"setDefault(this)\" src=\"https://news.ltn.com.tw/assets/images/default.png\" title=\"川普：希望俄羅斯同意停火 將邀澤倫斯基再到白宮\"/>\n",
              "</a>\n",
              "<div class=\"cont\" href=\"https://def.ltn.com.tw/article/breakingnews/4976943\">\n",
              "<a class=\"tit\" data-desc=\"T:14:川普：希望俄羅斯同意停火 將邀澤倫斯基再到白宮\" href=\"https://def.ltn.com.tw/article/breakingnews/4976943\" title=\"川普：希望俄羅斯同意停火 將邀澤倫斯基再到白宮\">川普：希望俄羅斯同意停火 將邀澤倫斯基再到白宮</a>\n",
              "<i class=\"immtag chan11\" href=\"https://def.ltn.com.tw/article/breakingnews/4976943\">軍武</i>\n",
              "<span class=\"time\">3小時前</span>\n",
              "<a class=\"http\" data-desc=\"T:14:川普：希望俄羅斯同意停火 將邀澤倫斯基再到白宮\" href=\"https://def.ltn.com.tw/article/breakingnews/4976943\" title=\"川普：希望俄羅斯同意停火 將邀澤倫斯基再到白宮\">https://def.ltn.com.tw/article/breakingnews/4976943</a>\n",
              "<p>蔡百靈／核稿編輯美國與烏克蘭11日在沙烏地阿拉伯達成協議，烏克蘭同意接受美國斡旋的30天停火計畫，並希望俄羅斯也接受，藉此開啟和平談判，美國也宣布即刻恢復對烏克蘭的情報共享與安全援助。美國總統川普11日在白宮受訪時表示，希望俄羅斯總統普廷也同意停火，未來他也會重新邀請烏克蘭總統澤倫斯基前來白宮。</p>\n",
              "</div>\n",
              "</li>\n",
              "<li>\n",
              "<a class=\"ph\" data-desc=\"P:15:03/12 各報重點新聞一覽\" href=\"https://news.ltn.com.tw/news/life/breakingnews/4976947\" title=\"03/12 各報重點新聞一覽\">\n",
              "<img alt=\"03/12 各報重點新聞一覽\" class=\"lazy_imgs\" data-src=\"https://img.ltn.com.tw/Upload/news/300/2025/03/12/phpKJmrwP.jpg\" onerror=\"setDefault(this)\" src=\"https://news.ltn.com.tw/assets/images/default.png\" title=\"03/12 各報重點新聞一覽\"/>\n",
              "</a>\n",
              "<div class=\"cont\" href=\"https://news.ltn.com.tw/news/life/breakingnews/4976947\">\n",
              "<a class=\"tit\" data-desc=\"T:15:03/12 各報重點新聞一覽\" href=\"https://news.ltn.com.tw/news/life/breakingnews/4976947\" title=\"03/12 各報重點新聞一覽\">03/12 各報重點新聞一覽</a>\n",
              "<i class=\"immtag chan\" href=\"https://news.ltn.com.tw/news/life/breakingnews/4976947\">生活</i>\n",
              "<span class=\"time\">3小時前</span>\n",
              "<a class=\"http\" data-desc=\"T:15:03/12 各報重點新聞一覽\" href=\"https://news.ltn.com.tw/news/life/breakingnews/4976947\" title=\"03/12 各報重點新聞一覽\">https://news.ltn.com.tw/news/life/breakingnews/4976947</a>\n",
              "<p>自由時報覆議若沒過 台電千億撥補將落空 卓揆：被迫調電價 物價恐上漲行政院長卓榮泰昨赴立法院報告「今年度中央政府總預算案覆議案」並備詢。卓在報告中提及，刪除撥補台電的一千億元，如最後被迫調整電價，恐怕將造成民生物價上漲，盼立委能以人民福祉為依歸，重新審視總預算案。</p>\n",
              "</div>\n",
              "</li>\n",
              "<li>\n",
              "<a class=\"ph\" data-desc=\"P:16:烏克蘭同意停火30天！美即刻恢復援助 俄方回應成關鍵\" href=\"https://def.ltn.com.tw/article/breakingnews/4976932\" title=\"烏克蘭同意停火30天！美即刻恢復援助 俄方回應成關鍵\">\n",
              "<img alt=\"烏克蘭同意停火30天！美即刻恢復援助 俄方回應成關鍵\" class=\"lazy_imgs\" data-src=\"https://img.ltn.com.tw/Upload/def/page/400S/2025/03/12/4976932_1_1.jpg\" onerror=\"setDefault(this)\" src=\"https://news.ltn.com.tw/assets/images/default.png\" title=\"烏克蘭同意停火30天！美即刻恢復援助 俄方回應成關鍵\"/>\n",
              "</a>\n",
              "<div class=\"cont\" href=\"https://def.ltn.com.tw/article/breakingnews/4976932\">\n",
              "<a class=\"tit\" data-desc=\"T:16:烏克蘭同意停火30天！美即刻恢復援助 俄方回應成關鍵\" href=\"https://def.ltn.com.tw/article/breakingnews/4976932\" title=\"烏克蘭同意停火30天！美即刻恢復援助 俄方回應成關鍵\">烏克蘭同意停火30天！美即刻恢復援助 俄方回應成關鍵</a>\n",
              "<i class=\"immtag chan11\" href=\"https://def.ltn.com.tw/article/breakingnews/4976932\">軍武</i>\n",
              "<span class=\"time\">4小時前</span>\n",
              "<a class=\"http\" data-desc=\"T:16:烏克蘭同意停火30天！美即刻恢復援助 俄方回應成關鍵\" href=\"https://def.ltn.com.tw/article/breakingnews/4976932\" title=\"烏克蘭同意停火30天！美即刻恢復援助 俄方回應成關鍵\">https://def.ltn.com.tw/article/breakingnews/4976932</a>\n",
              "<p>烏克蘭與美國11日在沙烏地阿拉伯吉達（Jeddah）達成協議，烏克蘭同意接受美國斡旋的30天停火計畫，並盼俄羅斯同步接受，以開啟和平談判。美國宣布即刻恢復對烏克蘭的情報共享與安全援助。目前，俄羅斯的回應仍未明朗，成為後續發展的關鍵。美國有線電視新聞網（CNN）報導，這項協議歷經超過8小時的談判，由美</p>\n",
              "</div>\n",
              "</li>\n",
              "<li>\n",
              "<a class=\"ph\" data-desc=\"P:17:美加關稅反覆！道瓊跌478點 台積電ADR收紅\" href=\"https://ec.ltn.com.tw/article/breakingnews/4976941\" title=\"美加關稅反覆！道瓊跌478點 台積電ADR收紅\">\n",
              "<img alt=\"美加關稅反覆！道瓊跌478點 台積電ADR收紅\" class=\"lazy_imgs\" data-src=\"https://img.ltn.com.tw/Upload/business/page/400S/2025/03/12/phpVzpOHT.jpg\" onerror=\"setDefault(this)\" src=\"https://news.ltn.com.tw/assets/images/default.png\" title=\"美加關稅反覆！道瓊跌478點 台積電ADR收紅\"/>\n",
              "</a>\n",
              "<div class=\"cont\" href=\"https://ec.ltn.com.tw/article/breakingnews/4976941\">\n",
              "<a class=\"tit\" data-desc=\"T:17:美加關稅反覆！道瓊跌478點 台積電ADR收紅\" href=\"https://ec.ltn.com.tw/article/breakingnews/4976941\" title=\"美加關稅反覆！道瓊跌478點 台積電ADR收紅\">美加關稅反覆！道瓊跌478點 台積電ADR收紅</a>\n",
              "<i class=\"immtag chan\" href=\"https://ec.ltn.com.tw/article/breakingnews/4976941\">財經</i>\n",
              "<span class=\"time\">4小時前</span>\n",
              "<a class=\"http\" data-desc=\"T:17:美加關稅反覆！道瓊跌478點 台積電ADR收紅\" href=\"https://ec.ltn.com.tw/article/breakingnews/4976941\" title=\"美加關稅反覆！道瓊跌478點 台積電ADR收紅\">https://ec.ltn.com.tw/article/breakingnews/4976941</a>\n",
              "<p>蔡百靈／核稿編輯美國總統川普週二宣布，將對所有加拿大鋼鐵和鋁產品加倍徵收關稅至50%，並在幾個小時內生效，但有宣布維持25%關稅。由於投資人擔心又有新的關稅威脅全球經濟，加劇數月來以來的股市拋售，而烏克蘭和俄羅斯停火進展則短暫提振股市。週二道瓊工業指數下跌478點、或1.14%，那斯達克及標普500</p>\n",
              "</div>\n",
              "</li>\n",
              "<li>\n",
              "<a class=\"ph\" data-desc=\"P:18:川普關稅不確定性環伺 美股續挫道瓊大跌近500點\n",
              "\" href=\"https://ec.ltn.com.tw/article/breakingnews/4976940\" title=\"川普關稅不確定性環伺 美股續挫道瓊大跌近500點\n",
              "\">\n",
              "<img alt=\"川普關稅不確定性環伺 美股續挫道瓊大跌近500點\n",
              "\" class=\"lazy_imgs\" data-src=\"https://news.ltn.com.tw/assets/images/default.png\" onerror=\"setDefault(this)\" src=\"https://news.ltn.com.tw/assets/images/default.png\" title=\"川普關稅不確定性環伺 美股續挫道瓊大跌近500點\n",
              "\"/>\n",
              "</a>\n",
              "<div class=\"cont\" href=\"https://ec.ltn.com.tw/article/breakingnews/4976940\">\n",
              "<a class=\"tit\" data-desc=\"T:18:川普關稅不確定性環伺 美股續挫道瓊大跌近500點\n",
              "\" href=\"https://ec.ltn.com.tw/article/breakingnews/4976940\" title=\"川普關稅不確定性環伺 美股續挫道瓊大跌近500點\n",
              "\">川普關稅不確定性環伺 美股續挫道瓊大跌近500點\n",
              "</a>\n",
              "<i class=\"immtag chan\" href=\"https://ec.ltn.com.tw/article/breakingnews/4976940\">財經</i>\n",
              "<span class=\"time\">4小時前</span>\n",
              "<a class=\"http\" data-desc=\"T:18:川普關稅不確定性環伺 美股續挫道瓊大跌近500點\n",
              "\" href=\"https://ec.ltn.com.tw/article/breakingnews/4976940\" title=\"川普關稅不確定性環伺 美股續挫道瓊大跌近500點\n",
              "\">https://ec.ltn.com.tw/article/breakingnews/4976940</a>\n",
              "<p>美國總統川普（Donald Trump）關稅威脅造成的不確定性環伺，拖累美股4大指數今天收盤盡墨，延續前一日跌勢，道瓊工業指數甚至大跌近500點。道瓊工業指數大跌478.23點或1.14%，收報41433.48點。標普500指數下挫42.49點或0.76%，收5572.07點。</p>\n",
              "</div>\n",
              "</li>\n",
              "<li>\n",
              "<a class=\"ph\" data-desc=\"P:19:報復美國 加提高輸美三州電價\" href=\"https://ec.ltn.com.tw/article/paper/1696024\" title=\"報復美國 加提高輸美三州電價\">\n",
              "<img alt=\"報復美國 加提高輸美三州電價\" class=\"lazy_imgs\" data-src=\"https://img.ltn.com.tw/Upload/business/page/400S/2025/03/12/77.jpg\" onerror=\"setDefault(this)\" src=\"https://news.ltn.com.tw/assets/images/default.png\" title=\"報復美國 加提高輸美三州電價\"/>\n",
              "</a>\n",
              "<div class=\"cont\" href=\"https://ec.ltn.com.tw/article/paper/1696024\">\n",
              "<a class=\"tit\" data-desc=\"T:19:報復美國 加提高輸美三州電價\" href=\"https://ec.ltn.com.tw/article/paper/1696024\" title=\"報復美國 加提高輸美三州電價\">報復美國 加提高輸美三州電價</a>\n",
              "<i class=\"immtag chan\" href=\"https://ec.ltn.com.tw/article/paper/1696024\">財經</i>\n",
              "<span class=\"time\">5小時前</span>\n",
              "<a class=\"http\" data-desc=\"T:19:報復美國 加提高輸美三州電價\" href=\"https://ec.ltn.com.tw/article/paper/1696024\" title=\"報復美國 加提高輸美三州電價\">https://ec.ltn.com.tw/article/paper/1696024</a>\n",
              "<p>日爭取鋼鋁豁免碰壁美國總統川普對加拿大多數進口商品徵收二十五％關稅，雖然經過兩次延後，仍引發加拿大各界不滿，安大略省週一宣布，將對輸送至美國明尼蘇達州、密西根州和紐約州的電力加收二十五％費用；此舉讓川普跳腳，痛批加拿大濫用關稅。而日本在與川普政府協商後，仍無法取得包括鋼鋁在內的關稅豁免。</p>\n",
              "</div>\n",
              "</li>\n",
              "</ul>"
            ]
          },
          "execution_count": 5,
          "metadata": {},
          "output_type": "execute_result"
        }
      ],
      "source": [
        "# 轉為 BeautifulSoup 物件\n",
        "soup = BeautifulSoup(r.text, \"html.parser\")\n",
        "# 使用 CSS Selector 定位\n",
        "soup.find(\"ul\", {\"data-desc\": \"列表\"})\n"
      ]
    },
    {
      "cell_type": "markdown",
      "metadata": {
        "id": "hJ4E68xZUYq0"
      },
      "source": [
        "#### 獲取每篇文章標題、連結"
      ]
    },
    {
      "cell_type": "code",
      "execution_count": 9,
      "metadata": {
        "colab": {
          "base_uri": "https://localhost:8080/"
        },
        "id": "N9vuuBiHUMqT",
        "outputId": "e4dc42f0-6326-4fdb-8f91-ea5a06853fe9"
      },
      "outputs": [
        {
          "data": {
            "text/plain": [
              "['Emmy時間》川普非常手段救美財政 台灣財務健全強大',\n",
              " 'https://talk.ltn.com.tw/article/breakingnews/4976920',\n",
              " '路透 : 美股市值已蒸發4兆美元 市場巨大警鐘',\n",
              " 'https://ec.ltn.com.tw/article/breakingnews/4977001',\n",
              " '美股已進入「危險區」！為何這次別指望川普和Fed救市？',\n",
              " 'https://ec.ltn.com.tw/article/breakingnews/4976982',\n",
              " '市場恐慌蔓延 川普淡化經濟衰退疑慮',\n",
              " 'https://ec.ltn.com.tw/article/breakingnews/4976981',\n",
              " '台股早盤》台積電大漲喊衝 指數漲逾200點',\n",
              " 'https://ec.ltn.com.tw/article/breakingnews/4977019',\n",
              " '美股暴跌過度反應！「華爾街神算子」：本週4關鍵數據止跌',\n",
              " 'https://ec.ltn.com.tw/article/breakingnews/4976986',\n",
              " '挺川普！馬斯克：特斯拉在未來2年內讓美國產量翻倍',\n",
              " 'https://ec.ltn.com.tw/article/breakingnews/4977012',\n",
              " '美元指數挫至4個月低點 國際油價小幅上漲',\n",
              " 'https://ec.ltn.com.tw/article/breakingnews/4977036',\n",
              " '買進一輛Model S！川普：針對特斯拉的暴力行動是恐怖主義',\n",
              " 'https://ec.ltn.com.tw/article/breakingnews/4976976',\n",
              " '黃金重回2900美元！專家曝持續上漲有條件',\n",
              " 'https://ec.ltn.com.tw/article/breakingnews/4976995',\n",
              " '一天內翻雲覆雨！加拿大停收電力附加費 川普撤回鋼鋁50％關稅',\n",
              " 'https://ec.ltn.com.tw/article/breakingnews/4976952',\n",
              " 'CNN：川普在短短20天 讓美國從繁榮轉入衰退恐慌',\n",
              " 'https://ec.ltn.com.tw/article/breakingnews/4976808',\n",
              " '川普將矛頭指向中國製貨櫃船 打海洋經濟戰',\n",
              " 'https://ec.ltn.com.tw/article/breakingnews/4976860',\n",
              " '台股今日重點',\n",
              " 'https://ec.ltn.com.tw/article/breakingnews/4976492',\n",
              " '川普：希望俄羅斯同意停火 將邀澤倫斯基再到白宮',\n",
              " 'https://def.ltn.com.tw/article/breakingnews/4976943',\n",
              " '03/12 各報重點新聞一覽',\n",
              " 'https://news.ltn.com.tw/news/life/breakingnews/4976947',\n",
              " '烏克蘭同意停火30天！美即刻恢復援助 俄方回應成關鍵',\n",
              " 'https://def.ltn.com.tw/article/breakingnews/4976932',\n",
              " '美加關稅反覆！道瓊跌478點 台積電ADR收紅',\n",
              " 'https://ec.ltn.com.tw/article/breakingnews/4976941',\n",
              " '川普關稅不確定性環伺 美股續挫道瓊大跌近500點\\r',\n",
              " 'https://ec.ltn.com.tw/article/breakingnews/4976940',\n",
              " '報復美國 加提高輸美三州電價',\n",
              " 'https://ec.ltn.com.tw/article/paper/1696024']"
            ]
          },
          "execution_count": 9,
          "metadata": {},
          "output_type": "execute_result"
        }
      ],
      "source": [
        "item_list = soup.find(\"ul\", {\"data-desc\": \"列表\"}).find_all(\"li\")\n",
        "\n",
        "article_list = []\n",
        "for item in item_list:\n",
        "  piece = item.find(\"a\", {\"class\": \"ph\"})  # 獲取 class 屬性為 ph 的 <a> \n",
        "  title = piece.get(\"title\")  # 獲取 <a> 的 title 屬性\n",
        "  url = piece.get(\"href\")  # 獲取 <a> 的 href 屬性\n",
        "  article_list.append(title)\n",
        "  article_list.append(url)\n",
        "\n",
        "\n",
        "article_list"
      ]
    },
    {
      "cell_type": "markdown",
      "metadata": {
        "id": "t9MuM-jmzeO4"
      },
      "source": [
        "### (2) 使用 XPath 定位元素"
      ]
    },
    {
      "cell_type": "markdown",
      "metadata": {
        "id": "KmforoM7Vvf-"
      },
      "source": [
        "#### 定位文章列表處\n"
      ]
    },
    {
      "cell_type": "code",
      "execution_count": 10,
      "metadata": {
        "colab": {
          "base_uri": "https://localhost:8080/",
          "height": 196
        },
        "id": "q31hROpyV1CN",
        "outputId": "911e314e-62b4-47f3-f81b-1fcea482b853"
      },
      "outputs": [
        {
          "data": {
            "text/plain": [
              "'\\n                \\n            \\n                \\n            \\n            \\n                Emmy時間》川普非常手段救美財政 台灣財務健全強大\\n                評論\\n                2分鐘前\\n                https://talk.ltn.com.tw/article/breakingnews/4976920\\n                川普到目前為止各種匪夷所思的舉動，看起來就是要拯救失控的美國財政，美國政府舉債36兆多美元，已經是GDP的120%，新冠疫情是非常嚴重的打擊了美國政府的財政。2019年美國的政府債務大致還跟GDP相當，維持在100%的水準，當時已經被很嚴厲的批評了，例如橋水基金的Ray Dalio不但多次痛批，還出\\n            \\n        \\n\\n                \\n            \\n                \\n            \\n            \\n                路透 : 美股市值已蒸發4兆美元 市場巨大警鐘\\n                財經\\n                10分鐘前\\n                https://ec.ltn.com.tw/article/breakingnews/4977001\\n                歐祥義／核稿編輯美國川普總統推進新關稅計畫，美股已經連日下行，在美國經濟陷入衰退疑慮下，三大指數昨（11日）拋售加劇，單日市值蒸發超過1.3兆美元（約新台幣42.7兆元）。《路透》指出，標普500指數自2月19日的高點下挫，不到1個月市值已蒸發了4兆美元（約新台幣131.6兆元）。\\n            \\n        \\n\\n                \\n            \\n                \\n            \\n            \\n                美股已進入「危險區」！為何這次別指望川普和Fed救市？\\n                財經\\n                13分鐘前\\n                https://ec.ltn.com.tw/article/breakingnews/4976982\\n                林浥樺／核稿編輯經過連續3週的持續下跌，美國股市在週一（11日）正式進入市場所謂的「危險區域」，而在過去，每當標普 500 指數跌破 200 日移動均線時，聯準會（Fed）或白宮往往會出手干預，以提振投資人信心，但投資人這次卻不再抱太大希望。\\n            \\n        \\n\\n                \\n            \\n                \\n            \\n            \\n                市場恐慌蔓延 川普淡化經濟衰退疑慮\\n                財經\\n                22分鐘前\\n                https://ec.ltn.com.tw/article/breakingnews/4976981\\n                高佳菁／核稿編輯美國總統川普（Donald Trump）上任以來，多次威脅要課徵關稅，週二（11日）在對加拿大發出最新的貿易戰威脅後，又撤回相關言論，反覆無常的態度引發市場的擔憂，川普同（11）日則淡化關稅引發經濟衰退的風險，然而這一風險已導致美國市場陷入低迷。\\n            \\n        \\n\\n                \\n            \\n                \\n            \\n            \\n                台股早盤》台積電大漲喊衝 指數漲逾200點\\n                財經\\n                39分鐘前\\n                https://ec.ltn.com.tw/article/breakingnews/4977019\\n                高佳菁／核稿編輯美國總統川普關稅威脅造成的不確定性環伺，拖累美股4大指數週二續跌，不過，台積電ADR收紅，台股週三在台積電開盤漲9元，指數開盤漲100.01點，以22171.1點開出，在電金傳3大族群普遍走揚下，指數開高走高，隨著台積電買盤進場點火，股價開高走高，上漲16元，指數漲幅擴大，早盤漲逾2\\n            \\n        \\n\\n                \\n            \\n                \\n            \\n            \\n                美股暴跌過度反應！「華爾街神算子」：本週4關鍵數據止跌\\n                財經\\n                59分鐘前\\n                https://ec.ltn.com.tw/article/breakingnews/4976986\\n                高佳菁／核稿編輯美股築底信號浮現，華爾街最樂觀的分析師之一、被譽為「華爾街神算子」的Fundstrat全球顧問研究主管湯姆·李（Tom Lee）發聲指出，週一美股暴跌，是對多重利空的過度反應，並指出職位空缺報告、CPI、PPI數據及週五政府撥款截止日等本週4關鍵事件，或將助股市止穩。\\n            \\n        \\n\\n                \\n            \\n                \\n            \\n            \\n                挺川普！馬斯克：特斯拉在未來2年內讓美國產量翻倍\\n                財經\\n                1小時前\\n                https://ec.ltn.com.tw/article/breakingnews/4977012\\n                高佳菁／核稿編輯特斯拉（Tesla）執行長馬斯克（Elon Musk）宣布，將在未來2年內將特斯拉在美國的汽車產量增加一倍。綜合媒體報導，馬斯克週三（12日）在自家社交平台X發文表示，為了支持美國總統川普（Donald Trump）的政策，並表明我們對美國未來的信心，特斯拉承諾在未來2年內將美國汽車\\n            \\n        \\n\\n                \\n            \\n                \\n            \\n            \\n                美元指數挫至4個月低點 國際油價小幅上漲\\n                財經\\n                1小時前\\n                https://ec.ltn.com.tw/article/breakingnews/4977036\\n                林浥樺／核稿編輯受美元疲軟影響，國際油價週二（11日）小幅上漲，但由於對美國經濟放緩以及關稅對全球經濟成長的影響，漲幅受限。紐約西德州中級原油4月交割價上漲22美分，或0.3%，收每桶66.25美元。布蘭特原油5月交割價上漲28美分，或0.4%，收每桶69.56美元。\\n            \\n        \\n\\n                \\n            \\n                \\n            \\n            \\n                買進一輛Model S！川普：針對特斯拉的暴力行動是恐怖主義\\n                財經\\n                1小時前\\n                https://ec.ltn.com.tw/article/breakingnews/4976976\\n                歐祥義／核稿編輯美國總統川普（Donald Trump）週二（11日）表示，針對特斯拉（Tesla）經銷商的暴力行動將被認定為國內恐怖主義，肇事者將經歷「地獄般的折磨」，藉此表達對盟友、特斯拉執行長馬斯克（Elon Musk）的支持。《路透》報導，川普週二在馬斯克的陪同下，為他的員工挑選一輛新的特斯\\n            \\n        \\n\\n                \\n            \\n                \\n            \\n            \\n                黃金重回2900美元！專家曝持續上漲有條件\\n                財經\\n                1小時前\\n                https://ec.ltn.com.tw/article/breakingnews/4976995\\n                高佳菁／核稿編輯由於美元走弱以及關稅戰引發經濟放緩的擔憂，週二（11日）黃金價格上漲1%，分析師指出，在市場不確定性持續存在的情況下，黃金可能會繼續受到支撐，但若俄烏談盤有進展，可能降低風險溢價。現貨黃金價格上漲1%，至每盎司2917.79美元；美國4月交割的黃金期貨上漲0.7%，報每盎司2920.\\n            \\n        \\n\\n                \\n            \\n                \\n            \\n            \\n                一天內翻雲覆雨！加拿大停收電力附加費 川普撤回鋼鋁50％關稅\\n                財經\\n                2小時前\\n                https://ec.ltn.com.tw/article/breakingnews/4976952\\n                蔡百靈／核稿編輯美國總統川普的關稅政策反覆無常，加拿大安大略省11日宣布對輸往美國3州的電力徵收25%附加費，引發川普不滿，11日隨即報復，宣布對從加拿大進口的所有鋼鋁加徵25%關稅，加倍調升至50%，關稅大戰瞬間升級。當天稍後，安大略省長福特表示，在與美方協商後，暫時取消25%的電力附加稅，美方也\\n            \\n        \\n\\n                \\n            \\n                \\n            \\n            \\n                CNN：川普在短短20天 讓美國從繁榮轉入衰退恐慌\\n                財經\\n                3小時前\\n                https://ec.ltn.com.tw/article/breakingnews/4976808\\n                吳孟峰／核稿編輯美國有線電視新聞網CNN報導，就在20天前，美國股市還處於歷史最高點，美國經濟似乎正穩定成長，經濟衰退還遙遙無期，但現在，美國經濟就從繁榮轉入衰退恐慌。現在，「R」（衰退，Recession ）字似乎無所不在。對經濟衰退的擔憂正撼動股市，GDP預測不斷下調，川普總統和他的經濟團隊正面\\n            \\n        \\n\\n                \\n            \\n                \\n            \\n            \\n                川普將矛頭指向中國製貨櫃船 打海洋經濟戰\\n                財經\\n                3小時前\\n                https://ec.ltn.com.tw/article/breakingnews/4976860\\n                吳孟峰／核稿編輯作為美國不斷擴大全球經濟和貿易戰的策略，美國川普政府將矛頭指向中國製造的貨櫃船，加劇全球海洋經濟戰。美媒CNBC報導，近年來，中國在船舶製造領域的影響力迅速增強，已在全部船舶製造領域超越原領先者韓國。根據Veson Nautical的數據，到2024年，中國建造的貨櫃船將佔據81%的\\n            \\n        \\n\\n                \\n            \\n                \\n            \\n            \\n                台股今日重點\\n                財經\\n                3小時前\\n                https://ec.ltn.com.tw/article/breakingnews/4976492\\n                1.台股週二（11日）開盤在台積電跌29元，指數跳空下殺333.09點，以2萬2126.06點開出，在電金傳齊殺下，指數開低走低，隨著台積電觸及963元，跌35元，指數觸及2萬1769點，大跌690點，創史上第8大。所幸世芯-KY、瑞昱、宏碁等電子股翻紅走高，加上台積電拉尾盤，終場指數跌388.06\\n            \\n        \\n\\n                \\n            \\n                \\n            \\n            \\n                川普：希望俄羅斯同意停火 將邀澤倫斯基再到白宮\\n                軍武\\n                3小時前\\n                https://def.ltn.com.tw/article/breakingnews/4976943\\n                蔡百靈／核稿編輯美國與烏克蘭11日在沙烏地阿拉伯達成協議，烏克蘭同意接受美國斡旋的30天停火計畫，並希望俄羅斯也接受，藉此開啟和平談判，美國也宣布即刻恢復對烏克蘭的情報共享與安全援助。美國總統川普11日在白宮受訪時表示，希望俄羅斯總統普廷也同意停火，未來他也會重新邀請烏克蘭總統澤倫斯基前來白宮。\\n            \\n        \\n\\n                \\n            \\n                \\n            \\n            \\n                03/12 各報重點新聞一覽\\n                生活\\n                3小時前\\n                https://news.ltn.com.tw/news/life/breakingnews/4976947\\n                自由時報覆議若沒過 台電千億撥補將落空 卓揆：被迫調電價 物價恐上漲行政院長卓榮泰昨赴立法院報告「今年度中央政府總預算案覆議案」並備詢。卓在報告中提及，刪除撥補台電的一千億元，如最後被迫調整電價，恐怕將造成民生物價上漲，盼立委能以人民福祉為依歸，重新審視總預算案。\\n            \\n        \\n\\n                \\n            \\n                \\n            \\n            \\n                烏克蘭同意停火30天！美即刻恢復援助 俄方回應成關鍵\\n                軍武\\n                4小時前\\n                https://def.ltn.com.tw/article/breakingnews/4976932\\n                烏克蘭與美國11日在沙烏地阿拉伯吉達（Jeddah）達成協議，烏克蘭同意接受美國斡旋的30天停火計畫，並盼俄羅斯同步接受，以開啟和平談判。美國宣布即刻恢復對烏克蘭的情報共享與安全援助。目前，俄羅斯的回應仍未明朗，成為後續發展的關鍵。美國有線電視新聞網（CNN）報導，這項協議歷經超過8小時的談判，由美\\n            \\n        \\n\\n                \\n            \\n                \\n            \\n            \\n                美加關稅反覆！道瓊跌478點 台積電ADR收紅\\n                財經\\n                4小時前\\n                https://ec.ltn.com.tw/article/breakingnews/4976941\\n                蔡百靈／核稿編輯美國總統川普週二宣布，將對所有加拿大鋼鐵和鋁產品加倍徵收關稅至50%，並在幾個小時內生效，但有宣布維持25%關稅。由於投資人擔心又有新的關稅威脅全球經濟，加劇數月來以來的股市拋售，而烏克蘭和俄羅斯停火進展則短暫提振股市。週二道瓊工業指數下跌478點、或1.14%，那斯達克及標普500\\n            \\n        \\n\\n                \\n            \\n                \\n            \\n            \\n                川普關稅不確定性環伺 美股續挫道瓊大跌近500點\\r\\n                財經\\n                4小時前\\n                https://ec.ltn.com.tw/article/breakingnews/4976940\\n                美國總統川普（Donald Trump）關稅威脅造成的不確定性環伺，拖累美股4大指數今天收盤盡墨，延續前一日跌勢，道瓊工業指數甚至大跌近500點。道瓊工業指數大跌478.23點或1.14%，收報41433.48點。標普500指數下挫42.49點或0.76%，收5572.07點。\\n            \\n        \\n\\n                \\n            \\n                \\n            \\n            \\n                報復美國 加提高輸美三州電價\\n                財經\\n                5小時前\\n                https://ec.ltn.com.tw/article/paper/1696024\\n                日爭取鋼鋁豁免碰壁美國總統川普對加拿大多數進口商品徵收二十五％關稅，雖然經過兩次延後，仍引發加拿大各界不滿，安大略省週一宣布，將對輸送至美國明尼蘇達州、密西根州和紐約州的電力加收二十五％費用；此舉讓川普跳腳，痛批加拿大濫用關稅。而日本在與川普政府協商後，仍無法取得包括鋼鋁在內的關稅豁免。\\n            \\n        \\n\\n            '"
            ]
          },
          "execution_count": 10,
          "metadata": {},
          "output_type": "execute_result"
        }
      ],
      "source": [
        "# 轉為 Element 物件\n",
        "tree = lxml.html.fromstring(r.text)\n",
        "# 使用 XPath 定位\n",
        "tree.xpath('//ul[@data-desc=\"列表\"]')[0].text_content()\n"
      ]
    },
    {
      "cell_type": "markdown",
      "metadata": {
        "id": "PePqFoWbWnuq"
      },
      "source": [
        "#### 獲取每篇文章標題、連結\n"
      ]
    },
    {
      "cell_type": "code",
      "execution_count": 14,
      "metadata": {
        "colab": {
          "base_uri": "https://localhost:8080/"
        },
        "id": "9lrcvWS4VzAj",
        "outputId": "a68831fa-37f1-4728-d9ed-42ed48e09de2"
      },
      "outputs": [
        {
          "data": {
            "text/plain": [
              "[('Emmy時間》川普非常手段救美財政 台灣財務健全強大',\n",
              "  'https://talk.ltn.com.tw/article/breakingnews/4976920'),\n",
              " ('路透 : 美股市值已蒸發4兆美元 市場巨大警鐘',\n",
              "  'https://ec.ltn.com.tw/article/breakingnews/4977001'),\n",
              " ('美股已進入「危險區」！為何這次別指望川普和Fed救市？',\n",
              "  'https://ec.ltn.com.tw/article/breakingnews/4976982'),\n",
              " ('市場恐慌蔓延 川普淡化經濟衰退疑慮', 'https://ec.ltn.com.tw/article/breakingnews/4976981'),\n",
              " ('台股早盤》台積電大漲喊衝 指數漲逾200點',\n",
              "  'https://ec.ltn.com.tw/article/breakingnews/4977019'),\n",
              " ('美股暴跌過度反應！「華爾街神算子」：本週4關鍵數據止跌',\n",
              "  'https://ec.ltn.com.tw/article/breakingnews/4976986'),\n",
              " ('挺川普！馬斯克：特斯拉在未來2年內讓美國產量翻倍',\n",
              "  'https://ec.ltn.com.tw/article/breakingnews/4977012'),\n",
              " ('美元指數挫至4個月低點 國際油價小幅上漲',\n",
              "  'https://ec.ltn.com.tw/article/breakingnews/4977036'),\n",
              " ('買進一輛Model S！川普：針對特斯拉的暴力行動是恐怖主義',\n",
              "  'https://ec.ltn.com.tw/article/breakingnews/4976976'),\n",
              " ('黃金重回2900美元！專家曝持續上漲有條件',\n",
              "  'https://ec.ltn.com.tw/article/breakingnews/4976995'),\n",
              " ('一天內翻雲覆雨！加拿大停收電力附加費 川普撤回鋼鋁50％關稅',\n",
              "  'https://ec.ltn.com.tw/article/breakingnews/4976952'),\n",
              " ('CNN：川普在短短20天 讓美國從繁榮轉入衰退恐慌',\n",
              "  'https://ec.ltn.com.tw/article/breakingnews/4976808'),\n",
              " ('川普將矛頭指向中國製貨櫃船 打海洋經濟戰',\n",
              "  'https://ec.ltn.com.tw/article/breakingnews/4976860'),\n",
              " ('台股今日重點', 'https://ec.ltn.com.tw/article/breakingnews/4976492'),\n",
              " ('川普：希望俄羅斯同意停火 將邀澤倫斯基再到白宮',\n",
              "  'https://def.ltn.com.tw/article/breakingnews/4976943'),\n",
              " ('03/12 各報重點新聞一覽', 'https://news.ltn.com.tw/news/life/breakingnews/4976947'),\n",
              " ('烏克蘭同意停火30天！美即刻恢復援助 俄方回應成關鍵',\n",
              "  'https://def.ltn.com.tw/article/breakingnews/4976932'),\n",
              " ('美加關稅反覆！道瓊跌478點 台積電ADR收紅',\n",
              "  'https://ec.ltn.com.tw/article/breakingnews/4976941'),\n",
              " ('川普關稅不確定性環伺 美股續挫道瓊大跌近500點\\r',\n",
              "  'https://ec.ltn.com.tw/article/breakingnews/4976940'),\n",
              " ('報復美國 加提高輸美三州電價', 'https://ec.ltn.com.tw/article/paper/1696024')]"
            ]
          },
          "execution_count": 14,
          "metadata": {},
          "output_type": "execute_result"
        }
      ],
      "source": [
        "item_list = tree.xpath('//ul[@data-desc=\"列表\"]')[0].xpath(\"./li\")\n",
        "\n",
        "article_list = []\n",
        "for item in item_list:\n",
        "  piece = item.xpath('./a[@class=\"ph\"]')[0]  # 獲取 class 屬性為 ph 的 <a> \n",
        "  title = piece.xpath(\"./@title\")[0]  # 獲取 <a> 的 title 屬性\n",
        "  url = piece.xpath(\"./@href\")[0]  # 獲取 <a> 的 href 屬性\n",
        "  article_list.append((title, url))\n",
        "\n",
        "article_list\n"
      ]
    },
    {
      "cell_type": "code",
      "execution_count": null,
      "metadata": {
        "id": "5ioAtwpkWxmv"
      },
      "outputs": [],
      "source": []
    }
  ],
  "metadata": {
    "colab": {
      "collapsed_sections": [],
      "name": "Day18_hw.ipynb",
      "provenance": [],
      "toc_visible": true
    },
    "kernelspec": {
      "display_name": "base",
      "language": "python",
      "name": "python3"
    },
    "language_info": {
      "codemirror_mode": {
        "name": "ipython",
        "version": 3
      },
      "file_extension": ".py",
      "mimetype": "text/x-python",
      "name": "python",
      "nbconvert_exporter": "python",
      "pygments_lexer": "ipython3",
      "version": "3.12.4"
    }
  },
  "nbformat": 4,
  "nbformat_minor": 0
}
