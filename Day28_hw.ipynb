{
  "cells": [
    {
      "cell_type": "markdown",
      "metadata": {
        "id": "RmEW9BEct8Fk"
      },
      "source": [
        "# Day28\n",
        "## 動態載入網站的爬蟲策略\n",
        "- 瞭解網站的動態載入機制\n",
        "- 瞭解靜態網頁和動態網頁的差異\n",
        "- 瞭解何謂非同步網頁載入（Ajax）\n",
        "- 學習動態載入網頁的爬蟲策略"
      ]
    },
    {
      "cell_type": "markdown",
      "metadata": {
        "id": "CmrQ2eOx7X2U"
      },
      "source": [
        "## 作業說明\n",
        "- 判斷哪些網站是需要 JavaScript 動態載入\n",
        "- 找出使用 JavaScript 動態載入的網站，其資料來源的資源（例如回傳 JSON 格式資料的 API Endpoint）"
      ]
    },
    {
      "cell_type": "code",
      "execution_count": 1,
      "metadata": {
        "id": "5gwIAUI4MRz-"
      },
      "outputs": [],
      "source": [
        "import requests\n",
        "from bs4 import BeautifulSoup"
      ]
    },
    {
      "cell_type": "markdown",
      "metadata": {
        "id": "fkIjzFKBLeUv"
      },
      "source": [
        "### (1) 鉅亨網 - 即時頭條列表\n",
        "\n",
        "- 目標網址： https://news.cnyes.com/news/cat/headline\n",
        "- 文章列表資料是否需要 JavaScript 載入？\n",
        "![](https://i.imgur.com/sJrd5kC.png)\n",
        "\n",
        "- 承上題，若是，文章列表資料來源是從哪一個網址產生？\n"
      ]
    },
    {
      "cell_type": "code",
      "execution_count": 2,
      "metadata": {
        "id": "9tsGvTGzLf9Z"
      },
      "outputs": [
        {
          "name": "stdout",
          "output_type": "stream",
          "text": [
            "200 \n",
            "\n",
            " <!DOCTYPE html><html lang=\"zh-TW\" data-version=\"4.132.8\"><head><meta charSet=\"utf-8\"/><meta name=\"viewport\" content=\"width=device-width, initial-scale=1, maximum-scale=1, viewport-fit=cover\"/><link rel=\"preload\" as=\"image\" href=\"/assets/icons/search/icon-search-new.svg\"/><link rel=\"preload\" as=\"image\" href=\"/assets/icons/menu/menu.svg\"/><link rel=\"preload\" as=\"image\" href=\"/assets/icons/logo/anue-logo-colorful.svg\"/><link rel=\"preload\" as=\"image\" href=\"/assets/icons/search/search.svg\"/><link rel\n"
          ]
        }
      ],
      "source": [
        "# Hint: 觀察網站是否為 JavaScript 載入\n",
        "\n",
        "url = \"https://news.cnyes.com/news/cat/headline\"\n",
        "r = requests.get(url)\n",
        "r.encoding = \"utf-8\"\n",
        "print(r.status_code, \"\\n\\n\", r.text[:500])\n"
      ]
    },
    {
      "cell_type": "markdown",
      "metadata": {
        "id": "1RppPCDYaw43"
      },
      "source": [
        "- Hint: 選一個網站上有的文章標題\n",
        "\n",
        "![](https://i.imgur.com/ZjOlF3L.png)"
      ]
    },
    {
      "cell_type": "code",
      "execution_count": 3,
      "metadata": {
        "id": "brsRj9QaR-sm"
      },
      "outputs": [],
      "source": [
        "# Hint\n",
        "\n",
        "soup = BeautifulSoup(r.content, \"html.parser\")\n",
        "\n",
        "# 查找看看回傳的內容中，有沒有課程標題文字\n",
        "soup.find(\"p\", string=\"洪士琪任台灣盧森堡經濟合作委員會主席 為台盧雙邊合作開啟新契機\")\n",
        "\n"
      ]
    },
    {
      "cell_type": "markdown",
      "metadata": {
        "id": "gjx6ptqVn6ZA"
      },
      "source": [
        "---\n"
      ]
    },
    {
      "cell_type": "markdown",
      "metadata": {
        "id": "rDdRnZaVkE_3"
      },
      "source": [
        "### (2) Cupoy AI 學習社群\n",
        "\n",
        "- 目標網址： https://www.cupoy.com/\n",
        "- 首頁活動卡資料是否需要 JavaScript 載入？\n",
        "![](https://i.imgur.com/GnDMLHe.png)\n",
        "\n",
        "- 承上題，若是，文章列表資料來源是從哪一個網址產生？\n",
        "  - Hint: 使用 Network Panel 搜尋任一活動標題的字段，即可找到包含活動資訊的資源連結"
      ]
    },
    {
      "cell_type": "code",
      "execution_count": 4,
      "metadata": {
        "id": "cNca9hH3ey8h"
      },
      "outputs": [
        {
          "name": "stdout",
          "output_type": "stream",
          "text": [
            "200 \n",
            "\n",
            " <!doctype html><html><head><meta charset=\"utf-8\"><meta name=\"viewport\" content=\"width=device-width,initial-scale=1,maximum-scale=1,user-scalable=0,shrink-to-fit=no\"><meta http-equiv=\"X-UA-Compatible\" content=\"IE=edge\"><meta http-equiv=\"Content-Language\" content=\"zh-tw\"/><meta property=\"og:title\" content=\"Cupoy AI 學習社群｜AI 工程師全職業學習平台\"/><meta property=\"og:description\" content=\"系統化課程+產學實務訓練 &#61; AI工程師全職業養成平台&#10;&#10;未來的職業都將導入大量AI技術，AI相關職缺呈爆炸性的成長，然而，AI是一門包含軟體開發、數學統計與產業知識的跨領域學科，無法一蹴可幾，Cupoy匯集了一群優秀的業\n"
          ]
        }
      ],
      "source": [
        "# Hint: 觀察網站是否為 JavaScript 載入\n",
        "\n",
        "url = \"https://www.cupoy.com/\"\n",
        "r = requests.get(url)\n",
        "r.encoding = \"utf-8\"\n",
        "print(r.status_code, \"\\n\\n\", r.text[:500])\n"
      ]
    },
    {
      "cell_type": "markdown",
      "metadata": {
        "id": "f32q-8HwkY0j"
      },
      "source": [
        "- Hint: 選一個網站上有的活動標題 測試查找\n",
        "![](https://i.imgur.com/3tSU3qx.png)"
      ]
    },
    {
      "cell_type": "code",
      "execution_count": 9,
      "metadata": {},
      "outputs": [
        {
          "name": "stdout",
          "output_type": "stream",
          "text": [
            "Collecting selenium\n",
            "  Using cached selenium-4.29.0-py3-none-any.whl.metadata (7.1 kB)\n",
            "Requirement already satisfied: urllib3<3,>=1.26 in c:\\users\\a7890\\anaconda3\\lib\\site-packages (from urllib3[socks]<3,>=1.26->selenium) (2.2.2)\n",
            "Collecting trio~=0.17 (from selenium)\n",
            "  Using cached trio-0.29.0-py3-none-any.whl.metadata (8.5 kB)\n",
            "Collecting trio-websocket~=0.9 (from selenium)\n",
            "  Using cached trio_websocket-0.12.2-py3-none-any.whl.metadata (5.1 kB)\n",
            "Requirement already satisfied: certifi>=2021.10.8 in c:\\users\\a7890\\anaconda3\\lib\\site-packages (from selenium) (2024.8.30)\n",
            "Requirement already satisfied: typing_extensions~=4.9 in c:\\users\\a7890\\anaconda3\\lib\\site-packages (from selenium) (4.11.0)\n",
            "Requirement already satisfied: websocket-client~=1.8 in c:\\users\\a7890\\anaconda3\\lib\\site-packages (from selenium) (1.8.0)\n",
            "Collecting attrs>=23.2.0 (from trio~=0.17->selenium)\n",
            "  Using cached attrs-25.3.0-py3-none-any.whl.metadata (10 kB)\n",
            "Requirement already satisfied: sortedcontainers in c:\\users\\a7890\\anaconda3\\lib\\site-packages (from trio~=0.17->selenium) (2.4.0)\n",
            "Requirement already satisfied: idna in c:\\users\\a7890\\anaconda3\\lib\\site-packages (from trio~=0.17->selenium) (3.7)\n",
            "Collecting outcome (from trio~=0.17->selenium)\n",
            "  Using cached outcome-1.3.0.post0-py2.py3-none-any.whl.metadata (2.6 kB)\n",
            "Requirement already satisfied: sniffio>=1.3.0 in c:\\users\\a7890\\anaconda3\\lib\\site-packages (from trio~=0.17->selenium) (1.3.0)\n",
            "Requirement already satisfied: cffi>=1.14 in c:\\users\\a7890\\anaconda3\\lib\\site-packages (from trio~=0.17->selenium) (1.16.0)\n",
            "Collecting wsproto>=0.14 (from trio-websocket~=0.9->selenium)\n",
            "  Using cached wsproto-1.2.0-py3-none-any.whl.metadata (5.6 kB)\n",
            "Requirement already satisfied: pysocks!=1.5.7,<2.0,>=1.5.6 in c:\\users\\a7890\\anaconda3\\lib\\site-packages (from urllib3[socks]<3,>=1.26->selenium) (1.7.1)\n",
            "Requirement already satisfied: pycparser in c:\\users\\a7890\\anaconda3\\lib\\site-packages (from cffi>=1.14->trio~=0.17->selenium) (2.21)\n",
            "Requirement already satisfied: h11<1,>=0.9.0 in c:\\users\\a7890\\anaconda3\\lib\\site-packages (from wsproto>=0.14->trio-websocket~=0.9->selenium) (0.14.0)\n",
            "Using cached selenium-4.29.0-py3-none-any.whl (9.5 MB)\n",
            "Using cached trio-0.29.0-py3-none-any.whl (492 kB)\n",
            "Using cached trio_websocket-0.12.2-py3-none-any.whl (21 kB)\n",
            "Using cached attrs-25.3.0-py3-none-any.whl (63 kB)\n",
            "Using cached outcome-1.3.0.post0-py2.py3-none-any.whl (10 kB)\n",
            "Using cached wsproto-1.2.0-py3-none-any.whl (24 kB)\n",
            "Installing collected packages: wsproto, attrs, outcome, trio, trio-websocket, selenium\n",
            "  Attempting uninstall: attrs\n",
            "    Found existing installation: attrs 23.1.0\n",
            "    Uninstalling attrs-23.1.0:\n",
            "      Successfully uninstalled attrs-23.1.0\n",
            "Successfully installed attrs-25.3.0 outcome-1.3.0.post0 selenium-4.29.0 trio-0.29.0 trio-websocket-0.12.2 wsproto-1.2.0\n",
            "Note: you may need to restart the kernel to use updated packages.\n"
          ]
        }
      ],
      "source": [
        "pip install selenium\n"
      ]
    },
    {
      "cell_type": "code",
      "execution_count": 10,
      "metadata": {},
      "outputs": [
        {
          "name": "stdout",
          "output_type": "stream",
          "text": [
            "c:\\Users\\a7890\\anaconda3\\Lib\\site-packages\\selenium\\__init__.py\n"
          ]
        }
      ],
      "source": [
        "import selenium\n",
        "print(selenium.__file__)  # 確保 selenium 存在\n"
      ]
    },
    {
      "cell_type": "code",
      "execution_count": 12,
      "metadata": {
        "id": "SQAV5isqjxnZ"
      },
      "outputs": [
        {
          "name": "stderr",
          "output_type": "stream",
          "text": [
            "<>:11: SyntaxWarning: invalid escape sequence '\\P'\n",
            "<>:11: SyntaxWarning: invalid escape sequence '\\P'\n",
            "C:\\Users\\a7890\\AppData\\Local\\Temp\\ipykernel_19116\\1365405068.py:11: SyntaxWarning: invalid escape sequence '\\P'\n",
            "  driver = webdriver.Chrome(service=Service(\"C:\\Program Files\\Google\\Chrome\\Application\\\\chrome.exe\"), options=options)  # 修改 chromedriver 路徑\n",
            "C:\\Users\\a7890\\AppData\\Local\\Temp\\ipykernel_19116\\1365405068.py:11: SyntaxWarning: invalid escape sequence '\\P'\n",
            "  driver = webdriver.Chrome(service=Service(\"C:\\Program Files\\Google\\Chrome\\Application\\\\chrome.exe\"), options=options)  # 修改 chromedriver 路徑\n"
          ]
        },
        {
          "ename": "WebDriverException",
          "evalue": "Message: Can not connect to the Service C:\\Program Files\\Google\\Chrome\\Application\\chrome.exe\n",
          "output_type": "error",
          "traceback": [
            "\u001b[1;31m---------------------------------------------------------------------------\u001b[0m",
            "\u001b[1;31mWebDriverException\u001b[0m                        Traceback (most recent call last)",
            "Cell \u001b[1;32mIn[12], line 11\u001b[0m\n\u001b[0;32m      9\u001b[0m options \u001b[38;5;241m=\u001b[39m Options()\n\u001b[0;32m     10\u001b[0m options\u001b[38;5;241m.\u001b[39madd_argument(\u001b[38;5;124m\"\u001b[39m\u001b[38;5;124m--headless\u001b[39m\u001b[38;5;124m\"\u001b[39m)  \u001b[38;5;66;03m# 不開啟瀏覽器\u001b[39;00m\n\u001b[1;32m---> 11\u001b[0m driver \u001b[38;5;241m=\u001b[39m \u001b[43mwebdriver\u001b[49m\u001b[38;5;241;43m.\u001b[39;49m\u001b[43mChrome\u001b[49m\u001b[43m(\u001b[49m\u001b[43mservice\u001b[49m\u001b[38;5;241;43m=\u001b[39;49m\u001b[43mService\u001b[49m\u001b[43m(\u001b[49m\u001b[38;5;124;43m\"\u001b[39;49m\u001b[38;5;124;43mC:\u001b[39;49m\u001b[38;5;124;43m\\\u001b[39;49m\u001b[38;5;124;43mProgram Files\u001b[39;49m\u001b[38;5;124;43m\\\u001b[39;49m\u001b[38;5;124;43mGoogle\u001b[39;49m\u001b[38;5;124;43m\\\u001b[39;49m\u001b[38;5;124;43mChrome\u001b[39;49m\u001b[38;5;124;43m\\\u001b[39;49m\u001b[38;5;124;43mApplication\u001b[39;49m\u001b[38;5;130;43;01m\\\\\u001b[39;49;00m\u001b[38;5;124;43mchrome.exe\u001b[39;49m\u001b[38;5;124;43m\"\u001b[39;49m\u001b[43m)\u001b[49m\u001b[43m,\u001b[49m\u001b[43m \u001b[49m\u001b[43moptions\u001b[49m\u001b[38;5;241;43m=\u001b[39;49m\u001b[43moptions\u001b[49m\u001b[43m)\u001b[49m  \u001b[38;5;66;03m# 修改 chromedriver 路徑\u001b[39;00m\n\u001b[0;32m     13\u001b[0m \u001b[38;5;66;03m# 開啟網頁\u001b[39;00m\n\u001b[0;32m     14\u001b[0m driver\u001b[38;5;241m.\u001b[39mget(\u001b[38;5;124m\"\u001b[39m\u001b[38;5;124mhttps://www.cupoy.com/\u001b[39m\u001b[38;5;124m\"\u001b[39m)\n",
            "File \u001b[1;32mc:\\Users\\a7890\\anaconda3\\Lib\\site-packages\\selenium\\webdriver\\chrome\\webdriver.py:45\u001b[0m, in \u001b[0;36mWebDriver.__init__\u001b[1;34m(self, options, service, keep_alive)\u001b[0m\n\u001b[0;32m     42\u001b[0m service \u001b[38;5;241m=\u001b[39m service \u001b[38;5;28;01mif\u001b[39;00m service \u001b[38;5;28;01melse\u001b[39;00m Service()\n\u001b[0;32m     43\u001b[0m options \u001b[38;5;241m=\u001b[39m options \u001b[38;5;28;01mif\u001b[39;00m options \u001b[38;5;28;01melse\u001b[39;00m Options()\n\u001b[1;32m---> 45\u001b[0m \u001b[38;5;28;43msuper\u001b[39;49m\u001b[43m(\u001b[49m\u001b[43m)\u001b[49m\u001b[38;5;241;43m.\u001b[39;49m\u001b[38;5;21;43m__init__\u001b[39;49m\u001b[43m(\u001b[49m\n\u001b[0;32m     46\u001b[0m \u001b[43m    \u001b[49m\u001b[43mbrowser_name\u001b[49m\u001b[38;5;241;43m=\u001b[39;49m\u001b[43mDesiredCapabilities\u001b[49m\u001b[38;5;241;43m.\u001b[39;49m\u001b[43mCHROME\u001b[49m\u001b[43m[\u001b[49m\u001b[38;5;124;43m\"\u001b[39;49m\u001b[38;5;124;43mbrowserName\u001b[39;49m\u001b[38;5;124;43m\"\u001b[39;49m\u001b[43m]\u001b[49m\u001b[43m,\u001b[49m\n\u001b[0;32m     47\u001b[0m \u001b[43m    \u001b[49m\u001b[43mvendor_prefix\u001b[49m\u001b[38;5;241;43m=\u001b[39;49m\u001b[38;5;124;43m\"\u001b[39;49m\u001b[38;5;124;43mgoog\u001b[39;49m\u001b[38;5;124;43m\"\u001b[39;49m\u001b[43m,\u001b[49m\n\u001b[0;32m     48\u001b[0m \u001b[43m    \u001b[49m\u001b[43moptions\u001b[49m\u001b[38;5;241;43m=\u001b[39;49m\u001b[43moptions\u001b[49m\u001b[43m,\u001b[49m\n\u001b[0;32m     49\u001b[0m \u001b[43m    \u001b[49m\u001b[43mservice\u001b[49m\u001b[38;5;241;43m=\u001b[39;49m\u001b[43mservice\u001b[49m\u001b[43m,\u001b[49m\n\u001b[0;32m     50\u001b[0m \u001b[43m    \u001b[49m\u001b[43mkeep_alive\u001b[49m\u001b[38;5;241;43m=\u001b[39;49m\u001b[43mkeep_alive\u001b[49m\u001b[43m,\u001b[49m\n\u001b[0;32m     51\u001b[0m \u001b[43m\u001b[49m\u001b[43m)\u001b[49m\n",
            "File \u001b[1;32mc:\\Users\\a7890\\anaconda3\\Lib\\site-packages\\selenium\\webdriver\\chromium\\webdriver.py:55\u001b[0m, in \u001b[0;36mChromiumDriver.__init__\u001b[1;34m(self, browser_name, vendor_prefix, options, service, keep_alive)\u001b[0m\n\u001b[0;32m     52\u001b[0m     options\u001b[38;5;241m.\u001b[39mbrowser_version \u001b[38;5;241m=\u001b[39m \u001b[38;5;28;01mNone\u001b[39;00m\n\u001b[0;32m     54\u001b[0m \u001b[38;5;28mself\u001b[39m\u001b[38;5;241m.\u001b[39mservice\u001b[38;5;241m.\u001b[39mpath \u001b[38;5;241m=\u001b[39m \u001b[38;5;28mself\u001b[39m\u001b[38;5;241m.\u001b[39mservice\u001b[38;5;241m.\u001b[39menv_path() \u001b[38;5;129;01mor\u001b[39;00m finder\u001b[38;5;241m.\u001b[39mget_driver_path()\n\u001b[1;32m---> 55\u001b[0m \u001b[38;5;28;43mself\u001b[39;49m\u001b[38;5;241;43m.\u001b[39;49m\u001b[43mservice\u001b[49m\u001b[38;5;241;43m.\u001b[39;49m\u001b[43mstart\u001b[49m\u001b[43m(\u001b[49m\u001b[43m)\u001b[49m\n\u001b[0;32m     57\u001b[0m executor \u001b[38;5;241m=\u001b[39m ChromiumRemoteConnection(\n\u001b[0;32m     58\u001b[0m     remote_server_addr\u001b[38;5;241m=\u001b[39m\u001b[38;5;28mself\u001b[39m\u001b[38;5;241m.\u001b[39mservice\u001b[38;5;241m.\u001b[39mservice_url,\n\u001b[0;32m     59\u001b[0m     browser_name\u001b[38;5;241m=\u001b[39mbrowser_name,\n\u001b[1;32m   (...)\u001b[0m\n\u001b[0;32m     62\u001b[0m     ignore_proxy\u001b[38;5;241m=\u001b[39moptions\u001b[38;5;241m.\u001b[39m_ignore_local_proxy,\n\u001b[0;32m     63\u001b[0m )\n\u001b[0;32m     65\u001b[0m \u001b[38;5;28;01mtry\u001b[39;00m:\n",
            "File \u001b[1;32mc:\\Users\\a7890\\anaconda3\\Lib\\site-packages\\selenium\\webdriver\\common\\service.py:120\u001b[0m, in \u001b[0;36mService.start\u001b[1;34m(self)\u001b[0m\n\u001b[0;32m    118\u001b[0m count \u001b[38;5;241m+\u001b[39m\u001b[38;5;241m=\u001b[39m \u001b[38;5;241m1\u001b[39m\n\u001b[0;32m    119\u001b[0m \u001b[38;5;28;01mif\u001b[39;00m count \u001b[38;5;241m==\u001b[39m \u001b[38;5;241m70\u001b[39m:\n\u001b[1;32m--> 120\u001b[0m     \u001b[38;5;28;01mraise\u001b[39;00m WebDriverException(\u001b[38;5;124mf\u001b[39m\u001b[38;5;124m\"\u001b[39m\u001b[38;5;124mCan not connect to the Service \u001b[39m\u001b[38;5;132;01m{\u001b[39;00m\u001b[38;5;28mself\u001b[39m\u001b[38;5;241m.\u001b[39m_path\u001b[38;5;132;01m}\u001b[39;00m\u001b[38;5;124m\"\u001b[39m)\n",
            "\u001b[1;31mWebDriverException\u001b[0m: Message: Can not connect to the Service C:\\Program Files\\Google\\Chrome\\Application\\chrome.exe\n"
          ]
        }
      ],
      "source": [
        "from selenium import webdriver\n",
        "from selenium.webdriver.chrome.service import Service\n",
        "from selenium.webdriver.common.by import By\n",
        "from selenium.webdriver.chrome.options import Options\n",
        "from bs4 import BeautifulSoup\n",
        "import time\n",
        "\n",
        "# 設定 Selenium\n",
        "options = Options()\n",
        "options.add_argument(\"--headless\")  # 不開啟瀏覽器\n",
        "driver = webdriver.Chrome(service=Service(\"C:\\Program Files\\Google\\Chrome\\Application\\\\chrome.exe\"), options=options)  # 修改 chromedriver 路徑\n",
        "\n",
        "# 開啟網頁\n",
        "driver.get(\"https://www.cupoy.com/\")\n",
        "\n",
        "# 等待 JavaScript 載入\n",
        "time.sleep(5)\n",
        "\n",
        "# 解析 HTML\n",
        "soup = BeautifulSoup(driver.page_source, \"html.parser\")\n",
        "\n",
        "# 查找標題\n",
        "spans = soup.find_all(\"span\")\n",
        "for span in spans:\n",
        "    if \"AI Agent 開發特訓營\" in span.get_text(strip=True):\n",
        "        print(\"找到標題:\", span.get_text(strip=True))\n",
        "\n",
        "# 關閉瀏覽器\n",
        "driver.quit()\n"
      ]
    },
    {
      "cell_type": "code",
      "execution_count": null,
      "metadata": {},
      "outputs": [],
      "source": []
    },
    {
      "cell_type": "code",
      "execution_count": null,
      "metadata": {},
      "outputs": [],
      "source": []
    }
  ],
  "metadata": {
    "colab": {
      "collapsed_sections": [],
      "name": "Day28_hw.ipynb",
      "provenance": [],
      "toc_visible": true
    },
    "kernelspec": {
      "display_name": "base",
      "language": "python",
      "name": "python3"
    },
    "language_info": {
      "codemirror_mode": {
        "name": "ipython",
        "version": 3
      },
      "file_extension": ".py",
      "mimetype": "text/x-python",
      "name": "python",
      "nbconvert_exporter": "python",
      "pygments_lexer": "ipython3",
      "version": "3.12.4"
    }
  },
  "nbformat": 4,
  "nbformat_minor": 0
}
