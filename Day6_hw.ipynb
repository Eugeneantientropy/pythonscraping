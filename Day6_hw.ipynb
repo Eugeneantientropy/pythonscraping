{
 "cells": [
  {
   "cell_type": "markdown",
   "metadata": {
    "id": "RmEW9BEct8Fk"
   },
   "source": [
    "## 作業說明\n",
    "\n",
    "Day6 我們介紹了靜態網頁的運作原理和網頁結構，並且示範了如何使用 CSS selector 及 XPath 選取網頁物件\n",
    "\n",
    "今日作業我們要實地拿一個經典的靜態網頁來練習物件的定位。猜到了嗎，就是 YCombinator Blog\n",
    "\n",
    "- 目標網站： [YCombinator](https://news.ycombinator.com/)\n",
    "- 爬蟲目標：能透過 CSS selector 成功選取第一頁所有文章標題\n",
    "- 示意圖\n",
    "![](https://i.imgur.com/egRGiWg.png)"
   ]
  },
  {
   "cell_type": "code",
   "execution_count": 3,
   "metadata": {
    "id": "jD3-yxQ4uAaL"
   },
   "outputs": [
    {
     "name": "stdout",
     "output_type": "stream",
     "text": [
      "1: DeepSeek-R1-671B-Q4_K_M with 1 or 2 Arc A770 on Xeon\n",
      "2: Tailscale is pretty useful\n",
      "3: Git without a forge\n",
      "4: Apple M3 Ultra\n",
      "5: QwQ-32B: Embracing the Power of Reinforcement Learning\n",
      "6: Nebu: A Spreadsheet Editor for Varvara\n",
      "7: Zentool â AMD Zen Microcode Manipulation Utility\n",
      "8: Cognitive Behaviors That Enable Self-Improving Reasoners\n",
      "9: MacBook Air M4\n",
      "10: Solving First Order Differential Equations with Julia\n",
      "11: The US stops sharing air quality data from embassies worldwide\n",
      "12: Exploring the Paramilitary Leaks\n",
      "13: There Was a Texas Lottery Arbitrage\n",
      "14: A few words about FiveThirtyEight\n",
      "15: Encrypt Images Without a Key Using Visual Cryptography\n",
      "16: SepLLM: Accelerate LLMs by Compressing One Segment into One Separator\n",
      "17: Volkswagen seeks to counter rivals with budget EV model\n",
      "18: Datafold (YC S20) is hiring Engineer to build AI-powered data migration tools\n",
      "19: Things we've learned about building products\n",
      "20: Show HN: Leaflet.pub â a web app for creating and sharing rich documents\n",
      "21: Apple takes UK to court over 'backdoor' order\n",
      "22: My Beancount books are 95% automatic after 3 years (2024)\n",
      "23: Math Academy pulled me out of the Valley of Despair\n",
      "24: Show HN: Beating Pokemon Red with RL and <10M Parameters\n",
      "25: MS Paint IDE\n",
      "26: The Tiny Star Explosions Powering Moore's Law\n",
      "27: Lynx: Open Source Native Cross Platform framework used in TikTok\n",
      "28: The Day the Muse Died\n",
      "29: NCSC, GCHQ, UK Gov't expunge advice to \"use Apple encryption\"\n",
      "30: Intel the CPU Company\n"
     ]
    }
   ],
   "source": [
    "import requests\n",
    "from lxml import html\n",
    "\n",
    "url='https://news.ycombinator.com/'\n",
    "\n",
    "r=requests.get(url)\n",
    "tree=html.fromstring(r.content)\n",
    "#print(html.tostring(tree, pretty_print=True).decode())\n",
    "titles=tree.xpath('//tr[@class=\"athing submission\"]//td[@class=\"title\"]//span[@class=\"titleline\"]/a')\n",
    "\n",
    "for i, title in enumerate(titles, start=1):\n",
    "    print(f\"{i}: {title.text}\")"
   ]
  },
  {
   "cell_type": "code",
   "execution_count": null,
   "metadata": {},
   "outputs": [],
   "source": []
  }
 ],
 "metadata": {
  "colab": {
   "authorship_tag": "ABX9TyPt+rpyqAotmmkf/Nu7/DbQ",
   "collapsed_sections": [],
   "name": "Day6_hw.ipynb",
   "provenance": []
  },
  "kernelspec": {
   "display_name": "base",
   "language": "python",
   "name": "python3"
  },
  "language_info": {
   "codemirror_mode": {
    "name": "ipython",
    "version": 3
   },
   "file_extension": ".py",
   "mimetype": "text/x-python",
   "name": "python",
   "nbconvert_exporter": "python",
   "pygments_lexer": "ipython3",
   "version": "3.12.4"
  }
 },
 "nbformat": 4,
 "nbformat_minor": 0
}
