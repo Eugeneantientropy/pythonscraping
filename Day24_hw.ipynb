{
 "cells": [
  {
   "cell_type": "markdown",
   "metadata": {},
   "source": [
    "# PTT 網路爬蟲實作練習\n",
    "\n",
    "\n",
    "* 能夠利用 Request + BeatifulSour 撰寫爬蟲，並存放到合適的資料結構\n"
   ]
  },
  {
   "cell_type": "markdown",
   "metadata": {},
   "source": [
    "## 作業目標\n",
    "\n",
    "根據範例 ，完成以下問題：\n",
    "\n",
    "* ① 印出最新文章的「作者」「標題」「時間」\n",
    "* ② 印出第一頁所有文章的「作者」「標題」「時間」\n"
   ]
  },
  {
   "cell_type": "markdown",
   "metadata": {},
   "source": [
    "### ① 印出最新文章的「作者」「標題」「時間」"
   ]
  },
  {
   "cell_type": "code",
   "execution_count": 2,
   "metadata": {},
   "outputs": [
    {
     "name": "stdout",
     "output_type": "stream",
     "text": [
      "[花邊] MURRAY關鍵三分+龜龜關鍵抄球\n",
      "[新聞] NBA》還在NBA、有拒絕交易條款　Beal：每\n",
      "[花邊] 湖粉跟塊粉賽後場外打起來了\n",
      "[花邊] LSY-LBJ去看Bryce的比賽並且非常興奮\n",
      "[新聞] 沒有Donovan也宰制　騎士創16連勝隊史\n",
      "[情報] 湖人比賽剩17場 其中10場背靠背\n",
      "[公告] 板規10.1\n",
      "[情報] 2024-25 NBA Schedule (03/01 ~ 04/14)\n",
      "Fw: [情報] 41屆小天使招考（3/10～3/19）\n",
      "[情報] NBA Standings (Mar. 15, 2025)\n"
     ]
    }
   ],
   "source": [
    "import requests\n",
    "from bs4 import BeautifulSoup\n",
    "\n",
    "url = 'https://www.ptt.cc/bbs/NBA/index.html'\n",
    "r = requests.get(url)\n",
    "\n",
    "soup = BeautifulSoup(r.text, \"html.parser\") \n",
    "\n",
    "for d in soup.find_all(class_=\"title\"):\n",
    "    print(d.text.replace('\\t', '').replace('\\n', ''))\n",
    "    try:\n",
    "        r = BeautifulSoup(requests.get('https://www.ptt.cc'+d.find('a')['href']).text, \"html5lib\")\n",
    "        print('作者: ' + r.find(class_='article-meta-value').text)\n",
    "    except:\n",
    "        continue"
   ]
  },
  {
   "cell_type": "markdown",
   "metadata": {},
   "source": [
    "### ② 印出第一頁所有文章的「作者」「標題」「時間」"
   ]
  },
  {
   "cell_type": "code",
   "execution_count": 5,
   "metadata": {},
   "outputs": [
    {
     "name": "stdout",
     "output_type": "stream",
     "text": [
      "標題: [花邊] MURRAY關鍵三分+龜龜關鍵抄球\n",
      "作者: seguignol (seguignol)\n",
      "時間: Sat Mar 15 12:52:27 2025\n",
      "網址: https://www.ptt.cc/bbs/NBA/M.1742014350.A.9D7.html\n",
      "--------------------------------------------------\n",
      "標題: [新聞] NBA》還在NBA、有拒絕交易條款　Beal：每\n",
      "作者: access4096 (吃飯 睡覺 黑富邦)\n",
      "時間: Sat Mar 15 12:58:22 2025\n",
      "網址: https://www.ptt.cc/bbs/NBA/M.1742014706.A.53D.html\n",
      "--------------------------------------------------\n",
      "標題: [花邊] 湖粉跟塊粉賽後場外打起來了\n",
      "作者: pneumo (超☆冒險蓋)\n",
      "時間: Sat Mar 15 13:16:20 2025\n",
      "網址: https://www.ptt.cc/bbs/NBA/M.1742015783.A.CA5.html\n",
      "--------------------------------------------------\n",
      "標題: [花邊] LSY-LBJ去看Bryce的比賽並且非常興奮\n",
      "作者: KC90 ()\n",
      "時間: Sat Mar 15 13:30:47 2025\n",
      "網址: https://www.ptt.cc/bbs/NBA/M.1742016650.A.8D3.html\n",
      "--------------------------------------------------\n",
      "標題: [新聞] 沒有Donovan也宰制　騎士創16連勝隊使\n",
      "作者: s66449 (老實樣)\n",
      "時間: Sat Mar 15 13:37:55 2025\n",
      "網址: https://www.ptt.cc/bbs/NBA/M.1742017078.A.808.html\n",
      "--------------------------------------------------\n",
      "標題: [情報] 湖人比賽剩17場 其中10場背靠背\n",
      "作者: pneumo (超☆冒險蓋)\n",
      "時間: Sat Mar 15 13:56:45 2025\n",
      "網址: https://www.ptt.cc/bbs/NBA/M.1742018208.A.98B.html\n",
      "--------------------------------------------------\n",
      "無法獲取文章內容: [公告] 板規10.1\n",
      "錯誤訊息: list index out of range\n",
      "--------------------------------------------------\n",
      "無法獲取文章內容: [情報] 2024-25 NBA Schedule (03/01 ~ 04/14)\n",
      "錯誤訊息: list index out of range\n",
      "--------------------------------------------------\n",
      "標題: Fw: [情報] 41屆小天使招考（3/10～3/19）\n",
      "作者: pneumo (超☆冒險蓋)\n",
      "時間: Tue Mar 11 10:11:27 2025\n",
      "網址: https://www.ptt.cc/bbs/NBA/M.1741659088.A.0BB.html\n",
      "--------------------------------------------------\n",
      "無法獲取文章內容: [情報] NBA Standings (Mar. 15, 2025)\n",
      "錯誤訊息: list index out of range\n",
      "--------------------------------------------------\n"
     ]
    }
   ],
   "source": [
    "import requests\n",
    "from bs4 import BeautifulSoup\n",
    "\n",
    "# 設定 PTT NBA 版網址\n",
    "url = 'https://www.ptt.cc/bbs/NBA/index.html'\n",
    "\n",
    "# 設定 headers（模擬瀏覽器）\n",
    "headers = {\n",
    "    'User-Agent': 'Mozilla/5.0'\n",
    "}\n",
    "\n",
    "# 取得 PTT NBA 版首頁的 HTML\n",
    "r = requests.get(url, headers=headers)\n",
    "soup = BeautifulSoup(r.text, \"html.parser\")\n",
    "\n",
    "# 找到所有標題區塊\n",
    "for d in soup.find_all(class_=\"title\"):\n",
    "    title = d.text.strip()  # 標題（去除空白）\n",
    "    \n",
    "    # 檢查是否有超連結（有些文章可能已被刪除）\n",
    "    if d.find('a'):\n",
    "        article_url = 'https://www.ptt.cc' + d.find('a')['href']\n",
    "        \n",
    "        # 嘗試進入內頁取得文章資訊\n",
    "        try:\n",
    "            r_article = requests.get(article_url, headers=headers)\n",
    "            soup_article = BeautifulSoup(r_article.text, \"html.parser\")\n",
    "            \n",
    "            # 取得文章的「作者」「標題」「時間」\n",
    "            meta_values = soup_article.find_all(class_='article-meta-value')\n",
    "            \n",
    "            author = meta_values[0].text  # 第一個是作者\n",
    "            title = meta_values[2].text   # 第三個是標題\n",
    "            time = meta_values[3].text    # 第四個是發文時間\n",
    "            \n",
    "            # 印出結果\n",
    "            print(f'標題: {title}')\n",
    "            print(f'作者: {author}')\n",
    "            print(f'時間: {time}')\n",
    "            print(f'網址: {article_url}')\n",
    "            print('-' * 50)\n",
    "\n",
    "        except Exception as e:\n",
    "            print(f\"無法獲取文章內容: {title}\")\n",
    "            print(\"錯誤訊息:\", e)\n",
    "            print('-' * 50)\n",
    "    else:\n",
    "        print(f\"此文章已被刪除或不存在: {title}\")\n",
    "        print('-' * 50)\n"
   ]
  },
  {
   "cell_type": "markdown",
   "metadata": {},
   "source": [
    "### ③ 試著爬爬看其他版的文章"
   ]
  },
  {
   "cell_type": "code",
   "execution_count": 3,
   "metadata": {},
   "outputs": [
    {
     "name": "stdout",
     "output_type": "stream",
     "text": [
      "[購車] Toyota RAV4 汽油旗艦\n",
      "[購車] TOYOTA Altis 汽油豪華/HYBRID豪華\n",
      "[售車] BMW E92 335i\n",
      "[售車] 2016 prius 4\n",
      "[售車] Nissan Tiida 2008 五門(有ikey)\n",
      "[售車] 2014 現代Hyundai ix35 2.0尊貴型\n",
      "[購車] Honda fit 油電\n",
      "[購車] 煥新3 sr lr\n",
      "[購車] Nissan kicks 旗艦版 台南高雄\n",
      "[購車] 2025 Focus ST X WAGON\n",
      "[售車] 售BMW X5M 新北\n",
      "[購車] 徵中古Mazda CX-30\n",
      "[售車]  Suzuki Alto 2014 1.0L 白\n",
      "[售車] 2006 CR-V-SX-2.0(便宜賣)\n",
      "[週邊] 徵和泰點數1500點 （已徵到）\n",
      "[購車] Mazda CX30 Signature\n",
      "[購車] 2025年 Toyota ALTIS油電豪華版 報價\n",
      "[週邊] 徵和泰點數1700點\n",
      "[週邊] 徵求 和泰點數1500點\n",
      "[購車] VW ID.5 Pro S\n",
      "[公告] CarShop 板規釋義『發文前必讀！』\n",
      "[公告] CarShop 板規\n",
      "[公告] 置底檢舉區\n",
      "[公告] 禁止販售車輛報廢相關文件\n"
     ]
    }
   ],
   "source": [
    "import requests\n",
    "from bs4 import BeautifulSoup\n",
    "\n",
    "url = 'https://www.ptt.cc/bbs/carshop/index.html'\n",
    "r = requests.get(url)\n",
    "\n",
    "soup = BeautifulSoup(r.text, \"html.parser\") \n",
    "\n",
    "for d in soup.find_all(class_=\"title\"):\n",
    "    print(d.text.replace('\\t', '').replace('\\n', ''))\n",
    "    try:\n",
    "        r = BeautifulSoup(requests.get('https://www.ptt.cc'+d.find('a')['href']).text, \"html5lib\")\n",
    "        print('作者: ' + r.find(class_='article-meta-value').text)\n",
    "    except:\n",
    "        continue"
   ]
  },
  {
   "cell_type": "code",
   "execution_count": null,
   "metadata": {},
   "outputs": [],
   "source": []
  }
 ],
 "metadata": {
  "kernelspec": {
   "display_name": "base",
   "language": "python",
   "name": "python3"
  },
  "language_info": {
   "codemirror_mode": {
    "name": "ipython",
    "version": 3
   },
   "file_extension": ".py",
   "mimetype": "text/x-python",
   "name": "python",
   "nbconvert_exporter": "python",
   "pygments_lexer": "ipython3",
   "version": "3.12.4"
  }
 },
 "nbformat": 4,
 "nbformat_minor": 2
}
