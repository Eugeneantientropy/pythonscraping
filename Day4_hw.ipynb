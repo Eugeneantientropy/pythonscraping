{
 "cells": [
  {
   "cell_type": "markdown",
   "metadata": {
    "id": "RmEW9BEct8Fk"
   },
   "source": [
    "## 作業說明\n",
    "\n",
    "今天我們介紹了爬蟲所需的 HTTP 基本知識，包含 server-client 架構、 Requests 方法、HTTP Response 狀態碼及 HTTP協定中的 cookie 和 seesions。\n",
    "\n",
    "請學員回答以下問題：\n"
   ]
  },
  {
   "cell_type": "markdown",
   "metadata": {
    "id": "A12euxEYyD_y"
   },
   "source": [
    "### HTTP Response Status Code 狀態碼\n",
    "- Status code: **200** 代表的意思是？\n",
    "- Status code: **301** 代表的意思是？\n",
    "- Status code: **302** 代表的意思是？\n",
    "- Status code: **502** 代表的意思是？\n",
    "\n",
    "Hint: 可以到[這個網址](https://developer.mozilla.org/zh-TW/docs/Web/HTTP/Status)查詢相關資料"
   ]
  },
  {
   "cell_type": "code",
   "execution_count": null,
   "metadata": {
    "id": "jD3-yxQ4uAaL"
   },
   "outputs": [],
   "source": [
    "Status code: 200 代表的意思是？\n",
    "請求成功。「成功」的結果含義取決於 HTTP 方法：\n",
    "\n",
    "GET：資源已被檢索並在訊息主體中傳送。\n",
    "HEAD：回應中包含表示標頭，但沒有任何訊息主體。\n",
    "PUT 或 POST：描述操作結果的資源在訊息主體中傳送。\n",
    "TRACE：訊息主體包含了伺服器接收到的請求訊息。\n",
    "Status code: 301 代表的意思是？\n",
    "301 Moved Permanently\n",
    "所請求的資源的 URL 已永久更改。新的 URL 在回應中給出。\n",
    "Status code: 302 代表的意思是？\n",
    "302 Found\n",
    "此回應代碼表示所請求的資源的 URI 已暫時更改。將來可能對 URI 進行進一步更改。因此，用戶端應在以後的請求中使用相同的 URI。\n",
    "Status code: 502 代表的意思是？\n",
    "501 Not Implemented\n",
    "伺服器不支援請求方法，無法處理。伺服器需要支援的唯一方法（因此不應返回此代碼）是 GET 和 HEAD。"
   ]
  }
 ],
 "metadata": {
  "colab": {
   "authorship_tag": "ABX9TyNFiQWZYRwukoEMBTHCLuGy",
   "collapsed_sections": [],
   "name": "Day4_hw.ipynb",
   "provenance": []
  },
  "kernelspec": {
   "display_name": "Python 3",
   "name": "python3"
  },
  "language_info": {
   "name": "python"
  }
 },
 "nbformat": 4,
 "nbformat_minor": 0
}
